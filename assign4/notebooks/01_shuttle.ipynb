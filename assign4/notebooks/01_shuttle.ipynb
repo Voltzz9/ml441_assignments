{
 "cells": [
  {
   "cell_type": "markdown",
   "id": "0d87864b",
   "metadata": {},
   "source": [
    "# Assignment 4 Isolation Forests"
   ]
  },
  {
   "cell_type": "markdown",
   "id": "50040aae",
   "metadata": {},
   "source": [
    "### David Nicolay 26296918"
   ]
  },
  {
   "cell_type": "code",
   "execution_count": 75,
   "id": "a42b17b7",
   "metadata": {},
   "outputs": [],
   "source": [
    "# imports\n",
    "import numpy as np\n",
    "import pandas as pd\n",
    "import matplotlib.pyplot as plt\n",
    "from sklearn.ensemble import IsolationForest\n",
    "from sklearn.metrics import precision_score, recall_score, f1_score, roc_auc_score, average_precision_score\n",
    "from sklearn.model_selection import train_test_split\n",
    "import seaborn as sns\n",
    "import os\n",
    "import json\n",
    "from time import time\n",
    "import warnings\n",
    "warnings.filterwarnings('ignore')\n",
    "\n",
    "\n",
    "# import my utils\n",
    "import sys\n",
    "sys.path.append('../')\n",
    "from src.plots import plot_f1_vs_param_size, plot_training_time_vs_param_size\n",
    "from src.modelling import evaluate_isolation_forest, evaluate_isolation_forest_with_std"
   ]
  },
  {
   "cell_type": "markdown",
   "id": "ded31ae1",
   "metadata": {},
   "source": [
    "## Data Preparation\n"
   ]
  },
  {
   "cell_type": "code",
   "execution_count": 76,
   "id": "de721ebd",
   "metadata": {},
   "outputs": [],
   "source": [
    "dataset = 'shuttle'"
   ]
  },
  {
   "cell_type": "code",
   "execution_count": 77,
   "id": "01cf44d5",
   "metadata": {},
   "outputs": [],
   "source": [
    "df_np = np.load('../datasets/{}.npz'.format(dataset))"
   ]
  },
  {
   "cell_type": "code",
   "execution_count": 78,
   "id": "c8e7ec31",
   "metadata": {},
   "outputs": [],
   "source": [
    "# convert to dataframe\n",
    "df = pd.DataFrame(df_np['X'], columns=[f'feature_{i}' for i in range(df_np['X'].shape[1])])\n",
    "df['label'] = df_np['y']"
   ]
  },
  {
   "cell_type": "code",
   "execution_count": 79,
   "id": "38738813",
   "metadata": {},
   "outputs": [
    {
     "data": {
      "application/vnd.microsoft.datawrangler.viewer.v0+json": {
       "columns": [
        {
         "name": "index",
         "rawType": "int64",
         "type": "integer"
        },
        {
         "name": "feature_0",
         "rawType": "int16",
         "type": "integer"
        },
        {
         "name": "feature_1",
         "rawType": "int16",
         "type": "integer"
        },
        {
         "name": "feature_2",
         "rawType": "int16",
         "type": "integer"
        },
        {
         "name": "feature_3",
         "rawType": "int16",
         "type": "integer"
        },
        {
         "name": "feature_4",
         "rawType": "int16",
         "type": "integer"
        },
        {
         "name": "feature_5",
         "rawType": "int16",
         "type": "integer"
        },
        {
         "name": "feature_6",
         "rawType": "int16",
         "type": "integer"
        },
        {
         "name": "feature_7",
         "rawType": "int16",
         "type": "integer"
        },
        {
         "name": "feature_8",
         "rawType": "int16",
         "type": "integer"
        },
        {
         "name": "label",
         "rawType": "int64",
         "type": "integer"
        }
       ],
       "ref": "febba8a2-ad77-4e94-b266-4418b8d317ce",
       "rows": [
        [
         "0",
         "50",
         "21",
         "77",
         "0",
         "28",
         "0",
         "27",
         "48",
         "22",
         "1"
        ],
        [
         "1",
         "53",
         "0",
         "82",
         "0",
         "52",
         "-5",
         "29",
         "30",
         "2",
         "0"
        ],
        [
         "2",
         "37",
         "0",
         "76",
         "0",
         "28",
         "18",
         "40",
         "48",
         "8",
         "0"
        ],
        [
         "3",
         "37",
         "0",
         "79",
         "0",
         "34",
         "-26",
         "43",
         "46",
         "2",
         "0"
        ],
        [
         "4",
         "85",
         "0",
         "88",
         "-4",
         "6",
         "1",
         "3",
         "83",
         "80",
         "1"
        ],
        [
         "5",
         "55",
         "-1",
         "95",
         "-3",
         "54",
         "-4",
         "40",
         "41",
         "2",
         "0"
        ],
        [
         "6",
         "37",
         "0",
         "101",
         "-7",
         "28",
         "0",
         "64",
         "73",
         "8",
         "0"
        ],
        [
         "7",
         "37",
         "0",
         "78",
         "-2",
         "12",
         "0",
         "42",
         "65",
         "24",
         "0"
        ],
        [
         "8",
         "45",
         "0",
         "84",
         "0",
         "46",
         "20",
         "38",
         "37",
         "0",
         "0"
        ],
        [
         "9",
         "38",
         "2",
         "77",
         "0",
         "38",
         "7",
         "39",
         "38",
         "0",
         "0"
        ],
        [
         "10",
         "37",
         "0",
         "78",
         "0",
         "-2",
         "5",
         "41",
         "81",
         "40",
         "0"
        ],
        [
         "11",
         "41",
         "0",
         "100",
         "0",
         "38",
         "-8",
         "59",
         "61",
         "2",
         "0"
        ],
        [
         "12",
         "41",
         "0",
         "89",
         "1",
         "38",
         "-16",
         "48",
         "50",
         "2",
         "0"
        ],
        [
         "13",
         "47",
         "0",
         "85",
         "-2",
         "46",
         "-4",
         "38",
         "39",
         "0",
         "0"
        ],
        [
         "14",
         "49",
         "0",
         "79",
         "0",
         "46",
         "-5",
         "30",
         "32",
         "2",
         "0"
        ],
        [
         "15",
         "49",
         "3",
         "82",
         "0",
         "50",
         "4",
         "33",
         "33",
         "0",
         "0"
        ],
        [
         "16",
         "37",
         "-318",
         "105",
         "-2",
         "36",
         "-4",
         "68",
         "69",
         "0",
         "0"
        ],
        [
         "17",
         "44",
         "3",
         "77",
         "0",
         "44",
         "2",
         "33",
         "33",
         "0",
         "0"
        ],
        [
         "18",
         "106",
         "2",
         "108",
         "0",
         "70",
         "0",
         "1",
         "38",
         "36",
         "1"
        ],
        [
         "19",
         "37",
         "-5",
         "76",
         "0",
         "28",
         "0",
         "40",
         "48",
         "8",
         "0"
        ],
        [
         "20",
         "49",
         "0",
         "100",
         "0",
         "50",
         "19",
         "52",
         "51",
         "0",
         "0"
        ],
        [
         "21",
         "45",
         "-1",
         "87",
         "-2",
         "44",
         "-4",
         "43",
         "43",
         "0",
         "0"
        ],
        [
         "22",
         "37",
         "4",
         "80",
         "0",
         "-2",
         "0",
         "43",
         "83",
         "40",
         "0"
        ],
        [
         "23",
         "55",
         "0",
         "86",
         "8",
         "54",
         "0",
         "31",
         "32",
         "0",
         "0"
        ],
        [
         "24",
         "55",
         "3",
         "88",
         "3",
         "54",
         "0",
         "32",
         "33",
         "2",
         "0"
        ],
        [
         "25",
         "37",
         "0",
         "74",
         "0",
         "26",
         "-1",
         "38",
         "48",
         "10",
         "0"
        ],
        [
         "26",
         "37",
         "0",
         "106",
         "0",
         "36",
         "3",
         "68",
         "69",
         "2",
         "0"
        ],
        [
         "27",
         "49",
         "0",
         "107",
         "0",
         "46",
         "-16",
         "58",
         "60",
         "2",
         "0"
        ],
        [
         "28",
         "79",
         "5",
         "83",
         "0",
         "-46",
         "0",
         "4",
         "130",
         "126",
         "1"
        ],
        [
         "29",
         "51",
         "0",
         "79",
         "0",
         "52",
         "29",
         "28",
         "27",
         "0",
         "0"
        ],
        [
         "30",
         "59",
         "4",
         "84",
         "0",
         "60",
         "24",
         "25",
         "24",
         "0",
         "0"
        ],
        [
         "31",
         "37",
         "0",
         "108",
         "0",
         "30",
         "-21",
         "71",
         "77",
         "6",
         "0"
        ],
        [
         "32",
         "39",
         "5",
         "77",
         "0",
         "38",
         "0",
         "37",
         "38",
         "0",
         "0"
        ],
        [
         "33",
         "51",
         "-5",
         "81",
         "0",
         "52",
         "0",
         "30",
         "30",
         "0",
         "0"
        ],
        [
         "34",
         "49",
         "0",
         "77",
         "0",
         "46",
         "-9",
         "29",
         "31",
         "2",
         "0"
        ],
        [
         "35",
         "46",
         "2",
         "77",
         "0",
         "44",
         "-19",
         "32",
         "34",
         "2",
         "0"
        ],
        [
         "36",
         "56",
         "0",
         "81",
         "0",
         "56",
         "0",
         "24",
         "24",
         "0",
         "0"
        ],
        [
         "37",
         "37",
         "0",
         "105",
         "0",
         "34",
         "4",
         "68",
         "71",
         "4",
         "0"
        ],
        [
         "38",
         "76",
         "0",
         "81",
         "-2",
         "-40",
         "13",
         "5",
         "122",
         "118",
         "1"
        ],
        [
         "39",
         "56",
         "0",
         "80",
         "0",
         "56",
         "7",
         "24",
         "23",
         "0",
         "0"
        ],
        [
         "40",
         "41",
         "2",
         "76",
         "0",
         "42",
         "11",
         "35",
         "35",
         "0",
         "0"
        ],
        [
         "41",
         "41",
         "1",
         "85",
         "0",
         "38",
         "0",
         "44",
         "46",
         "2",
         "0"
        ],
        [
         "42",
         "49",
         "0",
         "95",
         "1",
         "50",
         "2",
         "46",
         "46",
         "0",
         "0"
        ],
        [
         "43",
         "37",
         "2",
         "76",
         "0",
         "36",
         "0",
         "38",
         "39",
         "2",
         "0"
        ],
        [
         "44",
         "56",
         "-4",
         "88",
         "0",
         "56",
         "0",
         "31",
         "31",
         "0",
         "0"
        ],
        [
         "45",
         "37",
         "-3",
         "81",
         "-2",
         "38",
         "-9",
         "43",
         "42",
         "0",
         "0"
        ],
        [
         "46",
         "47",
         "0",
         "84",
         "4",
         "46",
         "0",
         "38",
         "38",
         "0",
         "0"
        ],
        [
         "47",
         "41",
         "1",
         "86",
         "2",
         "42",
         "14",
         "45",
         "45",
         "0",
         "0"
        ],
        [
         "48",
         "53",
         "3",
         "81",
         "0",
         "54",
         "0",
         "27",
         "26",
         "0",
         "0"
        ],
        [
         "49",
         "47",
         "5",
         "79",
         "0",
         "46",
         "0",
         "32",
         "32",
         "0",
         "0"
        ]
       ],
       "shape": {
        "columns": 10,
        "rows": 49097
       }
      },
      "text/html": [
       "<div>\n",
       "<style scoped>\n",
       "    .dataframe tbody tr th:only-of-type {\n",
       "        vertical-align: middle;\n",
       "    }\n",
       "\n",
       "    .dataframe tbody tr th {\n",
       "        vertical-align: top;\n",
       "    }\n",
       "\n",
       "    .dataframe thead th {\n",
       "        text-align: right;\n",
       "    }\n",
       "</style>\n",
       "<table border=\"1\" class=\"dataframe\">\n",
       "  <thead>\n",
       "    <tr style=\"text-align: right;\">\n",
       "      <th></th>\n",
       "      <th>feature_0</th>\n",
       "      <th>feature_1</th>\n",
       "      <th>feature_2</th>\n",
       "      <th>feature_3</th>\n",
       "      <th>feature_4</th>\n",
       "      <th>feature_5</th>\n",
       "      <th>feature_6</th>\n",
       "      <th>feature_7</th>\n",
       "      <th>feature_8</th>\n",
       "      <th>label</th>\n",
       "    </tr>\n",
       "  </thead>\n",
       "  <tbody>\n",
       "    <tr>\n",
       "      <th>0</th>\n",
       "      <td>50</td>\n",
       "      <td>21</td>\n",
       "      <td>77</td>\n",
       "      <td>0</td>\n",
       "      <td>28</td>\n",
       "      <td>0</td>\n",
       "      <td>27</td>\n",
       "      <td>48</td>\n",
       "      <td>22</td>\n",
       "      <td>1</td>\n",
       "    </tr>\n",
       "    <tr>\n",
       "      <th>1</th>\n",
       "      <td>53</td>\n",
       "      <td>0</td>\n",
       "      <td>82</td>\n",
       "      <td>0</td>\n",
       "      <td>52</td>\n",
       "      <td>-5</td>\n",
       "      <td>29</td>\n",
       "      <td>30</td>\n",
       "      <td>2</td>\n",
       "      <td>0</td>\n",
       "    </tr>\n",
       "    <tr>\n",
       "      <th>2</th>\n",
       "      <td>37</td>\n",
       "      <td>0</td>\n",
       "      <td>76</td>\n",
       "      <td>0</td>\n",
       "      <td>28</td>\n",
       "      <td>18</td>\n",
       "      <td>40</td>\n",
       "      <td>48</td>\n",
       "      <td>8</td>\n",
       "      <td>0</td>\n",
       "    </tr>\n",
       "    <tr>\n",
       "      <th>3</th>\n",
       "      <td>37</td>\n",
       "      <td>0</td>\n",
       "      <td>79</td>\n",
       "      <td>0</td>\n",
       "      <td>34</td>\n",
       "      <td>-26</td>\n",
       "      <td>43</td>\n",
       "      <td>46</td>\n",
       "      <td>2</td>\n",
       "      <td>0</td>\n",
       "    </tr>\n",
       "    <tr>\n",
       "      <th>4</th>\n",
       "      <td>85</td>\n",
       "      <td>0</td>\n",
       "      <td>88</td>\n",
       "      <td>-4</td>\n",
       "      <td>6</td>\n",
       "      <td>1</td>\n",
       "      <td>3</td>\n",
       "      <td>83</td>\n",
       "      <td>80</td>\n",
       "      <td>1</td>\n",
       "    </tr>\n",
       "    <tr>\n",
       "      <th>...</th>\n",
       "      <td>...</td>\n",
       "      <td>...</td>\n",
       "      <td>...</td>\n",
       "      <td>...</td>\n",
       "      <td>...</td>\n",
       "      <td>...</td>\n",
       "      <td>...</td>\n",
       "      <td>...</td>\n",
       "      <td>...</td>\n",
       "      <td>...</td>\n",
       "    </tr>\n",
       "    <tr>\n",
       "      <th>49092</th>\n",
       "      <td>39</td>\n",
       "      <td>-2</td>\n",
       "      <td>80</td>\n",
       "      <td>-4</td>\n",
       "      <td>38</td>\n",
       "      <td>0</td>\n",
       "      <td>41</td>\n",
       "      <td>41</td>\n",
       "      <td>0</td>\n",
       "      <td>0</td>\n",
       "    </tr>\n",
       "    <tr>\n",
       "      <th>49093</th>\n",
       "      <td>43</td>\n",
       "      <td>0</td>\n",
       "      <td>81</td>\n",
       "      <td>1</td>\n",
       "      <td>42</td>\n",
       "      <td>-9</td>\n",
       "      <td>37</td>\n",
       "      <td>39</td>\n",
       "      <td>2</td>\n",
       "      <td>0</td>\n",
       "    </tr>\n",
       "    <tr>\n",
       "      <th>49094</th>\n",
       "      <td>49</td>\n",
       "      <td>0</td>\n",
       "      <td>87</td>\n",
       "      <td>0</td>\n",
       "      <td>46</td>\n",
       "      <td>-12</td>\n",
       "      <td>38</td>\n",
       "      <td>41</td>\n",
       "      <td>2</td>\n",
       "      <td>0</td>\n",
       "    </tr>\n",
       "    <tr>\n",
       "      <th>49095</th>\n",
       "      <td>80</td>\n",
       "      <td>0</td>\n",
       "      <td>84</td>\n",
       "      <td>0</td>\n",
       "      <td>-36</td>\n",
       "      <td>-29</td>\n",
       "      <td>4</td>\n",
       "      <td>120</td>\n",
       "      <td>116</td>\n",
       "      <td>1</td>\n",
       "    </tr>\n",
       "    <tr>\n",
       "      <th>49096</th>\n",
       "      <td>37</td>\n",
       "      <td>0</td>\n",
       "      <td>103</td>\n",
       "      <td>0</td>\n",
       "      <td>18</td>\n",
       "      <td>-16</td>\n",
       "      <td>66</td>\n",
       "      <td>85</td>\n",
       "      <td>20</td>\n",
       "      <td>0</td>\n",
       "    </tr>\n",
       "  </tbody>\n",
       "</table>\n",
       "<p>49097 rows × 10 columns</p>\n",
       "</div>"
      ],
      "text/plain": [
       "       feature_0  feature_1  feature_2  feature_3  feature_4  feature_5  \\\n",
       "0             50         21         77          0         28          0   \n",
       "1             53          0         82          0         52         -5   \n",
       "2             37          0         76          0         28         18   \n",
       "3             37          0         79          0         34        -26   \n",
       "4             85          0         88         -4          6          1   \n",
       "...          ...        ...        ...        ...        ...        ...   \n",
       "49092         39         -2         80         -4         38          0   \n",
       "49093         43          0         81          1         42         -9   \n",
       "49094         49          0         87          0         46        -12   \n",
       "49095         80          0         84          0        -36        -29   \n",
       "49096         37          0        103          0         18        -16   \n",
       "\n",
       "       feature_6  feature_7  feature_8  label  \n",
       "0             27         48         22      1  \n",
       "1             29         30          2      0  \n",
       "2             40         48          8      0  \n",
       "3             43         46          2      0  \n",
       "4              3         83         80      1  \n",
       "...          ...        ...        ...    ...  \n",
       "49092         41         41          0      0  \n",
       "49093         37         39          2      0  \n",
       "49094         38         41          2      0  \n",
       "49095          4        120        116      1  \n",
       "49096         66         85         20      0  \n",
       "\n",
       "[49097 rows x 10 columns]"
      ]
     },
     "execution_count": 79,
     "metadata": {},
     "output_type": "execute_result"
    }
   ],
   "source": [
    "df"
   ]
  },
  {
   "cell_type": "code",
   "execution_count": 80,
   "id": "3ff3caab",
   "metadata": {},
   "outputs": [
    {
     "name": "stdout",
     "output_type": "stream",
     "text": [
      "Dataset shape: (49097, 10)\n",
      "\n",
      "Label distribution:\n",
      "label\n",
      "0    45586\n",
      "1     3511\n",
      "Name: count, dtype: int64\n",
      "\n",
      "Anomaly percentage: 0.00%\n",
      "\n",
      "Feature statistics:\n",
      "          feature_0     feature_1     feature_2     feature_3     feature_4  \\\n",
      "count  49097.000000  49097.000000  49097.000000  49097.000000  49097.000000   \n",
      "mean      46.932399     -0.063955     85.123124      0.213231     36.871784   \n",
      "std       12.875159     84.674481      8.877517     37.579171     19.963113   \n",
      "min       27.000000  -4821.000000     21.000000  -3939.000000   -188.000000   \n",
      "25%       37.000000      0.000000     79.000000      0.000000     30.000000   \n",
      "50%       44.000000      0.000000     83.000000      0.000000     42.000000   \n",
      "75%       50.000000      0.000000     88.000000      0.000000     46.000000   \n",
      "max      126.000000   5075.000000    149.000000   3830.000000    436.000000   \n",
      "\n",
      "          feature_5     feature_6     feature_7     feature_8  \n",
      "count  49097.000000  49097.000000  49097.000000  49097.000000  \n",
      "mean       2.160030     38.200725     48.288592     10.261930  \n",
      "std      218.324964     13.446306     20.572064     23.751024  \n",
      "min   -26739.000000    -48.000000   -353.000000   -356.000000  \n",
      "25%       -4.000000     33.000000     35.000000      0.000000  \n",
      "50%        0.000000     39.000000     41.000000      2.000000  \n",
      "75%        5.000000     43.000000     55.000000      6.000000  \n",
      "max    15164.000000    105.000000    270.000000    266.000000  \n"
     ]
    }
   ],
   "source": [
    "# Explore the data\n",
    "print(f\"Dataset shape: {df.shape}\")\n",
    "print(f\"\\nLabel distribution:\")\n",
    "print(df['label'].value_counts())\n",
    "print(f\"\\nAnomaly percentage: {(df['label'] == -1).sum() / len(df) * 100:.2f}%\")\n",
    "print(f\"\\nFeature statistics:\")\n",
    "print(df.drop('label', axis=1).describe())"
   ]
  },
  {
   "cell_type": "code",
   "execution_count": 81,
   "id": "4468f7ac",
   "metadata": {},
   "outputs": [
    {
     "name": "stdout",
     "output_type": "stream",
     "text": [
      "Results will be saved to: ../results/shuttle\n"
     ]
    }
   ],
   "source": [
    "# Create results directory\n",
    "results_dir = f'../results/{dataset}'\n",
    "os.makedirs(results_dir, exist_ok=True)\n",
    "print(f\"Results will be saved to: {results_dir}\")"
   ]
  },
  {
   "cell_type": "code",
   "execution_count": 82,
   "id": "f13c5df8",
   "metadata": {},
   "outputs": [
    {
     "name": "stdout",
     "output_type": "stream",
     "text": [
      "Feature matrix shape: (49097, 9)\n",
      "Labels shape: (49097,)\n",
      "Number of anomalies: 3511\n",
      "Number of normal instances: 45586\n"
     ]
    }
   ],
   "source": [
    "# Split data into features and labels\n",
    "X = df.drop('label', axis=1).values\n",
    "y = df['label'].values\n",
    "\n",
    "\n",
    "print(f\"Feature matrix shape: {X.shape}\")\n",
    "print(f\"Labels shape: {y.shape}\")\n",
    "print(f\"Number of anomalies: {y.sum()}\")\n",
    "print(f\"Number of normal instances: {(y == 0).sum()}\")"
   ]
  },
  {
   "cell_type": "markdown",
   "id": "0161db20",
   "metadata": {},
   "source": [
    "## Modelling"
   ]
  },
  {
   "cell_type": "code",
   "execution_count": 83,
   "id": "fb52dba9",
   "metadata": {},
   "outputs": [
    {
     "name": "stdout",
     "output_type": "stream",
     "text": [
      "Control Parameters to be analyzed:\n",
      "  n_estimators: [50, 100, 200, 300, 500]\n",
      "  max_samples: [64, 128, 256, 'auto']\n",
      "  contamination: [0.01, 0.05, 0.1, 0.15, 0.2, 0.25, 0.3]\n",
      "  max_features: [1, 2, 3, 4, 5, 'auto']\n",
      "  bootstrap: [True, False]\n"
     ]
    }
   ],
   "source": [
    "# Define comprehensive parameter grid for Isolation Forest\n",
    "param_grid = {\n",
    "    'n_estimators': [50, 100, 200, 300, 500],  # Number of trees\n",
    "    'max_samples': [64, 128, 256, 'auto'],  # Number of samples to draw\n",
    "    'contamination': [0.01, 0.05, 0.1, 0.15, 0.2, 0.25, 0.3],  # Expected proportion of outliers\n",
    "    'max_features': [1, 2, 3, 4, 5, 'auto'],  # Number of features to draw\n",
    "    'bootstrap': [True, False]  # Whether to use bootstrap sampling\n",
    "}\n",
    "\n",
    "print(\"Control Parameters to be analyzed:\")\n",
    "for param, values in param_grid.items():\n",
    "    print(f\"  {param}: {values}\")"
   ]
  },
  {
   "cell_type": "code",
   "execution_count": 84,
   "id": "630a13c7",
   "metadata": {},
   "outputs": [
    {
     "name": "stdout",
     "output_type": "stream",
     "text": [
      "Base parameters:\n",
      "  n_estimators: 100\n",
      "  max_samples: auto\n",
      "  contamination: 0.1\n",
      "  max_features: 1.0\n",
      "  bootstrap: False\n",
      "  random_state: 12\n"
     ]
    }
   ],
   "source": [
    "# Define base parameters (default/reasonable values)\n",
    "base_params = {\n",
    "    'n_estimators': 100,\n",
    "    'max_samples': 'auto',\n",
    "    'contamination': 0.1,\n",
    "    'max_features': 1.0,\n",
    "    'bootstrap': False,\n",
    "    'random_state': 12\n",
    "}\n",
    "\n",
    "print(\"Base parameters:\")\n",
    "for param, value in base_params.items():\n",
    "    print(f\"  {param}: {value}\")"
   ]
  },
  {
   "cell_type": "markdown",
   "id": "a1b54265",
   "metadata": {},
   "source": [
    "### Base model to check setup"
   ]
  },
  {
   "cell_type": "code",
   "execution_count": 86,
   "id": "ac0be14d",
   "metadata": {},
   "outputs": [
    {
     "data": {
      "text/plain": [
       "{'param_name': None,\n",
       " 'param_value': None,\n",
       " 'precision_mean': np.float64(0.7045621181262729),\n",
       " 'precision_std': np.float64(0.0017524745225497983),\n",
       " 'precision_min': np.float64(0.7018329938900204),\n",
       " 'precision_max': np.float64(0.7073319755600814),\n",
       " 'recall_mean': np.float64(0.9853033323839364),\n",
       " 'recall_std': np.float64(0.002450768984824723),\n",
       " 'recall_min': np.float64(0.9814867559099971),\n",
       " 'recall_max': np.float64(0.9891768726858445),\n",
       " 'f1_score_mean': np.float64(0.8216126350789692),\n",
       " 'f1_score_std': np.float64(0.002043617125215426),\n",
       " 'f1_score_min': np.float64(0.81843011518822),\n",
       " 'f1_score_max': np.float64(0.8248426552665954),\n",
       " 'roc_auc_mean': np.float64(0.9974462427147163),\n",
       " 'roc_auc_std': np.float64(0.0009512243129058646),\n",
       " 'roc_auc_min': np.float64(0.9956536434313538),\n",
       " 'roc_auc_max': np.float64(0.9984494832400125),\n",
       " 'pr_auc_mean': np.float64(0.9802776001985978),\n",
       " 'pr_auc_std': np.float64(0.006063044094571239),\n",
       " 'pr_auc_min': np.float64(0.969311843060083),\n",
       " 'pr_auc_max': np.float64(0.9868977609110523),\n",
       " 'avg_path_length_mean': np.float64(0.08587494947283401),\n",
       " 'avg_path_length_std': np.float64(0.005510861223335645),\n",
       " 'avg_path_length_min': np.float64(0.07846889589796505),\n",
       " 'avg_path_length_max': np.float64(0.09322109167113693),\n",
       " 'training_time_mean': np.float64(1.3945324897766114),\n",
       " 'training_time_std': np.float64(0.02849239973092213),\n",
       " 'training_time_total': 14.202229261398315,\n",
       " 'n_anomalies_detected_mean': np.float64(4910.0),\n",
       " 'n_anomalies_detected_std': np.float64(0.0),\n",
       " 'n_anomalies_detected_min': np.int64(4910),\n",
       " 'n_anomalies_detected_max': np.int64(4910),\n",
       " 'jaccard_similarity_mean': np.float64(0.8652054209969129),\n",
       " 'jaccard_similarity_std': np.float64(0.0249359392356002),\n",
       " 'jaccard_similarity_min': np.float64(0.821554442589501),\n",
       " 'jaccard_similarity_max': np.float64(0.9042078727942602),\n",
       " 'memory_usage_mb': 8.823575019836426,\n",
       " 'n_runs': 10,\n",
       " 'params': {'n_estimators': 100,\n",
       "  'max_samples': 'auto',\n",
       "  'contamination': 0.1,\n",
       "  'max_features': 1.0,\n",
       "  'bootstrap': False,\n",
       "  'random_state': 12}}"
      ]
     },
     "execution_count": 86,
     "metadata": {},
     "output_type": "execute_result"
    }
   ],
   "source": [
    "evaluate_isolation_forest_with_std(X, y, base_params)"
   ]
  },
  {
   "cell_type": "markdown",
   "id": "b2787646",
   "metadata": {},
   "source": [
    "## Evaluate Parameter Changes"
   ]
  },
  {
   "cell_type": "markdown",
   "id": "2bfeeb0c",
   "metadata": {},
   "source": [
    "### Num estimators"
   ]
  },
  {
   "cell_type": "code",
   "execution_count": 87,
   "id": "c29615c1",
   "metadata": {},
   "outputs": [],
   "source": [
    "# first run on list of lots of parameters\n",
    "num_est_grid = [\n",
    "    10, 25, 50, 75, 100, 150, 200, 250,\n",
    "    300, 350, 400, 450, 500, 600, 700, 800,\n",
    "    900, 1000, 1250, 1500, 1750, 2000\n",
    "]\n"
   ]
  },
  {
   "cell_type": "code",
   "execution_count": null,
   "id": "40ee43e3",
   "metadata": {},
   "outputs": [
    {
     "name": "stdout",
     "output_type": "stream",
     "text": [
      "Running Isolation Forest with n_estimators=10\n",
      "Running Isolation Forest with n_estimators=25\n",
      "Running Isolation Forest with n_estimators=50\n",
      "Running Isolation Forest with n_estimators=75\n",
      "Running Isolation Forest with n_estimators=100\n",
      "Running Isolation Forest with n_estimators=150\n",
      "Running Isolation Forest with n_estimators=200\n",
      "Running Isolation Forest with n_estimators=250\n",
      "Running Isolation Forest with n_estimators=300\n",
      "Running Isolation Forest with n_estimators=350\n",
      "Running Isolation Forest with n_estimators=400\n",
      "Running Isolation Forest with n_estimators=450\n",
      "Running Isolation Forest with n_estimators=500\n",
      "Running Isolation Forest with n_estimators=600\n",
      "Running Isolation Forest with n_estimators=700\n",
      "Running Isolation Forest with n_estimators=800\n",
      "Running Isolation Forest with n_estimators=900\n",
      "Running Isolation Forest with n_estimators=1000\n",
      "Running Isolation Forest with n_estimators=1250\n"
     ]
    }
   ],
   "source": [
    "# run models\n",
    "n_estimators_results = []\n",
    "csv_path = os.path.join(results_dir, 'num_est_results.csv')\n",
    "# remove existing csv if exists\n",
    "if os.path.exists(csv_path):\n",
    "    os.remove(csv_path)\n",
    "\n",
    "for num_est in num_est_grid:\n",
    "    params = base_params.copy()\n",
    "    params['n_estimators'] = num_est\n",
    "    \n",
    "    print(f\"Running Isolation Forest with n_estimators={num_est}\")\n",
    "    result = evaluate_isolation_forest_with_std(X, y, params, 'n_estimators', num_est)\n",
    "    \n",
    "    # append results to csv\n",
    "    result_df = pd.DataFrame([result])\n",
    "    \n",
    "    # Write header if file doesn't exist, otherwise append\n",
    "    if not os.path.exists(csv_path):\n",
    "        result_df.to_csv(csv_path, mode='w', header=True, index=False)\n",
    "    else:\n",
    "        result_df.to_csv(csv_path, mode='a', header=False, index=False)\n",
    "    \n",
    "    n_estimators_results.append(result)"
   ]
  },
  {
   "cell_type": "code",
   "execution_count": null,
   "id": "e1d83630",
   "metadata": {},
   "outputs": [],
   "source": []
  },
  {
   "cell_type": "markdown",
   "id": "b9ec5ff5",
   "metadata": {},
   "source": [
    "#### 1. Convergence Curve"
   ]
  },
  {
   "cell_type": "code",
   "execution_count": null,
   "id": "06e74ae4",
   "metadata": {},
   "outputs": [],
   "source": []
  },
  {
   "cell_type": "code",
   "execution_count": null,
   "id": "e94f59c8",
   "metadata": {},
   "outputs": [],
   "source": []
  },
  {
   "cell_type": "markdown",
   "id": "2f50e1dd",
   "metadata": {},
   "source": [
    "#### 2. Stability Analysis: Variance reduction"
   ]
  },
  {
   "cell_type": "code",
   "execution_count": null,
   "id": "50a91b9c",
   "metadata": {},
   "outputs": [],
   "source": []
  },
  {
   "cell_type": "code",
   "execution_count": null,
   "id": "d69a9204",
   "metadata": {},
   "outputs": [],
   "source": []
  },
  {
   "cell_type": "markdown",
   "id": "b567dbba",
   "metadata": {},
   "source": [
    "#### 3. Performance over time"
   ]
  },
  {
   "cell_type": "code",
   "execution_count": null,
   "id": "946c8b6d",
   "metadata": {},
   "outputs": [],
   "source": []
  },
  {
   "cell_type": "code",
   "execution_count": null,
   "id": "cc1efdfa",
   "metadata": {},
   "outputs": [],
   "source": []
  },
  {
   "cell_type": "code",
   "execution_count": null,
   "id": "4ab5f097",
   "metadata": {},
   "outputs": [],
   "source": []
  },
  {
   "cell_type": "code",
   "execution_count": 72,
   "id": "f3bfc3d0",
   "metadata": {},
   "outputs": [
    {
     "data": {
      "image/png": "[encoded data removed]",
      "text/plain": [
       "<Figure size 1000x600 with 1 Axes>"
      ]
     },
     "metadata": {},
     "output_type": "display_data"
    }
   ],
   "source": [
    "# plot training time vs param size\n",
    "plot_training_time_vs_param_size(\n",
    "    param_sizes=num_est_grid,\n",
    "    training_times=training_times,\n",
    "    param_name='n_estimators'\n",
    "    # save_path=os.path.join(results_dir, 'n_estimators_time.png')\n",
    ")"
   ]
  },
  {
   "cell_type": "code",
   "execution_count": 73,
   "id": "2bfe96d3",
   "metadata": {},
   "outputs": [
    {
     "data": {
      "image/png": "[encoded data removed]",
      "text/plain": [
       "<Figure size 1000x600 with 1 Axes>"
      ]
     },
     "metadata": {},
     "output_type": "display_data"
    }
   ],
   "source": [
    "# plot f1 vs param size\n",
    "plot_f1_vs_param_size(\n",
    "    param_sizes=num_est_grid,\n",
    "    f1_scores=f1_scores,\n",
    "    param_name='n_estimators',\n",
    "    # save_path=os.path.join(results_dir, 'n_estimators_f1.png')\n",
    ")"
   ]
  },
  {
   "cell_type": "markdown",
   "id": "b4fdf134",
   "metadata": {},
   "source": [
    "### Max samples"
   ]
  },
  {
   "cell_type": "code",
   "execution_count": null,
   "id": "66e74563",
   "metadata": {},
   "outputs": [],
   "source": []
  },
  {
   "cell_type": "code",
   "execution_count": null,
   "id": "eebfded7",
   "metadata": {},
   "outputs": [],
   "source": []
  },
  {
   "cell_type": "code",
   "execution_count": null,
   "id": "86f3b597",
   "metadata": {},
   "outputs": [],
   "source": []
  },
  {
   "cell_type": "markdown",
   "id": "07011f13",
   "metadata": {},
   "source": []
  }
 ],
 "metadata": {
  "kernelspec": {
   "display_name": "Python 3",
   "language": "python",
   "name": "python3"
  },
  "language_info": {
   "codemirror_mode": {
    "name": "ipython",
    "version": 3
   },
   "file_extension": ".py",
   "mimetype": "text/x-python",
   "name": "python",
   "nbconvert_exporter": "python",
   "pygments_lexer": "ipython3",
   "version": "3.13.7"
  }
 },
 "nbformat": 4,
 "nbformat_minor": 5
}
