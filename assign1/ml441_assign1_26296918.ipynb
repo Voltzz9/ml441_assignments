{
 "cells": [
  {
   "cell_type": "code",
   "execution_count": 1,
   "id": "212f257c-82a9-4022-9190-eca9601afb58",
   "metadata": {},
   "outputs": [],
   "source": [
    "import numpy as np\n",
    "import pandas as pd"
   ]
  },
  {
   "cell_type": "markdown",
   "id": "5ff61d54-4751-429d-9f44-e6727b42b933",
   "metadata": {},
   "source": [
    "# Task 1"
   ]
  },
  {
   "cell_type": "code",
   "execution_count": 58,
   "id": "f2291558-88e3-4f5d-a024-5e8e55d6eab6",
   "metadata": {},
   "outputs": [
    {
     "name": "stderr",
     "output_type": "stream",
     "text": [
      "/tmp/ipykernel_7004/642769985.py:1: DtypeWarning: Columns (62) have mixed types. Specify dtype option on import or set low_memory=False.\n",
      "  df = pd.read_csv(\"badDataSet.csv\", delimiter='\\t', header=None)\n"
     ]
    }
   ],
   "source": [
    "df = pd.read_csv(\"badDataSet.csv\", delimiter='\\t', header=None)"
   ]
  },
  {
   "cell_type": "code",
   "execution_count": 3,
   "id": "03329003-c03f-4263-83ac-1a7447b3d64c",
   "metadata": {},
   "outputs": [
    {
     "data": {
      "text/plain": [
       "0         7\n",
       "1         7\n",
       "2         7\n",
       "3         7\n",
       "4         7\n",
       "         ..\n",
       "581007    3\n",
       "581008    6\n",
       "581009    3\n",
       "581010    3\n",
       "581011    3\n",
       "Name: 62, Length: 581012, dtype: object"
      ]
     },
     "execution_count": 3,
     "metadata": {},
     "output_type": "execute_result"
    }
   ],
   "source": [
    "df[62]"
   ]
  },
  {
   "cell_type": "code",
   "execution_count": 67,
   "id": "8cdd03ef-b535-47b5-8c69-c4312b4a2193",
   "metadata": {},
   "outputs": [],
   "source": [
    "def data_quality_report_latex(df, caption=\"Data Quality Report\", label=\"tab:data_quality\"):\n",
    "    \"\"\"\n",
    "    Generate a LaTeX table summarizing data quality for continuous (numeric) features in a DataFrame.\n",
    "    \"\"\"\n",
    "    # Try to convert all columns to numeric, non-convertible entries become NaN\n",
    "    df_numeric = df.apply(pd.to_numeric, errors='coerce')\n",
    "    numeric_df = df_numeric.select_dtypes(include=[np.number])\n",
    "\n",
    "    if numeric_df.empty:\n",
    "        return \"% No numeric columns found in DataFrame.\\n\"\n",
    "\n",
    "    report = pd.DataFrame({\n",
    "        \"Feature\": numeric_df.columns,\n",
    "        \"Count\": numeric_df.count().values,\n",
    "        \"Miss.\": numeric_df.isnull().sum().values,\n",
    "        \"Card.\": numeric_df.nunique().values,\n",
    "        \"Min.\": numeric_df.min().values,\n",
    "        \"1st Qrt.\": numeric_df.quantile(0.25).values,\n",
    "        \"Mean\": numeric_df.mean().values,\n",
    "        \"Median\": numeric_df.median().values,\n",
    "        \"3rd Qrt.\": numeric_df.quantile(0.75).values,\n",
    "        \"Max.\": numeric_df.max().values,\n",
    "        \"Std. Dev.\": numeric_df.std().values\n",
    "    })\n",
    "\n",
    "    # Format as LaTeX\n",
    "    latex = report.to_latex(\n",
    "        index=False,\n",
    "        float_format=\"%.2f\",\n",
    "        column_format=\"|l|\" + \"r|\" * (len(report.columns) - 1),\n",
    "        caption=caption,\n",
    "        label=label\n",
    "    )\n",
    "    \n",
    "    return latex\n"
   ]
  },
  {
   "cell_type": "code",
   "execution_count": null,
   "id": "5c3e494d-b64b-4c35-91fc-c47746538d55",
   "metadata": {},
   "outputs": [],
   "source": []
  },
  {
   "cell_type": "code",
   "execution_count": 54,
   "id": "cd398fe4-2f62-4a63-9c22-4918239ada4b",
   "metadata": {},
   "outputs": [],
   "source": [
    "df_noTarget = df.iloc[:, :-1]"
   ]
  },
  {
   "cell_type": "code",
   "execution_count": 55,
   "id": "15196e00-fecf-4cac-9eaf-f26f3c7163aa",
   "metadata": {},
   "outputs": [
    {
     "data": {
      "text/html": [
       "<div>\n",
       "<style scoped>\n",
       "    .dataframe tbody tr th:only-of-type {\n",
       "        vertical-align: middle;\n",
       "    }\n",
       "\n",
       "    .dataframe tbody tr th {\n",
       "        vertical-align: top;\n",
       "    }\n",
       "\n",
       "    .dataframe thead th {\n",
       "        text-align: right;\n",
       "    }\n",
       "</style>\n",
       "<table border=\"1\" class=\"dataframe\">\n",
       "  <thead>\n",
       "    <tr style=\"text-align: right;\">\n",
       "      <th></th>\n",
       "      <th>0</th>\n",
       "      <th>1</th>\n",
       "      <th>2</th>\n",
       "      <th>3</th>\n",
       "      <th>4</th>\n",
       "      <th>5</th>\n",
       "      <th>6</th>\n",
       "      <th>7</th>\n",
       "      <th>8</th>\n",
       "      <th>9</th>\n",
       "      <th>...</th>\n",
       "      <th>52</th>\n",
       "      <th>53</th>\n",
       "      <th>54</th>\n",
       "      <th>55</th>\n",
       "      <th>56</th>\n",
       "      <th>57</th>\n",
       "      <th>58</th>\n",
       "      <th>59</th>\n",
       "      <th>60</th>\n",
       "      <th>61</th>\n",
       "    </tr>\n",
       "  </thead>\n",
       "  <tbody>\n",
       "    <tr>\n",
       "      <th>0</th>\n",
       "      <td>4264440.30</td>\n",
       "      <td>89</td>\n",
       "      <td>222.711631</td>\n",
       "      <td>11</td>\n",
       "      <td>785</td>\n",
       "      <td>81.916660</td>\n",
       "      <td>-0.6130492322</td>\n",
       "      <td>4352</td>\n",
       "      <td>237</td>\n",
       "      <td>222</td>\n",
       "      <td>...</td>\n",
       "      <td>0</td>\n",
       "      <td>0</td>\n",
       "      <td>0</td>\n",
       "      <td>0</td>\n",
       "      <td>0</td>\n",
       "      <td>0</td>\n",
       "      <td>0</td>\n",
       "      <td>1</td>\n",
       "      <td>1</td>\n",
       "      <td>1</td>\n",
       "    </tr>\n",
       "    <tr>\n",
       "      <th>1</th>\n",
       "      <td>4264440.30</td>\n",
       "      <td>4</td>\n",
       "      <td>10.035728</td>\n",
       "      <td>15</td>\n",
       "      <td>849</td>\n",
       "      <td>81.973876</td>\n",
       "      <td>-0.7910904623</td>\n",
       "      <td>4413</td>\n",
       "      <td>199</td>\n",
       "      <td>209</td>\n",
       "      <td>...</td>\n",
       "      <td>0</td>\n",
       "      <td>0</td>\n",
       "      <td>0</td>\n",
       "      <td>0</td>\n",
       "      <td>0</td>\n",
       "      <td>0</td>\n",
       "      <td>0</td>\n",
       "      <td>1</td>\n",
       "      <td>2</td>\n",
       "      <td>1</td>\n",
       "    </tr>\n",
       "    <tr>\n",
       "      <th>2</th>\n",
       "      <td>4263334.95</td>\n",
       "      <td>342</td>\n",
       "      <td>855.348205</td>\n",
       "      <td>16</td>\n",
       "      <td>870</td>\n",
       "      <td>81.035217</td>\n",
       "      <td>0.5197913793</td>\n",
       "      <td>4443</td>\n",
       "      <td>186</td>\n",
       "      <td>214</td>\n",
       "      <td>...</td>\n",
       "      <td>0</td>\n",
       "      <td>0</td>\n",
       "      <td>0</td>\n",
       "      <td>0</td>\n",
       "      <td>0</td>\n",
       "      <td>0</td>\n",
       "      <td>0</td>\n",
       "      <td>1</td>\n",
       "      <td>3</td>\n",
       "      <td>1</td>\n",
       "    </tr>\n",
       "    <tr>\n",
       "      <th>3</th>\n",
       "      <td>4262229.60</td>\n",
       "      <td>24</td>\n",
       "      <td>60.238933</td>\n",
       "      <td>15</td>\n",
       "      <td>828</td>\n",
       "      <td>80.054099</td>\n",
       "      <td>0.4326465146</td>\n",
       "      <td>4383</td>\n",
       "      <td>211</td>\n",
       "      <td>208</td>\n",
       "      <td>...</td>\n",
       "      <td>0</td>\n",
       "      <td>0</td>\n",
       "      <td>0</td>\n",
       "      <td>0</td>\n",
       "      <td>0</td>\n",
       "      <td>0</td>\n",
       "      <td>0</td>\n",
       "      <td>1</td>\n",
       "      <td>4</td>\n",
       "      <td>1</td>\n",
       "    </tr>\n",
       "    <tr>\n",
       "      <th>4</th>\n",
       "      <td>4258913.55</td>\n",
       "      <td>338</td>\n",
       "      <td>847.158476</td>\n",
       "      <td>15</td>\n",
       "      <td>892</td>\n",
       "      <td>77.054464</td>\n",
       "      <td>-0.9237992549</td>\n",
       "      <td>4473</td>\n",
       "      <td>187</td>\n",
       "      <td>218</td>\n",
       "      <td>...</td>\n",
       "      <td>0</td>\n",
       "      <td>0</td>\n",
       "      <td>0</td>\n",
       "      <td>0</td>\n",
       "      <td>0</td>\n",
       "      <td>0</td>\n",
       "      <td>0</td>\n",
       "      <td>1</td>\n",
       "      <td>5</td>\n",
       "      <td>1</td>\n",
       "    </tr>\n",
       "    <tr>\n",
       "      <th>...</th>\n",
       "      <td>...</td>\n",
       "      <td>...</td>\n",
       "      <td>...</td>\n",
       "      <td>...</td>\n",
       "      <td>...</td>\n",
       "      <td>...</td>\n",
       "      <td>...</td>\n",
       "      <td>...</td>\n",
       "      <td>...</td>\n",
       "      <td>...</td>\n",
       "      <td>...</td>\n",
       "      <td>...</td>\n",
       "      <td>...</td>\n",
       "      <td>...</td>\n",
       "      <td>...</td>\n",
       "      <td>...</td>\n",
       "      <td>...</td>\n",
       "      <td>...</td>\n",
       "      <td>...</td>\n",
       "      <td>...</td>\n",
       "      <td>...</td>\n",
       "    </tr>\n",
       "    <tr>\n",
       "      <th>581007</th>\n",
       "      <td>2062583.10</td>\n",
       "      <td>23</td>\n",
       "      <td>57.594866</td>\n",
       "      <td>14</td>\n",
       "      <td>85</td>\n",
       "      <td>16.059535</td>\n",
       "      <td>-0.1031359374</td>\n",
       "      <td>108</td>\n",
       "      <td>212</td>\n",
       "      <td>210</td>\n",
       "      <td>...</td>\n",
       "      <td>0</td>\n",
       "      <td>0</td>\n",
       "      <td>0</td>\n",
       "      <td>0</td>\n",
       "      <td>0</td>\n",
       "      <td>0</td>\n",
       "      <td>0</td>\n",
       "      <td>0</td>\n",
       "      <td>581008</td>\n",
       "      <td>1</td>\n",
       "    </tr>\n",
       "    <tr>\n",
       "      <th>581008</th>\n",
       "      <td>2059267.05</td>\n",
       "      <td>37</td>\n",
       "      <td>92.585707</td>\n",
       "      <td>17</td>\n",
       "      <td>120</td>\n",
       "      <td>17.977536</td>\n",
       "      <td>0.4172433854</td>\n",
       "      <td>90</td>\n",
       "      <td>217</td>\n",
       "      <td>202</td>\n",
       "      <td>...</td>\n",
       "      <td>0</td>\n",
       "      <td>0</td>\n",
       "      <td>0</td>\n",
       "      <td>0</td>\n",
       "      <td>0</td>\n",
       "      <td>0</td>\n",
       "      <td>0</td>\n",
       "      <td>0</td>\n",
       "      <td>581009</td>\n",
       "      <td>1</td>\n",
       "    </tr>\n",
       "    <tr>\n",
       "      <th>581009</th>\n",
       "      <td>2057056.35</td>\n",
       "      <td>35</td>\n",
       "      <td>87.547136</td>\n",
       "      <td>14</td>\n",
       "      <td>60</td>\n",
       "      <td>10.962117</td>\n",
       "      <td>0.9027182040</td>\n",
       "      <td>85</td>\n",
       "      <td>218</td>\n",
       "      <td>209</td>\n",
       "      <td>...</td>\n",
       "      <td>0</td>\n",
       "      <td>0</td>\n",
       "      <td>0</td>\n",
       "      <td>0</td>\n",
       "      <td>0</td>\n",
       "      <td>0</td>\n",
       "      <td>0</td>\n",
       "      <td>0</td>\n",
       "      <td>581010</td>\n",
       "      <td>1</td>\n",
       "    </tr>\n",
       "    <tr>\n",
       "      <th>581010</th>\n",
       "      <td>2055951.00</td>\n",
       "      <td>18</td>\n",
       "      <td>45.141729</td>\n",
       "      <td>13</td>\n",
       "      <td>95</td>\n",
       "      <td>14.972901</td>\n",
       "      <td>-0.2020354463</td>\n",
       "      <td>90</td>\n",
       "      <td>210</td>\n",
       "      <td>213</td>\n",
       "      <td>...</td>\n",
       "      <td>0</td>\n",
       "      <td>0</td>\n",
       "      <td>0</td>\n",
       "      <td>0</td>\n",
       "      <td>0</td>\n",
       "      <td>0</td>\n",
       "      <td>0</td>\n",
       "      <td>0</td>\n",
       "      <td>581011</td>\n",
       "      <td>1</td>\n",
       "    </tr>\n",
       "    <tr>\n",
       "      <th>581011</th>\n",
       "      <td>2054845.65</td>\n",
       "      <td>18</td>\n",
       "      <td>45.037101</td>\n",
       "      <td>12</td>\n",
       "      <td>67</td>\n",
       "      <td>10.971536</td>\n",
       "      <td>0.5664454985</td>\n",
       "      <td>90</td>\n",
       "      <td>211</td>\n",
       "      <td>215</td>\n",
       "      <td>...</td>\n",
       "      <td>0</td>\n",
       "      <td>0</td>\n",
       "      <td>0</td>\n",
       "      <td>0</td>\n",
       "      <td>0</td>\n",
       "      <td>0</td>\n",
       "      <td>0</td>\n",
       "      <td>0</td>\n",
       "      <td>581012</td>\n",
       "      <td>1</td>\n",
       "    </tr>\n",
       "  </tbody>\n",
       "</table>\n",
       "<p>581012 rows × 62 columns</p>\n",
       "</div>"
      ],
      "text/plain": [
       "                0    1           2   3    4          5              6     7   \\\n",
       "0       4264440.30   89  222.711631  11  785  81.916660  -0.6130492322  4352   \n",
       "1       4264440.30    4   10.035728  15  849  81.973876  -0.7910904623  4413   \n",
       "2       4263334.95  342  855.348205  16  870  81.035217   0.5197913793  4443   \n",
       "3       4262229.60   24   60.238933  15  828  80.054099   0.4326465146  4383   \n",
       "4       4258913.55  338  847.158476  15  892  77.054464  -0.9237992549  4473   \n",
       "...            ...  ...         ...  ..  ...        ...            ...   ...   \n",
       "581007  2062583.10   23   57.594866  14   85  16.059535  -0.1031359374   108   \n",
       "581008  2059267.05   37   92.585707  17  120  17.977536   0.4172433854    90   \n",
       "581009  2057056.35   35   87.547136  14   60  10.962117   0.9027182040    85   \n",
       "581010  2055951.00   18   45.141729  13   95  14.972901  -0.2020354463    90   \n",
       "581011  2054845.65   18   45.037101  12   67  10.971536   0.5664454985    90   \n",
       "\n",
       "         8    9   ...  52 53 54  55  56 57  58 59      60 61  \n",
       "0       237  222  ...   0  0  0   0   0  0   0  1       1  1  \n",
       "1       199  209  ...   0  0  0   0   0  0   0  1       2  1  \n",
       "2       186  214  ...   0  0  0   0   0  0   0  1       3  1  \n",
       "3       211  208  ...   0  0  0   0   0  0   0  1       4  1  \n",
       "4       187  218  ...   0  0  0   0   0  0   0  1       5  1  \n",
       "...     ...  ...  ...  .. .. ..  ..  .. ..  .. ..     ... ..  \n",
       "581007  212  210  ...   0  0  0   0   0  0   0  0  581008  1  \n",
       "581008  217  202  ...   0  0  0   0   0  0   0  0  581009  1  \n",
       "581009  218  209  ...   0  0  0   0   0  0   0  0  581010  1  \n",
       "581010  210  213  ...   0  0  0   0   0  0   0  0  581011  1  \n",
       "581011  211  215  ...   0  0  0   0   0  0   0  0  581012  1  \n",
       "\n",
       "[581012 rows x 62 columns]"
      ]
     },
     "execution_count": 55,
     "metadata": {},
     "output_type": "execute_result"
    }
   ],
   "source": [
    "df_noTarget"
   ]
  },
  {
   "cell_type": "code",
   "execution_count": 56,
   "id": "e5998a7c-f34c-4f4f-8ad4-81f952dd89a0",
   "metadata": {},
   "outputs": [
    {
     "ename": "NameError",
     "evalue": "name 'numeric_df' is not defined",
     "output_type": "error",
     "traceback": [
      "\u001b[0;31m---------------------------------------------------------------------------\u001b[0m",
      "\u001b[0;31mNameError\u001b[0m                                 Traceback (most recent call last)",
      "Cell \u001b[0;32mIn[56], line 1\u001b[0m\n\u001b[0;32m----> 1\u001b[0m latex_table \u001b[38;5;241m=\u001b[39m \u001b[43mdata_quality_report_latex\u001b[49m\u001b[43m(\u001b[49m\u001b[43mdf\u001b[49m\u001b[43m)\u001b[49m\n",
      "Cell \u001b[0;32mIn[53], line 16\u001b[0m, in \u001b[0;36mdata_quality_report_latex\u001b[0;34m(df, caption, label)\u001b[0m\n\u001b[1;32m      2\u001b[0m \u001b[38;5;250m\u001b[39m\u001b[38;5;124;03m\"\"\"\u001b[39;00m\n\u001b[1;32m      3\u001b[0m \u001b[38;5;124;03mGenerate a LaTeX table summarizing data quality for continuous (numeric) features in a DataFrame.\u001b[39;00m\n\u001b[1;32m      4\u001b[0m \n\u001b[0;32m   (...)\u001b[0m\n\u001b[1;32m     11\u001b[0m \u001b[38;5;124;03m    str: LaTeX-formatted table string.\u001b[39;00m\n\u001b[1;32m     12\u001b[0m \u001b[38;5;124;03m\"\"\"\u001b[39;00m\n\u001b[1;32m     13\u001b[0m df_numeric \u001b[38;5;241m=\u001b[39m df\u001b[38;5;241m.\u001b[39mapply(pd\u001b[38;5;241m.\u001b[39mto_numeric, errors\u001b[38;5;241m=\u001b[39m\u001b[38;5;124m'\u001b[39m\u001b[38;5;124mcoerce\u001b[39m\u001b[38;5;124m'\u001b[39m)\n\u001b[1;32m     15\u001b[0m report \u001b[38;5;241m=\u001b[39m pd\u001b[38;5;241m.\u001b[39mDataFrame({\n\u001b[0;32m---> 16\u001b[0m     \u001b[38;5;124m\"\u001b[39m\u001b[38;5;124mFeature\u001b[39m\u001b[38;5;124m\"\u001b[39m: \u001b[43mnumeric_df\u001b[49m\u001b[38;5;241m.\u001b[39mcolumns,\n\u001b[1;32m     17\u001b[0m     \u001b[38;5;124m\"\u001b[39m\u001b[38;5;124mCount\u001b[39m\u001b[38;5;124m\"\u001b[39m: numeric_df\u001b[38;5;241m.\u001b[39mcount()\u001b[38;5;241m.\u001b[39mvalues,\n\u001b[1;32m     18\u001b[0m     \u001b[38;5;124m\"\u001b[39m\u001b[38;5;124mMiss.\u001b[39m\u001b[38;5;124m\"\u001b[39m: numeric_df\u001b[38;5;241m.\u001b[39misnull()\u001b[38;5;241m.\u001b[39msum()\u001b[38;5;241m.\u001b[39mvalues,\n\u001b[1;32m     19\u001b[0m     \u001b[38;5;124m\"\u001b[39m\u001b[38;5;124mCard.\u001b[39m\u001b[38;5;124m\"\u001b[39m: numeric_df\u001b[38;5;241m.\u001b[39mnunique()\u001b[38;5;241m.\u001b[39mvalues,\n\u001b[1;32m     20\u001b[0m     \u001b[38;5;124m\"\u001b[39m\u001b[38;5;124mMin.\u001b[39m\u001b[38;5;124m\"\u001b[39m: numeric_df\u001b[38;5;241m.\u001b[39mmin()\u001b[38;5;241m.\u001b[39mvalues,\n\u001b[1;32m     21\u001b[0m     \u001b[38;5;124m\"\u001b[39m\u001b[38;5;124m1st Qrt.\u001b[39m\u001b[38;5;124m\"\u001b[39m: numeric_df\u001b[38;5;241m.\u001b[39mquantile(\u001b[38;5;241m0.25\u001b[39m)\u001b[38;5;241m.\u001b[39mvalues,\n\u001b[1;32m     22\u001b[0m     \u001b[38;5;124m\"\u001b[39m\u001b[38;5;124mMean\u001b[39m\u001b[38;5;124m\"\u001b[39m: numeric_df\u001b[38;5;241m.\u001b[39mmean()\u001b[38;5;241m.\u001b[39mvalues,\n\u001b[1;32m     23\u001b[0m     \u001b[38;5;124m\"\u001b[39m\u001b[38;5;124mMedian\u001b[39m\u001b[38;5;124m\"\u001b[39m: numeric_df\u001b[38;5;241m.\u001b[39mmedian()\u001b[38;5;241m.\u001b[39mvalues,\n\u001b[1;32m     24\u001b[0m     \u001b[38;5;124m\"\u001b[39m\u001b[38;5;124m3rd Qrt.\u001b[39m\u001b[38;5;124m\"\u001b[39m: numeric_df\u001b[38;5;241m.\u001b[39mquantile(\u001b[38;5;241m0.75\u001b[39m)\u001b[38;5;241m.\u001b[39mvalues,\n\u001b[1;32m     25\u001b[0m     \u001b[38;5;124m\"\u001b[39m\u001b[38;5;124mMax.\u001b[39m\u001b[38;5;124m\"\u001b[39m: numeric_df\u001b[38;5;241m.\u001b[39mmax()\u001b[38;5;241m.\u001b[39mvalues,\n\u001b[1;32m     26\u001b[0m     \u001b[38;5;124m\"\u001b[39m\u001b[38;5;124mStd. Dev.\u001b[39m\u001b[38;5;124m\"\u001b[39m: numeric_df\u001b[38;5;241m.\u001b[39mstd()\u001b[38;5;241m.\u001b[39mvalues\n\u001b[1;32m     27\u001b[0m })\n\u001b[1;32m     29\u001b[0m \u001b[38;5;66;03m# Format as LaTeX\u001b[39;00m\n\u001b[1;32m     30\u001b[0m latex \u001b[38;5;241m=\u001b[39m report\u001b[38;5;241m.\u001b[39mto_latex(\n\u001b[1;32m     31\u001b[0m     index\u001b[38;5;241m=\u001b[39m\u001b[38;5;28;01mFalse\u001b[39;00m,\n\u001b[1;32m     32\u001b[0m     float_format\u001b[38;5;241m=\u001b[39m\u001b[38;5;124m\"\u001b[39m\u001b[38;5;132;01m%.2f\u001b[39;00m\u001b[38;5;124m\"\u001b[39m,\n\u001b[0;32m   (...)\u001b[0m\n\u001b[1;32m     35\u001b[0m     label\u001b[38;5;241m=\u001b[39mlabel\n\u001b[1;32m     36\u001b[0m )\n",
      "\u001b[0;31mNameError\u001b[0m: name 'numeric_df' is not defined"
     ]
    }
   ],
   "source": [
    "latex_table = data_quality_report_latex(df)"
   ]
  },
  {
   "cell_type": "code",
   "execution_count": null,
   "id": "26282a80-e156-421a-a38d-d58778f8adc2",
   "metadata": {},
   "outputs": [],
   "source": [
    "print(latex_table)"
   ]
  },
  {
   "cell_type": "code",
   "execution_count": 68,
   "id": "f0a72946-065a-484f-96e8-b59709e76470",
   "metadata": {},
   "outputs": [],
   "source": [
    "target = df.iloc[:, -1]"
   ]
  },
  {
   "cell_type": "code",
   "execution_count": 69,
   "id": "45b76423-d3c2-409b-a8c3-23ab6ff718e3",
   "metadata": {},
   "outputs": [
    {
     "data": {
      "text/plain": [
       "60"
      ]
     },
     "execution_count": 69,
     "metadata": {},
     "output_type": "execute_result"
    }
   ],
   "source": [
    "np.count_nonzero(target == \"?\")\n"
   ]
  },
  {
   "cell_type": "code",
   "execution_count": 70,
   "id": "4a9445b9-13a4-4f55-9b80-a60a2271a110",
   "metadata": {},
   "outputs": [],
   "source": [
    "target = np.where(target == \"?\", np.nan, target)"
   ]
  },
  {
   "cell_type": "code",
   "execution_count": 71,
   "id": "f48ca320-158d-4392-b4bf-1fe20636acbb",
   "metadata": {},
   "outputs": [],
   "source": [
    "target_df = pd.DataFrame(target)"
   ]
  },
  {
   "cell_type": "code",
   "execution_count": 72,
   "id": "1a6c8f66-06ac-498e-a639-80dbe450ad95",
   "metadata": {},
   "outputs": [],
   "source": [
    "latex_table = data_quality_report_latex(target_df)"
   ]
  },
  {
   "cell_type": "code",
   "execution_count": 73,
   "id": "59bf0c09-eab3-47b7-9701-d632ebeb0d39",
   "metadata": {},
   "outputs": [
    {
     "data": {
      "text/plain": [
       "'\\\\begin{table}\\n\\\\caption{Data Quality Report}\\n\\\\label{tab:data_quality}\\n\\\\begin{tabular}{|l|r|r|r|r|r|r|r|r|r|r|}\\n\\\\toprule\\nFeature & Count & Miss. & Card. & Min. & 1st Qrt. & Mean & Median & 3rd Qrt. & Max. & Std. Dev. \\\\\\\\\\n\\\\midrule\\n0 & 580952 & 60 & 7 & 1.00 & 1.00 & 2.05 & 2.00 & 2.00 & 7.00 & 1.40 \\\\\\\\\\n\\\\bottomrule\\n\\\\end{tabular}\\n\\\\end{table}\\n'"
      ]
     },
     "execution_count": 73,
     "metadata": {},
     "output_type": "execute_result"
    }
   ],
   "source": [
    "latex_table"
   ]
  },
  {
   "cell_type": "code",
   "execution_count": null,
   "id": "289f192a-bfe4-4b3f-bab4-008bb8a7a78f",
   "metadata": {},
   "outputs": [],
   "source": []
  },
  {
   "cell_type": "code",
   "execution_count": null,
   "id": "ff3dea44-9532-42d4-9a8f-9cc9aad49b01",
   "metadata": {},
   "outputs": [],
   "source": []
  },
  {
   "cell_type": "code",
   "execution_count": null,
   "id": "76a6d8ee-5b20-4b56-bb74-688da0c240d9",
   "metadata": {},
   "outputs": [],
   "source": []
  },
  {
   "cell_type": "markdown",
   "id": "f9c8b99e-2b33-42bc-8783-d7928992eedb",
   "metadata": {},
   "source": [
    "# Task 2"
   ]
  },
  {
   "cell_type": "code",
   "execution_count": null,
   "id": "64ec98b4-4242-4dae-a7ba-2daa8c4982d3",
   "metadata": {},
   "outputs": [],
   "source": []
  },
  {
   "cell_type": "code",
   "execution_count": null,
   "id": "51e00eb8-1c63-4652-9f0f-2ce8fbb2ea26",
   "metadata": {},
   "outputs": [],
   "source": []
  },
  {
   "cell_type": "code",
   "execution_count": null,
   "id": "b5daf63c-e478-487a-8264-a06bdfc5110a",
   "metadata": {},
   "outputs": [],
   "source": []
  },
  {
   "cell_type": "code",
   "execution_count": null,
   "id": "cdafbd5c-e650-4e86-8326-4693803d46c2",
   "metadata": {},
   "outputs": [],
   "source": []
  },
  {
   "cell_type": "code",
   "execution_count": null,
   "id": "dad28a8e-8e1d-413c-a358-c3a6744cd17e",
   "metadata": {},
   "outputs": [],
   "source": []
  },
  {
   "cell_type": "code",
   "execution_count": null,
   "id": "4a0b4afd-ce16-45c0-adcf-32982c24e109",
   "metadata": {},
   "outputs": [],
   "source": []
  }
 ],
 "metadata": {
  "kernelspec": {
   "display_name": "Python 3 (ipykernel)",
   "language": "python",
   "name": "python3"
  },
  "language_info": {
   "codemirror_mode": {
    "name": "ipython",
    "version": 3
   },
   "file_extension": ".py",
   "mimetype": "text/x-python",
   "name": "python",
   "nbconvert_exporter": "python",
   "pygments_lexer": "ipython3",
   "version": "3.12.7"
  }
 },
 "nbformat": 4,
 "nbformat_minor": 5
}
