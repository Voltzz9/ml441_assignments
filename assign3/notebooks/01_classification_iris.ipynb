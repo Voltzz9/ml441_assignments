{
 "cells": [
  {
   "cell_type": "markdown",
   "id": "9582ee87",
   "metadata": {},
   "source": [
    "# 1 Classification of Iris Dataset"
   ]
  },
  {
   "cell_type": "markdown",
   "id": "d264098a",
   "metadata": {},
   "source": [
    "### David Nicolay 26296918"
   ]
  },
  {
   "cell_type": "code",
   "execution_count": 1,
   "id": "d86712c8",
   "metadata": {},
   "outputs": [],
   "source": [
    "# imports\n",
    "import pandas as pd\n",
    "import numpy as np\n",
    "import torch\n",
    "from sklearn.model_selection import train_test_split\n",
    "from sklearn.metrics import accuracy_score, classification_report\n",
    "import matplotlib.pyplot as plt\n",
    "import torch.nn as nn\n",
    "import torch.optim as optim\n",
    "\n",
    "# import my utils\n",
    "import sys\n",
    "sys.path.append('../')\n",
    "from src import data_utils, models"
   ]
  },
  {
   "cell_type": "markdown",
   "id": "27ec3b9c",
   "metadata": {},
   "source": [
    "## Data pre-processing"
   ]
  },
  {
   "cell_type": "code",
   "execution_count": 2,
   "id": "259ebcb9",
   "metadata": {},
   "outputs": [
    {
     "data": {
      "application/vnd.microsoft.datawrangler.viewer.v0+json": {
       "columns": [
        {
         "name": "index",
         "rawType": "int64",
         "type": "integer"
        },
        {
         "name": "Id",
         "rawType": "int64",
         "type": "integer"
        },
        {
         "name": "SepalLengthCm",
         "rawType": "float64",
         "type": "float"
        },
        {
         "name": "SepalWidthCm",
         "rawType": "float64",
         "type": "float"
        },
        {
         "name": "PetalLengthCm",
         "rawType": "float64",
         "type": "float"
        },
        {
         "name": "PetalWidthCm",
         "rawType": "float64",
         "type": "float"
        },
        {
         "name": "Species",
         "rawType": "object",
         "type": "string"
        }
       ],
       "ref": "bca25c8e-8cd3-4434-ba9d-49fec8ec5a8d",
       "rows": [
        [
         "0",
         "1",
         "5.1",
         "3.5",
         "1.4",
         "0.2",
         "Iris-setosa"
        ],
        [
         "1",
         "2",
         "4.9",
         "3.0",
         "1.4",
         "0.2",
         "Iris-setosa"
        ],
        [
         "2",
         "3",
         "4.7",
         "3.2",
         "1.3",
         "0.2",
         "Iris-setosa"
        ],
        [
         "3",
         "4",
         "4.6",
         "3.1",
         "1.5",
         "0.2",
         "Iris-setosa"
        ],
        [
         "4",
         "5",
         "5.0",
         "3.6",
         "1.4",
         "0.2",
         "Iris-setosa"
        ]
       ],
       "shape": {
        "columns": 6,
        "rows": 5
       }
      },
      "text/html": [
       "<div>\n",
       "<style scoped>\n",
       "    .dataframe tbody tr th:only-of-type {\n",
       "        vertical-align: middle;\n",
       "    }\n",
       "\n",
       "    .dataframe tbody tr th {\n",
       "        vertical-align: top;\n",
       "    }\n",
       "\n",
       "    .dataframe thead th {\n",
       "        text-align: right;\n",
       "    }\n",
       "</style>\n",
       "<table border=\"1\" class=\"dataframe\">\n",
       "  <thead>\n",
       "    <tr style=\"text-align: right;\">\n",
       "      <th></th>\n",
       "      <th>Id</th>\n",
       "      <th>SepalLengthCm</th>\n",
       "      <th>SepalWidthCm</th>\n",
       "      <th>PetalLengthCm</th>\n",
       "      <th>PetalWidthCm</th>\n",
       "      <th>Species</th>\n",
       "    </tr>\n",
       "  </thead>\n",
       "  <tbody>\n",
       "    <tr>\n",
       "      <th>0</th>\n",
       "      <td>1</td>\n",
       "      <td>5.1</td>\n",
       "      <td>3.5</td>\n",
       "      <td>1.4</td>\n",
       "      <td>0.2</td>\n",
       "      <td>Iris-setosa</td>\n",
       "    </tr>\n",
       "    <tr>\n",
       "      <th>1</th>\n",
       "      <td>2</td>\n",
       "      <td>4.9</td>\n",
       "      <td>3.0</td>\n",
       "      <td>1.4</td>\n",
       "      <td>0.2</td>\n",
       "      <td>Iris-setosa</td>\n",
       "    </tr>\n",
       "    <tr>\n",
       "      <th>2</th>\n",
       "      <td>3</td>\n",
       "      <td>4.7</td>\n",
       "      <td>3.2</td>\n",
       "      <td>1.3</td>\n",
       "      <td>0.2</td>\n",
       "      <td>Iris-setosa</td>\n",
       "    </tr>\n",
       "    <tr>\n",
       "      <th>3</th>\n",
       "      <td>4</td>\n",
       "      <td>4.6</td>\n",
       "      <td>3.1</td>\n",
       "      <td>1.5</td>\n",
       "      <td>0.2</td>\n",
       "      <td>Iris-setosa</td>\n",
       "    </tr>\n",
       "    <tr>\n",
       "      <th>4</th>\n",
       "      <td>5</td>\n",
       "      <td>5.0</td>\n",
       "      <td>3.6</td>\n",
       "      <td>1.4</td>\n",
       "      <td>0.2</td>\n",
       "      <td>Iris-setosa</td>\n",
       "    </tr>\n",
       "  </tbody>\n",
       "</table>\n",
       "</div>"
      ],
      "text/plain": [
       "   Id  SepalLengthCm  SepalWidthCm  PetalLengthCm  PetalWidthCm      Species\n",
       "0   1            5.1           3.5            1.4           0.2  Iris-setosa\n",
       "1   2            4.9           3.0            1.4           0.2  Iris-setosa\n",
       "2   3            4.7           3.2            1.3           0.2  Iris-setosa\n",
       "3   4            4.6           3.1            1.5           0.2  Iris-setosa\n",
       "4   5            5.0           3.6            1.4           0.2  Iris-setosa"
      ]
     },
     "execution_count": 2,
     "metadata": {},
     "output_type": "execute_result"
    }
   ],
   "source": [
    "df = pd.read_csv(\"../datasets/iris.csv\")\n",
    "df.head()"
   ]
  },
  {
   "cell_type": "code",
   "execution_count": 3,
   "id": "8beac91c",
   "metadata": {},
   "outputs": [
    {
     "data": {
      "application/vnd.microsoft.datawrangler.viewer.v0+json": {
       "columns": [
        {
         "name": "index",
         "rawType": "object",
         "type": "string"
        },
        {
         "name": "0",
         "rawType": "int64",
         "type": "integer"
        }
       ],
       "ref": "ea2faf11-6ad1-45c3-add4-20bb3b9d41d0",
       "rows": [
        [
         "Id",
         "0"
        ],
        [
         "SepalLengthCm",
         "0"
        ],
        [
         "SepalWidthCm",
         "0"
        ],
        [
         "PetalLengthCm",
         "0"
        ],
        [
         "PetalWidthCm",
         "0"
        ],
        [
         "Species",
         "0"
        ]
       ],
       "shape": {
        "columns": 1,
        "rows": 6
       }
      },
      "text/plain": [
       "Id               0\n",
       "SepalLengthCm    0\n",
       "SepalWidthCm     0\n",
       "PetalLengthCm    0\n",
       "PetalWidthCm     0\n",
       "Species          0\n",
       "dtype: int64"
      ]
     },
     "execution_count": 3,
     "metadata": {},
     "output_type": "execute_result"
    }
   ],
   "source": [
    "# check for missing values\n",
    "df.isnull().sum()"
   ]
  },
  {
   "cell_type": "code",
   "execution_count": 4,
   "id": "5629b822",
   "metadata": {},
   "outputs": [
    {
     "data": {
      "text/plain": [
       "(150, 6)"
      ]
     },
     "execution_count": 4,
     "metadata": {},
     "output_type": "execute_result"
    }
   ],
   "source": [
    "df.shape"
   ]
  },
  {
   "cell_type": "markdown",
   "id": "59f1addb",
   "metadata": {},
   "source": [
    "### 1. Drop ID column"
   ]
  },
  {
   "cell_type": "code",
   "execution_count": 5,
   "id": "fed2fefa",
   "metadata": {},
   "outputs": [],
   "source": [
    "df = df.drop(columns=[\"Id\"])"
   ]
  },
  {
   "cell_type": "markdown",
   "id": "7a83ea21",
   "metadata": {},
   "source": [
    "### 2. One-hot encode target variable"
   ]
  },
  {
   "cell_type": "code",
   "execution_count": 6,
   "id": "9bd604fa",
   "metadata": {},
   "outputs": [
    {
     "data": {
      "application/vnd.microsoft.datawrangler.viewer.v0+json": {
       "columns": [
        {
         "name": "index",
         "rawType": "int64",
         "type": "integer"
        },
        {
         "name": "SepalLengthCm",
         "rawType": "float64",
         "type": "float"
        },
        {
         "name": "SepalWidthCm",
         "rawType": "float64",
         "type": "float"
        },
        {
         "name": "PetalLengthCm",
         "rawType": "float64",
         "type": "float"
        },
        {
         "name": "PetalWidthCm",
         "rawType": "float64",
         "type": "float"
        },
        {
         "name": "Species_Iris-setosa",
         "rawType": "bool",
         "type": "boolean"
        },
        {
         "name": "Species_Iris-versicolor",
         "rawType": "bool",
         "type": "boolean"
        },
        {
         "name": "Species_Iris-virginica",
         "rawType": "bool",
         "type": "boolean"
        }
       ],
       "ref": "ddcb8a15-327b-4ae3-9c10-a4561847bfac",
       "rows": [
        [
         "0",
         "5.1",
         "3.5",
         "1.4",
         "0.2",
         "True",
         "False",
         "False"
        ],
        [
         "1",
         "4.9",
         "3.0",
         "1.4",
         "0.2",
         "True",
         "False",
         "False"
        ],
        [
         "2",
         "4.7",
         "3.2",
         "1.3",
         "0.2",
         "True",
         "False",
         "False"
        ],
        [
         "3",
         "4.6",
         "3.1",
         "1.5",
         "0.2",
         "True",
         "False",
         "False"
        ],
        [
         "4",
         "5.0",
         "3.6",
         "1.4",
         "0.2",
         "True",
         "False",
         "False"
        ]
       ],
       "shape": {
        "columns": 7,
        "rows": 5
       }
      },
      "text/html": [
       "<div>\n",
       "<style scoped>\n",
       "    .dataframe tbody tr th:only-of-type {\n",
       "        vertical-align: middle;\n",
       "    }\n",
       "\n",
       "    .dataframe tbody tr th {\n",
       "        vertical-align: top;\n",
       "    }\n",
       "\n",
       "    .dataframe thead th {\n",
       "        text-align: right;\n",
       "    }\n",
       "</style>\n",
       "<table border=\"1\" class=\"dataframe\">\n",
       "  <thead>\n",
       "    <tr style=\"text-align: right;\">\n",
       "      <th></th>\n",
       "      <th>SepalLengthCm</th>\n",
       "      <th>SepalWidthCm</th>\n",
       "      <th>PetalLengthCm</th>\n",
       "      <th>PetalWidthCm</th>\n",
       "      <th>Species_Iris-setosa</th>\n",
       "      <th>Species_Iris-versicolor</th>\n",
       "      <th>Species_Iris-virginica</th>\n",
       "    </tr>\n",
       "  </thead>\n",
       "  <tbody>\n",
       "    <tr>\n",
       "      <th>0</th>\n",
       "      <td>5.1</td>\n",
       "      <td>3.5</td>\n",
       "      <td>1.4</td>\n",
       "      <td>0.2</td>\n",
       "      <td>True</td>\n",
       "      <td>False</td>\n",
       "      <td>False</td>\n",
       "    </tr>\n",
       "    <tr>\n",
       "      <th>1</th>\n",
       "      <td>4.9</td>\n",
       "      <td>3.0</td>\n",
       "      <td>1.4</td>\n",
       "      <td>0.2</td>\n",
       "      <td>True</td>\n",
       "      <td>False</td>\n",
       "      <td>False</td>\n",
       "    </tr>\n",
       "    <tr>\n",
       "      <th>2</th>\n",
       "      <td>4.7</td>\n",
       "      <td>3.2</td>\n",
       "      <td>1.3</td>\n",
       "      <td>0.2</td>\n",
       "      <td>True</td>\n",
       "      <td>False</td>\n",
       "      <td>False</td>\n",
       "    </tr>\n",
       "    <tr>\n",
       "      <th>3</th>\n",
       "      <td>4.6</td>\n",
       "      <td>3.1</td>\n",
       "      <td>1.5</td>\n",
       "      <td>0.2</td>\n",
       "      <td>True</td>\n",
       "      <td>False</td>\n",
       "      <td>False</td>\n",
       "    </tr>\n",
       "    <tr>\n",
       "      <th>4</th>\n",
       "      <td>5.0</td>\n",
       "      <td>3.6</td>\n",
       "      <td>1.4</td>\n",
       "      <td>0.2</td>\n",
       "      <td>True</td>\n",
       "      <td>False</td>\n",
       "      <td>False</td>\n",
       "    </tr>\n",
       "  </tbody>\n",
       "</table>\n",
       "</div>"
      ],
      "text/plain": [
       "   SepalLengthCm  SepalWidthCm  PetalLengthCm  PetalWidthCm  \\\n",
       "0            5.1           3.5            1.4           0.2   \n",
       "1            4.9           3.0            1.4           0.2   \n",
       "2            4.7           3.2            1.3           0.2   \n",
       "3            4.6           3.1            1.5           0.2   \n",
       "4            5.0           3.6            1.4           0.2   \n",
       "\n",
       "   Species_Iris-setosa  Species_Iris-versicolor  Species_Iris-virginica  \n",
       "0                 True                    False                   False  \n",
       "1                 True                    False                   False  \n",
       "2                 True                    False                   False  \n",
       "3                 True                    False                   False  \n",
       "4                 True                    False                   False  "
      ]
     },
     "execution_count": 6,
     "metadata": {},
     "output_type": "execute_result"
    }
   ],
   "source": [
    "# one hot encode target variable\n",
    "df = pd.get_dummies(df, columns=[\"Species\"])\n",
    "df.head()"
   ]
  },
  {
   "cell_type": "markdown",
   "id": "5b87e6f4",
   "metadata": {},
   "source": [
    "### 3. Scale features with z-score normalisation"
   ]
  },
  {
   "cell_type": "code",
   "execution_count": 7,
   "id": "453b59ff",
   "metadata": {},
   "outputs": [
    {
     "name": "stdout",
     "output_type": "stream",
     "text": [
      "['__builtins__', '__cached__', '__doc__', '__file__', '__loader__', '__name__', '__package__', '__spec__', 'scale_z_score']\n"
     ]
    }
   ],
   "source": [
    "print(dir(data_utils))"
   ]
  },
  {
   "cell_type": "code",
   "execution_count": 8,
   "id": "ac212adf",
   "metadata": {},
   "outputs": [
    {
     "data": {
      "application/vnd.microsoft.datawrangler.viewer.v0+json": {
       "columns": [
        {
         "name": "index",
         "rawType": "int64",
         "type": "integer"
        },
        {
         "name": "SepalLengthCm",
         "rawType": "float64",
         "type": "float"
        },
        {
         "name": "SepalWidthCm",
         "rawType": "float64",
         "type": "float"
        },
        {
         "name": "PetalLengthCm",
         "rawType": "float64",
         "type": "float"
        },
        {
         "name": "PetalWidthCm",
         "rawType": "float64",
         "type": "float"
        },
        {
         "name": "Species_Iris-setosa",
         "rawType": "bool",
         "type": "boolean"
        },
        {
         "name": "Species_Iris-versicolor",
         "rawType": "bool",
         "type": "boolean"
        },
        {
         "name": "Species_Iris-virginica",
         "rawType": "bool",
         "type": "boolean"
        }
       ],
       "ref": "b3c8a17e-1d39-4554-90a2-5ba5f7d9993d",
       "rows": [
        [
         "0",
         "-0.8976738791967661",
         "1.0286112808972343",
         "-1.3367940202882493",
         "-1.308592819437958",
         "True",
         "False",
         "False"
        ],
        [
         "1",
         "-1.1392004834649532",
         "-0.12454037930145956",
         "-1.3367940202882493",
         "-1.308592819437958",
         "True",
         "False",
         "False"
        ],
        [
         "2",
         "-1.3807270877331412",
         "0.3367202847780184",
         "-1.393469854952816",
         "-1.308592819437958",
         "True",
         "False",
         "False"
        ],
        [
         "3",
         "-1.5014903898672358",
         "0.10608995273827942",
         "-1.2801181856236823",
         "-1.308592819437958",
         "True",
         "False",
         "False"
        ],
        [
         "4",
         "-1.0184371813308597",
         "1.2592416129369732",
         "-1.3367940202882493",
         "-1.308592819437958",
         "True",
         "False",
         "False"
        ]
       ],
       "shape": {
        "columns": 7,
        "rows": 5
       }
      },
      "text/html": [
       "<div>\n",
       "<style scoped>\n",
       "    .dataframe tbody tr th:only-of-type {\n",
       "        vertical-align: middle;\n",
       "    }\n",
       "\n",
       "    .dataframe tbody tr th {\n",
       "        vertical-align: top;\n",
       "    }\n",
       "\n",
       "    .dataframe thead th {\n",
       "        text-align: right;\n",
       "    }\n",
       "</style>\n",
       "<table border=\"1\" class=\"dataframe\">\n",
       "  <thead>\n",
       "    <tr style=\"text-align: right;\">\n",
       "      <th></th>\n",
       "      <th>SepalLengthCm</th>\n",
       "      <th>SepalWidthCm</th>\n",
       "      <th>PetalLengthCm</th>\n",
       "      <th>PetalWidthCm</th>\n",
       "      <th>Species_Iris-setosa</th>\n",
       "      <th>Species_Iris-versicolor</th>\n",
       "      <th>Species_Iris-virginica</th>\n",
       "    </tr>\n",
       "  </thead>\n",
       "  <tbody>\n",
       "    <tr>\n",
       "      <th>0</th>\n",
       "      <td>-0.897674</td>\n",
       "      <td>1.028611</td>\n",
       "      <td>-1.336794</td>\n",
       "      <td>-1.308593</td>\n",
       "      <td>True</td>\n",
       "      <td>False</td>\n",
       "      <td>False</td>\n",
       "    </tr>\n",
       "    <tr>\n",
       "      <th>1</th>\n",
       "      <td>-1.139200</td>\n",
       "      <td>-0.124540</td>\n",
       "      <td>-1.336794</td>\n",
       "      <td>-1.308593</td>\n",
       "      <td>True</td>\n",
       "      <td>False</td>\n",
       "      <td>False</td>\n",
       "    </tr>\n",
       "    <tr>\n",
       "      <th>2</th>\n",
       "      <td>-1.380727</td>\n",
       "      <td>0.336720</td>\n",
       "      <td>-1.393470</td>\n",
       "      <td>-1.308593</td>\n",
       "      <td>True</td>\n",
       "      <td>False</td>\n",
       "      <td>False</td>\n",
       "    </tr>\n",
       "    <tr>\n",
       "      <th>3</th>\n",
       "      <td>-1.501490</td>\n",
       "      <td>0.106090</td>\n",
       "      <td>-1.280118</td>\n",
       "      <td>-1.308593</td>\n",
       "      <td>True</td>\n",
       "      <td>False</td>\n",
       "      <td>False</td>\n",
       "    </tr>\n",
       "    <tr>\n",
       "      <th>4</th>\n",
       "      <td>-1.018437</td>\n",
       "      <td>1.259242</td>\n",
       "      <td>-1.336794</td>\n",
       "      <td>-1.308593</td>\n",
       "      <td>True</td>\n",
       "      <td>False</td>\n",
       "      <td>False</td>\n",
       "    </tr>\n",
       "  </tbody>\n",
       "</table>\n",
       "</div>"
      ],
      "text/plain": [
       "   SepalLengthCm  SepalWidthCm  PetalLengthCm  PetalWidthCm  \\\n",
       "0      -0.897674      1.028611      -1.336794     -1.308593   \n",
       "1      -1.139200     -0.124540      -1.336794     -1.308593   \n",
       "2      -1.380727      0.336720      -1.393470     -1.308593   \n",
       "3      -1.501490      0.106090      -1.280118     -1.308593   \n",
       "4      -1.018437      1.259242      -1.336794     -1.308593   \n",
       "\n",
       "   Species_Iris-setosa  Species_Iris-versicolor  Species_Iris-virginica  \n",
       "0                 True                    False                   False  \n",
       "1                 True                    False                   False  \n",
       "2                 True                    False                   False  \n",
       "3                 True                    False                   False  \n",
       "4                 True                    False                   False  "
      ]
     },
     "execution_count": 8,
     "metadata": {},
     "output_type": "execute_result"
    }
   ],
   "source": [
    "# scale features to [-1, 1]\n",
    "feature_cols = df.columns[:-3]  # all columns except the last 3 (one-hot encoded target)\n",
    "\n",
    "df[feature_cols] = data_utils.scale_z_score(df[feature_cols])\n",
    "df.head()"
   ]
  },
  {
   "cell_type": "markdown",
   "id": "e536817b",
   "metadata": {},
   "source": [
    "### 4. Prepare X and Y matrices and tensors\n"
   ]
  },
  {
   "cell_type": "code",
   "execution_count": 9,
   "id": "a260c79a",
   "metadata": {},
   "outputs": [],
   "source": [
    "# Prepare data\n",
    "X = df[feature_cols].values\n",
    "y = df[[\"Species_Iris-setosa\", \"Species_Iris-versicolor\", \"Species_Iris-virginica\"]].values\n",
    "\n",
    "# Convert to torch tensors\n",
    "X_tensor = torch.FloatTensor(X)\n",
    "y_tensor = torch.FloatTensor(y)"
   ]
  },
  {
   "cell_type": "markdown",
   "id": "c99d0f3b",
   "metadata": {},
   "source": [
    "## Modelling"
   ]
  },
  {
   "cell_type": "markdown",
   "id": "bb2e6dd5",
   "metadata": {},
   "source": [
    "### Passive learning with stochastic gradient descent"
   ]
  },
  {
   "cell_type": "markdown",
   "id": "e3b4be31",
   "metadata": {},
   "source": [
    "#### Find best control parameters"
   ]
  },
  {
   "cell_type": "code",
   "execution_count": 10,
   "id": "3860cb83",
   "metadata": {},
   "outputs": [
    {
     "name": "stdout",
     "output_type": "stream",
     "text": [
      "Searching for best hyperparameters...\n",
      "Hidden: 64, LR: 0.01, WD: 0.0, Train Acc: 0.9500, Test Acc: 0.9667\n",
      "Hidden: 64, LR: 0.01, WD: 0.001, Train Acc: 0.9500, Test Acc: 0.9667\n",
      "Hidden: 64, LR: 0.01, WD: 0.01, Train Acc: 0.9500, Test Acc: 0.9333\n",
      "Hidden: 64, LR: 0.01, WD: 0.1, Train Acc: 0.8917, Test Acc: 0.9000\n",
      "Hidden: 64, LR: 0.05, WD: 0.0, Train Acc: 0.9750, Test Acc: 0.9667\n",
      "Hidden: 64, LR: 0.05, WD: 0.001, Train Acc: 0.9750, Test Acc: 0.9667\n",
      "Hidden: 64, LR: 0.05, WD: 0.01, Train Acc: 0.9667, Test Acc: 0.9667\n",
      "Hidden: 64, LR: 0.05, WD: 0.1, Train Acc: 0.9167, Test Acc: 0.9333\n",
      "Hidden: 64, LR: 0.1, WD: 0.0, Train Acc: 0.9833, Test Acc: 0.9667\n",
      "Hidden: 64, LR: 0.1, WD: 0.001, Train Acc: 0.9833, Test Acc: 0.9667\n",
      "Hidden: 64, LR: 0.1, WD: 0.01, Train Acc: 0.9667, Test Acc: 0.9667\n",
      "Hidden: 64, LR: 0.1, WD: 0.1, Train Acc: 0.9167, Test Acc: 0.9333\n",
      "Hidden: 64, LR: 0.5, WD: 0.0, Train Acc: 0.9833, Test Acc: 0.9667\n",
      "Hidden: 64, LR: 0.5, WD: 0.001, Train Acc: 0.9833, Test Acc: 0.9667\n",
      "Hidden: 64, LR: 0.5, WD: 0.01, Train Acc: 0.9667, Test Acc: 1.0000\n",
      "Hidden: 64, LR: 0.5, WD: 0.1, Train Acc: 0.9167, Test Acc: 0.9333\n",
      "Hidden: 128, LR: 0.01, WD: 0.0, Train Acc: 0.9500, Test Acc: 0.9667\n",
      "Hidden: 128, LR: 0.01, WD: 0.001, Train Acc: 0.9500, Test Acc: 0.9667\n",
      "Hidden: 128, LR: 0.01, WD: 0.01, Train Acc: 0.9500, Test Acc: 0.9667\n",
      "Hidden: 128, LR: 0.01, WD: 0.1, Train Acc: 0.9083, Test Acc: 0.9333\n",
      "Hidden: 128, LR: 0.05, WD: 0.0, Train Acc: 0.9750, Test Acc: 0.9667\n",
      "Hidden: 128, LR: 0.05, WD: 0.001, Train Acc: 0.9750, Test Acc: 0.9667\n",
      "Hidden: 128, LR: 0.05, WD: 0.01, Train Acc: 0.9667, Test Acc: 0.9667\n",
      "Hidden: 128, LR: 0.05, WD: 0.1, Train Acc: 0.9167, Test Acc: 0.9333\n",
      "Hidden: 128, LR: 0.1, WD: 0.0, Train Acc: 0.9833, Test Acc: 0.9667\n",
      "Hidden: 128, LR: 0.1, WD: 0.001, Train Acc: 0.9833, Test Acc: 0.9667\n",
      "Hidden: 128, LR: 0.1, WD: 0.01, Train Acc: 0.9667, Test Acc: 0.9667\n",
      "Hidden: 128, LR: 0.1, WD: 0.1, Train Acc: 0.9167, Test Acc: 0.9333\n",
      "Hidden: 128, LR: 0.5, WD: 0.0, Train Acc: 0.9917, Test Acc: 0.9667\n",
      "Hidden: 128, LR: 0.5, WD: 0.001, Train Acc: 0.9917, Test Acc: 0.9667\n",
      "Hidden: 128, LR: 0.5, WD: 0.01, Train Acc: 0.9667, Test Acc: 1.0000\n",
      "Hidden: 128, LR: 0.5, WD: 0.1, Train Acc: 0.9167, Test Acc: 0.9333\n",
      "Hidden: 256, LR: 0.01, WD: 0.0, Train Acc: 0.9583, Test Acc: 0.9667\n",
      "Hidden: 256, LR: 0.01, WD: 0.001, Train Acc: 0.9583, Test Acc: 0.9667\n",
      "Hidden: 256, LR: 0.01, WD: 0.01, Train Acc: 0.9583, Test Acc: 0.9667\n",
      "Hidden: 256, LR: 0.01, WD: 0.1, Train Acc: 0.9250, Test Acc: 0.9333\n",
      "Hidden: 256, LR: 0.05, WD: 0.0, Train Acc: 0.9750, Test Acc: 0.9667\n",
      "Hidden: 256, LR: 0.05, WD: 0.001, Train Acc: 0.9750, Test Acc: 0.9667\n",
      "Hidden: 256, LR: 0.05, WD: 0.01, Train Acc: 0.9667, Test Acc: 0.9667\n",
      "Hidden: 256, LR: 0.05, WD: 0.1, Train Acc: 0.9167, Test Acc: 0.9333\n",
      "Hidden: 256, LR: 0.1, WD: 0.0, Train Acc: 0.9833, Test Acc: 0.9667\n",
      "Hidden: 256, LR: 0.1, WD: 0.001, Train Acc: 0.9833, Test Acc: 0.9667\n",
      "Hidden: 256, LR: 0.1, WD: 0.01, Train Acc: 0.9667, Test Acc: 0.9667\n",
      "Hidden: 256, LR: 0.1, WD: 0.1, Train Acc: 0.9167, Test Acc: 0.9333\n",
      "Hidden: 256, LR: 0.5, WD: 0.0, Train Acc: 0.9917, Test Acc: 0.9667\n",
      "Hidden: 256, LR: 0.5, WD: 0.001, Train Acc: 0.9917, Test Acc: 0.9667\n",
      "Hidden: 256, LR: 0.5, WD: 0.01, Train Acc: 0.9667, Test Acc: 1.0000\n",
      "Hidden: 256, LR: 0.5, WD: 0.1, Train Acc: 0.9167, Test Acc: 0.9333\n",
      "Hidden: 512, LR: 0.01, WD: 0.0, Train Acc: 0.9667, Test Acc: 0.9667\n",
      "Hidden: 512, LR: 0.01, WD: 0.001, Train Acc: 0.9667, Test Acc: 0.9667\n",
      "Hidden: 512, LR: 0.01, WD: 0.01, Train Acc: 0.9583, Test Acc: 0.9667\n",
      "Hidden: 512, LR: 0.01, WD: 0.1, Train Acc: 0.9333, Test Acc: 0.9333\n",
      "Hidden: 512, LR: 0.05, WD: 0.0, Train Acc: 0.9833, Test Acc: 0.9667\n",
      "Hidden: 512, LR: 0.05, WD: 0.001, Train Acc: 0.9750, Test Acc: 0.9667\n",
      "Hidden: 512, LR: 0.05, WD: 0.01, Train Acc: 0.9750, Test Acc: 0.9667\n",
      "Hidden: 512, LR: 0.05, WD: 0.1, Train Acc: 0.9083, Test Acc: 0.9333\n",
      "Hidden: 512, LR: 0.1, WD: 0.0, Train Acc: 0.9833, Test Acc: 0.9667\n",
      "Hidden: 512, LR: 0.1, WD: 0.001, Train Acc: 0.9833, Test Acc: 0.9667\n",
      "Hidden: 512, LR: 0.1, WD: 0.01, Train Acc: 0.9750, Test Acc: 0.9667\n",
      "Hidden: 512, LR: 0.1, WD: 0.1, Train Acc: 0.9167, Test Acc: 0.9333\n",
      "Hidden: 512, LR: 0.5, WD: 0.0, Train Acc: 1.0000, Test Acc: 0.9667\n",
      "Hidden: 512, LR: 0.5, WD: 0.001, Train Acc: 0.9917, Test Acc: 0.9667\n",
      "Hidden: 512, LR: 0.5, WD: 0.01, Train Acc: 0.9667, Test Acc: 1.0000\n",
      "Hidden: 512, LR: 0.5, WD: 0.1, Train Acc: 0.9167, Test Acc: 0.9333\n",
      "\n",
      "Best parameters: {'hidden_size': 64, 'learning_rate': 0.5, 'weight_decay': 0.01, 'train_acc': 0.9666666666666667, 'test_acc': 1.0}\n"
     ]
    }
   ],
   "source": [
    "# Split data\n",
    "X_train, X_test, y_train, y_test = train_test_split(X_tensor, y_tensor, test_size=0.2, random_state=12, stratify=y)\n",
    "\n",
    "# Hyperparameter search function\n",
    "def train_and_evaluate(hidden_size, learning_rate, weight_decay, epochs=1000):\n",
    "    model = models.IrisNet(input_size=4, hidden_size=hidden_size, output_size=3)\n",
    "    \n",
    "    # Use CrossEntropyLoss (combines LogSoftmax and NLLLoss)\n",
    "    criterion = nn.CrossEntropyLoss()\n",
    "    optimizer = optim.SGD(model.parameters(), lr=learning_rate, weight_decay=weight_decay)\n",
    "    \n",
    "    # Convert labels to class indices for CrossEntropyLoss\n",
    "    y_train_idx = torch.argmax(y_train, dim=1)\n",
    "    y_test_idx = torch.argmax(y_test, dim=1)\n",
    "    \n",
    "    # Training\n",
    "    losses = []\n",
    "    for epoch in range(epochs):\n",
    "        optimizer.zero_grad()\n",
    "        outputs = model(X_train)\n",
    "        loss = criterion(outputs, y_train_idx)\n",
    "        loss.backward()\n",
    "        optimizer.step()\n",
    "        losses.append(loss.item())\n",
    "    \n",
    "    # Evaluation\n",
    "    model.eval()\n",
    "    with torch.no_grad():\n",
    "        train_outputs = model(X_train)\n",
    "        test_outputs = model(X_test)\n",
    "        \n",
    "        train_pred = torch.argmax(train_outputs, dim=1)\n",
    "        test_pred = torch.argmax(test_outputs, dim=1)\n",
    "        \n",
    "        train_acc = accuracy_score(y_train_idx.numpy(), train_pred.numpy())\n",
    "        test_acc = accuracy_score(y_test_idx.numpy(), test_pred.numpy())\n",
    "    \n",
    "    return model, train_acc, test_acc, losses\n",
    "\n",
    "# Hyperparameter grid search\n",
    "hidden_sizes = [64, 128, 256, 512]\n",
    "learning_rates = [0.01, 0.05, 0.1, 0.5]\n",
    "weight_decays = [0.0, 0.001, 0.01, 0.1]\n",
    "\n",
    "best_params = {}\n",
    "best_test_acc = 0\n",
    "results = []\n",
    "\n",
    "print(\"Searching for best hyperparameters...\")\n",
    "for hidden_size in hidden_sizes:\n",
    "    for lr in learning_rates:\n",
    "        for wd in weight_decays:\n",
    "            model, train_acc, test_acc, losses = train_and_evaluate(hidden_size, lr, wd)\n",
    "            results.append({\n",
    "                'hidden_size': hidden_size,\n",
    "                'learning_rate': lr,\n",
    "                'weight_decay': wd,\n",
    "                'train_acc': train_acc,\n",
    "                'test_acc': test_acc\n",
    "            })\n",
    "            \n",
    "            if test_acc > best_test_acc:\n",
    "                best_test_acc = test_acc\n",
    "                best_params = {\n",
    "                    'hidden_size': hidden_size,\n",
    "                    'learning_rate': lr,\n",
    "                    'weight_decay': wd,\n",
    "                    'train_acc': train_acc,\n",
    "                    'test_acc': test_acc\n",
    "                }\n",
    "            \n",
    "            print(f\"Hidden: {hidden_size}, LR: {lr}, WD: {wd}, Train Acc: {train_acc:.4f}, Test Acc: {test_acc:.4f}\")\n",
    "\n",
    "print(f\"\\nBest parameters: {best_params}\")\n",
    "\n"
   ]
  },
  {
   "cell_type": "markdown",
   "id": "aea3d8b4",
   "metadata": {},
   "source": [
    "#### Run 50 trials with best control parameters"
   ]
  },
  {
   "cell_type": "code",
   "execution_count": null,
   "id": "1cb6ed6a",
   "metadata": {},
   "outputs": [],
   "source": []
  },
  {
   "cell_type": "markdown",
   "id": "5cd2d09a",
   "metadata": {},
   "source": [
    "### Active learning with output sensitivity analysis"
   ]
  },
  {
   "cell_type": "code",
   "execution_count": null,
   "id": "80207450",
   "metadata": {},
   "outputs": [],
   "source": []
  },
  {
   "cell_type": "markdown",
   "id": "7d8f14c7",
   "metadata": {},
   "source": [
    "### Active learning with uncertainty sampling"
   ]
  },
  {
   "cell_type": "code",
   "execution_count": null,
   "id": "5302fcae",
   "metadata": {},
   "outputs": [],
   "source": []
  },
  {
   "cell_type": "markdown",
   "id": "e6ef2c39",
   "metadata": {},
   "source": [
    "## Evaluation"
   ]
  },
  {
   "cell_type": "code",
   "execution_count": null,
   "id": "d9e9ca88",
   "metadata": {},
   "outputs": [],
   "source": []
  }
 ],
 "metadata": {
  "kernelspec": {
   "display_name": "Python 3",
   "language": "python",
   "name": "python3"
  },
  "language_info": {
   "codemirror_mode": {
    "name": "ipython",
    "version": 3
   },
   "file_extension": ".py",
   "mimetype": "text/x-python",
   "name": "python",
   "nbconvert_exporter": "python",
   "pygments_lexer": "ipython3",
   "version": "3.13.7"
  }
 },
 "nbformat": 4,
 "nbformat_minor": 5
}
