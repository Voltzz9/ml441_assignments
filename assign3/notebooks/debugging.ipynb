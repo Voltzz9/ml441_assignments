{
 "cells": [
  {
   "cell_type": "markdown",
   "id": "9582ee87",
   "metadata": {},
   "source": [
    "# 1 Classification of Iris Dataset"
   ]
  },
  {
   "cell_type": "markdown",
   "id": "d264098a",
   "metadata": {},
   "source": [
    "### David Nicolay 26296918"
   ]
  },
  {
   "cell_type": "code",
   "execution_count": 2,
   "id": "d86712c8",
   "metadata": {},
   "outputs": [],
   "source": [
    "# imports\n",
    "import pandas as pd\n",
    "import numpy as np\n",
    "import torch\n",
    "from sklearn.model_selection import train_test_split\n",
    "from sklearn.metrics import accuracy_score, classification_report\n",
    "import matplotlib.pyplot as plt\n",
    "import torch.nn as nn\n",
    "import torch.optim as optim\n",
    "\n",
    "# model result saving\n",
    "import pickle\n",
    "import os\n",
    "from datetime import datetime\n",
    "\n",
    "\n",
    "# import my utils\n",
    "import sys\n",
    "sys.path.append('../')\n",
    "from src import data_utils, models\n",
    "\n",
    "# Import the evaluation utilities\n",
    "from src.active_learning import ModelEvaluator, compare_learning_strategies, ActiveLearningEvaluator\n",
    "from src.metrics import compute_computational_savings"
   ]
  },
  {
   "cell_type": "markdown",
   "id": "27ec3b9c",
   "metadata": {},
   "source": [
    "## Data pre-processing"
   ]
  },
  {
   "cell_type": "code",
   "execution_count": 3,
   "id": "259ebcb9",
   "metadata": {},
   "outputs": [
    {
     "data": {
      "application/vnd.microsoft.datawrangler.viewer.v0+json": {
       "columns": [
        {
         "name": "index",
         "rawType": "int64",
         "type": "integer"
        },
        {
         "name": "Id",
         "rawType": "int64",
         "type": "integer"
        },
        {
         "name": "SepalLengthCm",
         "rawType": "float64",
         "type": "float"
        },
        {
         "name": "SepalWidthCm",
         "rawType": "float64",
         "type": "float"
        },
        {
         "name": "PetalLengthCm",
         "rawType": "float64",
         "type": "float"
        },
        {
         "name": "PetalWidthCm",
         "rawType": "float64",
         "type": "float"
        },
        {
         "name": "Species",
         "rawType": "object",
         "type": "string"
        }
       ],
       "ref": "e634b447-399e-46dd-84cc-30ec5216efbb",
       "rows": [
        [
         "0",
         "1",
         "5.1",
         "3.5",
         "1.4",
         "0.2",
         "Iris-setosa"
        ],
        [
         "1",
         "2",
         "4.9",
         "3.0",
         "1.4",
         "0.2",
         "Iris-setosa"
        ],
        [
         "2",
         "3",
         "4.7",
         "3.2",
         "1.3",
         "0.2",
         "Iris-setosa"
        ],
        [
         "3",
         "4",
         "4.6",
         "3.1",
         "1.5",
         "0.2",
         "Iris-setosa"
        ],
        [
         "4",
         "5",
         "5.0",
         "3.6",
         "1.4",
         "0.2",
         "Iris-setosa"
        ]
       ],
       "shape": {
        "columns": 6,
        "rows": 5
       }
      },
      "text/html": [
       "<div>\n",
       "<style scoped>\n",
       "    .dataframe tbody tr th:only-of-type {\n",
       "        vertical-align: middle;\n",
       "    }\n",
       "\n",
       "    .dataframe tbody tr th {\n",
       "        vertical-align: top;\n",
       "    }\n",
       "\n",
       "    .dataframe thead th {\n",
       "        text-align: right;\n",
       "    }\n",
       "</style>\n",
       "<table border=\"1\" class=\"dataframe\">\n",
       "  <thead>\n",
       "    <tr style=\"text-align: right;\">\n",
       "      <th></th>\n",
       "      <th>Id</th>\n",
       "      <th>SepalLengthCm</th>\n",
       "      <th>SepalWidthCm</th>\n",
       "      <th>PetalLengthCm</th>\n",
       "      <th>PetalWidthCm</th>\n",
       "      <th>Species</th>\n",
       "    </tr>\n",
       "  </thead>\n",
       "  <tbody>\n",
       "    <tr>\n",
       "      <th>0</th>\n",
       "      <td>1</td>\n",
       "      <td>5.1</td>\n",
       "      <td>3.5</td>\n",
       "      <td>1.4</td>\n",
       "      <td>0.2</td>\n",
       "      <td>Iris-setosa</td>\n",
       "    </tr>\n",
       "    <tr>\n",
       "      <th>1</th>\n",
       "      <td>2</td>\n",
       "      <td>4.9</td>\n",
       "      <td>3.0</td>\n",
       "      <td>1.4</td>\n",
       "      <td>0.2</td>\n",
       "      <td>Iris-setosa</td>\n",
       "    </tr>\n",
       "    <tr>\n",
       "      <th>2</th>\n",
       "      <td>3</td>\n",
       "      <td>4.7</td>\n",
       "      <td>3.2</td>\n",
       "      <td>1.3</td>\n",
       "      <td>0.2</td>\n",
       "      <td>Iris-setosa</td>\n",
       "    </tr>\n",
       "    <tr>\n",
       "      <th>3</th>\n",
       "      <td>4</td>\n",
       "      <td>4.6</td>\n",
       "      <td>3.1</td>\n",
       "      <td>1.5</td>\n",
       "      <td>0.2</td>\n",
       "      <td>Iris-setosa</td>\n",
       "    </tr>\n",
       "    <tr>\n",
       "      <th>4</th>\n",
       "      <td>5</td>\n",
       "      <td>5.0</td>\n",
       "      <td>3.6</td>\n",
       "      <td>1.4</td>\n",
       "      <td>0.2</td>\n",
       "      <td>Iris-setosa</td>\n",
       "    </tr>\n",
       "  </tbody>\n",
       "</table>\n",
       "</div>"
      ],
      "text/plain": [
       "   Id  SepalLengthCm  SepalWidthCm  PetalLengthCm  PetalWidthCm      Species\n",
       "0   1            5.1           3.5            1.4           0.2  Iris-setosa\n",
       "1   2            4.9           3.0            1.4           0.2  Iris-setosa\n",
       "2   3            4.7           3.2            1.3           0.2  Iris-setosa\n",
       "3   4            4.6           3.1            1.5           0.2  Iris-setosa\n",
       "4   5            5.0           3.6            1.4           0.2  Iris-setosa"
      ]
     },
     "execution_count": 3,
     "metadata": {},
     "output_type": "execute_result"
    }
   ],
   "source": [
    "df = pd.read_csv(\"../datasets/iris.csv\")\n",
    "df.head()"
   ]
  },
  {
   "cell_type": "code",
   "execution_count": 4,
   "id": "8beac91c",
   "metadata": {},
   "outputs": [
    {
     "data": {
      "application/vnd.microsoft.datawrangler.viewer.v0+json": {
       "columns": [
        {
         "name": "index",
         "rawType": "object",
         "type": "string"
        },
        {
         "name": "0",
         "rawType": "int64",
         "type": "integer"
        }
       ],
       "ref": "3024978b-8936-4c2f-950f-26994c9129ab",
       "rows": [
        [
         "Id",
         "0"
        ],
        [
         "SepalLengthCm",
         "0"
        ],
        [
         "SepalWidthCm",
         "0"
        ],
        [
         "PetalLengthCm",
         "0"
        ],
        [
         "PetalWidthCm",
         "0"
        ],
        [
         "Species",
         "0"
        ]
       ],
       "shape": {
        "columns": 1,
        "rows": 6
       }
      },
      "text/plain": [
       "Id               0\n",
       "SepalLengthCm    0\n",
       "SepalWidthCm     0\n",
       "PetalLengthCm    0\n",
       "PetalWidthCm     0\n",
       "Species          0\n",
       "dtype: int64"
      ]
     },
     "execution_count": 4,
     "metadata": {},
     "output_type": "execute_result"
    }
   ],
   "source": [
    "# check for missing values\n",
    "df.isnull().sum()"
   ]
  },
  {
   "cell_type": "code",
   "execution_count": 5,
   "id": "5629b822",
   "metadata": {},
   "outputs": [
    {
     "data": {
      "text/plain": [
       "(150, 6)"
      ]
     },
     "execution_count": 5,
     "metadata": {},
     "output_type": "execute_result"
    }
   ],
   "source": [
    "df.shape"
   ]
  },
  {
   "cell_type": "markdown",
   "id": "59f1addb",
   "metadata": {},
   "source": [
    "### 1. Drop ID column"
   ]
  },
  {
   "cell_type": "code",
   "execution_count": 6,
   "id": "fed2fefa",
   "metadata": {},
   "outputs": [],
   "source": [
    "df = df.drop(columns=[\"Id\"])"
   ]
  },
  {
   "cell_type": "markdown",
   "id": "7a83ea21",
   "metadata": {},
   "source": [
    "### 2. One-hot encode target variable"
   ]
  },
  {
   "cell_type": "code",
   "execution_count": 7,
   "id": "9bd604fa",
   "metadata": {},
   "outputs": [
    {
     "data": {
      "application/vnd.microsoft.datawrangler.viewer.v0+json": {
       "columns": [
        {
         "name": "index",
         "rawType": "int64",
         "type": "integer"
        },
        {
         "name": "SepalLengthCm",
         "rawType": "float64",
         "type": "float"
        },
        {
         "name": "SepalWidthCm",
         "rawType": "float64",
         "type": "float"
        },
        {
         "name": "PetalLengthCm",
         "rawType": "float64",
         "type": "float"
        },
        {
         "name": "PetalWidthCm",
         "rawType": "float64",
         "type": "float"
        },
        {
         "name": "Species_Iris-setosa",
         "rawType": "bool",
         "type": "boolean"
        },
        {
         "name": "Species_Iris-versicolor",
         "rawType": "bool",
         "type": "boolean"
        },
        {
         "name": "Species_Iris-virginica",
         "rawType": "bool",
         "type": "boolean"
        }
       ],
       "ref": "d072ffab-c573-411f-b4c0-c94152c63ce7",
       "rows": [
        [
         "0",
         "5.1",
         "3.5",
         "1.4",
         "0.2",
         "True",
         "False",
         "False"
        ],
        [
         "1",
         "4.9",
         "3.0",
         "1.4",
         "0.2",
         "True",
         "False",
         "False"
        ],
        [
         "2",
         "4.7",
         "3.2",
         "1.3",
         "0.2",
         "True",
         "False",
         "False"
        ],
        [
         "3",
         "4.6",
         "3.1",
         "1.5",
         "0.2",
         "True",
         "False",
         "False"
        ],
        [
         "4",
         "5.0",
         "3.6",
         "1.4",
         "0.2",
         "True",
         "False",
         "False"
        ]
       ],
       "shape": {
        "columns": 7,
        "rows": 5
       }
      },
      "text/html": [
       "<div>\n",
       "<style scoped>\n",
       "    .dataframe tbody tr th:only-of-type {\n",
       "        vertical-align: middle;\n",
       "    }\n",
       "\n",
       "    .dataframe tbody tr th {\n",
       "        vertical-align: top;\n",
       "    }\n",
       "\n",
       "    .dataframe thead th {\n",
       "        text-align: right;\n",
       "    }\n",
       "</style>\n",
       "<table border=\"1\" class=\"dataframe\">\n",
       "  <thead>\n",
       "    <tr style=\"text-align: right;\">\n",
       "      <th></th>\n",
       "      <th>SepalLengthCm</th>\n",
       "      <th>SepalWidthCm</th>\n",
       "      <th>PetalLengthCm</th>\n",
       "      <th>PetalWidthCm</th>\n",
       "      <th>Species_Iris-setosa</th>\n",
       "      <th>Species_Iris-versicolor</th>\n",
       "      <th>Species_Iris-virginica</th>\n",
       "    </tr>\n",
       "  </thead>\n",
       "  <tbody>\n",
       "    <tr>\n",
       "      <th>0</th>\n",
       "      <td>5.1</td>\n",
       "      <td>3.5</td>\n",
       "      <td>1.4</td>\n",
       "      <td>0.2</td>\n",
       "      <td>True</td>\n",
       "      <td>False</td>\n",
       "      <td>False</td>\n",
       "    </tr>\n",
       "    <tr>\n",
       "      <th>1</th>\n",
       "      <td>4.9</td>\n",
       "      <td>3.0</td>\n",
       "      <td>1.4</td>\n",
       "      <td>0.2</td>\n",
       "      <td>True</td>\n",
       "      <td>False</td>\n",
       "      <td>False</td>\n",
       "    </tr>\n",
       "    <tr>\n",
       "      <th>2</th>\n",
       "      <td>4.7</td>\n",
       "      <td>3.2</td>\n",
       "      <td>1.3</td>\n",
       "      <td>0.2</td>\n",
       "      <td>True</td>\n",
       "      <td>False</td>\n",
       "      <td>False</td>\n",
       "    </tr>\n",
       "    <tr>\n",
       "      <th>3</th>\n",
       "      <td>4.6</td>\n",
       "      <td>3.1</td>\n",
       "      <td>1.5</td>\n",
       "      <td>0.2</td>\n",
       "      <td>True</td>\n",
       "      <td>False</td>\n",
       "      <td>False</td>\n",
       "    </tr>\n",
       "    <tr>\n",
       "      <th>4</th>\n",
       "      <td>5.0</td>\n",
       "      <td>3.6</td>\n",
       "      <td>1.4</td>\n",
       "      <td>0.2</td>\n",
       "      <td>True</td>\n",
       "      <td>False</td>\n",
       "      <td>False</td>\n",
       "    </tr>\n",
       "  </tbody>\n",
       "</table>\n",
       "</div>"
      ],
      "text/plain": [
       "   SepalLengthCm  SepalWidthCm  PetalLengthCm  PetalWidthCm  \\\n",
       "0            5.1           3.5            1.4           0.2   \n",
       "1            4.9           3.0            1.4           0.2   \n",
       "2            4.7           3.2            1.3           0.2   \n",
       "3            4.6           3.1            1.5           0.2   \n",
       "4            5.0           3.6            1.4           0.2   \n",
       "\n",
       "   Species_Iris-setosa  Species_Iris-versicolor  Species_Iris-virginica  \n",
       "0                 True                    False                   False  \n",
       "1                 True                    False                   False  \n",
       "2                 True                    False                   False  \n",
       "3                 True                    False                   False  \n",
       "4                 True                    False                   False  "
      ]
     },
     "execution_count": 7,
     "metadata": {},
     "output_type": "execute_result"
    }
   ],
   "source": [
    "# one hot encode target variable\n",
    "df = pd.get_dummies(df, columns=[\"Species\"])\n",
    "df.head()"
   ]
  },
  {
   "cell_type": "markdown",
   "id": "5b87e6f4",
   "metadata": {},
   "source": [
    "### 3. Scale features to [-1, 1]"
   ]
  },
  {
   "cell_type": "code",
   "execution_count": 8,
   "id": "453b59ff",
   "metadata": {},
   "outputs": [
    {
     "name": "stdout",
     "output_type": "stream",
     "text": [
      "['__builtins__', '__cached__', '__doc__', '__file__', '__loader__', '__name__', '__package__', '__spec__', 'scale_min_max', 'scale_z_score']\n"
     ]
    }
   ],
   "source": [
    "print(dir(data_utils))"
   ]
  },
  {
   "cell_type": "code",
   "execution_count": 9,
   "id": "ac212adf",
   "metadata": {},
   "outputs": [
    {
     "data": {
      "application/vnd.microsoft.datawrangler.viewer.v0+json": {
       "columns": [
        {
         "name": "index",
         "rawType": "int64",
         "type": "integer"
        },
        {
         "name": "SepalLengthCm",
         "rawType": "float64",
         "type": "float"
        },
        {
         "name": "SepalWidthCm",
         "rawType": "float64",
         "type": "float"
        },
        {
         "name": "PetalLengthCm",
         "rawType": "float64",
         "type": "float"
        },
        {
         "name": "PetalWidthCm",
         "rawType": "float64",
         "type": "float"
        },
        {
         "name": "Species_Iris-setosa",
         "rawType": "bool",
         "type": "boolean"
        },
        {
         "name": "Species_Iris-versicolor",
         "rawType": "bool",
         "type": "boolean"
        },
        {
         "name": "Species_Iris-virginica",
         "rawType": "bool",
         "type": "boolean"
        }
       ],
       "ref": "26a117fb-8c78-4e28-83a7-e698d89733aa",
       "rows": [
        [
         "0",
         "-0.5555555555555558",
         "0.24999999999999978",
         "-0.864406779661017",
         "-0.9166666666666666",
         "True",
         "False",
         "False"
        ],
        [
         "1",
         "-0.6666666666666664",
         "-0.16666666666666674",
         "-0.864406779661017",
         "-0.9166666666666666",
         "True",
         "False",
         "False"
        ],
        [
         "2",
         "-0.7777777777777777",
         "0.0",
         "-0.8983050847457628",
         "-0.9166666666666666",
         "True",
         "False",
         "False"
        ],
        [
         "3",
         "-0.8333333333333335",
         "-0.08333333333333337",
         "-0.8305084745762712",
         "-0.9166666666666666",
         "True",
         "False",
         "False"
        ],
        [
         "4",
         "-0.611111111111111",
         "0.33333333333333326",
         "-0.864406779661017",
         "-0.9166666666666666",
         "True",
         "False",
         "False"
        ]
       ],
       "shape": {
        "columns": 7,
        "rows": 5
       }
      },
      "text/html": [
       "<div>\n",
       "<style scoped>\n",
       "    .dataframe tbody tr th:only-of-type {\n",
       "        vertical-align: middle;\n",
       "    }\n",
       "\n",
       "    .dataframe tbody tr th {\n",
       "        vertical-align: top;\n",
       "    }\n",
       "\n",
       "    .dataframe thead th {\n",
       "        text-align: right;\n",
       "    }\n",
       "</style>\n",
       "<table border=\"1\" class=\"dataframe\">\n",
       "  <thead>\n",
       "    <tr style=\"text-align: right;\">\n",
       "      <th></th>\n",
       "      <th>SepalLengthCm</th>\n",
       "      <th>SepalWidthCm</th>\n",
       "      <th>PetalLengthCm</th>\n",
       "      <th>PetalWidthCm</th>\n",
       "      <th>Species_Iris-setosa</th>\n",
       "      <th>Species_Iris-versicolor</th>\n",
       "      <th>Species_Iris-virginica</th>\n",
       "    </tr>\n",
       "  </thead>\n",
       "  <tbody>\n",
       "    <tr>\n",
       "      <th>0</th>\n",
       "      <td>-0.555556</td>\n",
       "      <td>0.250000</td>\n",
       "      <td>-0.864407</td>\n",
       "      <td>-0.916667</td>\n",
       "      <td>True</td>\n",
       "      <td>False</td>\n",
       "      <td>False</td>\n",
       "    </tr>\n",
       "    <tr>\n",
       "      <th>1</th>\n",
       "      <td>-0.666667</td>\n",
       "      <td>-0.166667</td>\n",
       "      <td>-0.864407</td>\n",
       "      <td>-0.916667</td>\n",
       "      <td>True</td>\n",
       "      <td>False</td>\n",
       "      <td>False</td>\n",
       "    </tr>\n",
       "    <tr>\n",
       "      <th>2</th>\n",
       "      <td>-0.777778</td>\n",
       "      <td>0.000000</td>\n",
       "      <td>-0.898305</td>\n",
       "      <td>-0.916667</td>\n",
       "      <td>True</td>\n",
       "      <td>False</td>\n",
       "      <td>False</td>\n",
       "    </tr>\n",
       "    <tr>\n",
       "      <th>3</th>\n",
       "      <td>-0.833333</td>\n",
       "      <td>-0.083333</td>\n",
       "      <td>-0.830508</td>\n",
       "      <td>-0.916667</td>\n",
       "      <td>True</td>\n",
       "      <td>False</td>\n",
       "      <td>False</td>\n",
       "    </tr>\n",
       "    <tr>\n",
       "      <th>4</th>\n",
       "      <td>-0.611111</td>\n",
       "      <td>0.333333</td>\n",
       "      <td>-0.864407</td>\n",
       "      <td>-0.916667</td>\n",
       "      <td>True</td>\n",
       "      <td>False</td>\n",
       "      <td>False</td>\n",
       "    </tr>\n",
       "  </tbody>\n",
       "</table>\n",
       "</div>"
      ],
      "text/plain": [
       "   SepalLengthCm  SepalWidthCm  PetalLengthCm  PetalWidthCm  \\\n",
       "0      -0.555556      0.250000      -0.864407     -0.916667   \n",
       "1      -0.666667     -0.166667      -0.864407     -0.916667   \n",
       "2      -0.777778      0.000000      -0.898305     -0.916667   \n",
       "3      -0.833333     -0.083333      -0.830508     -0.916667   \n",
       "4      -0.611111      0.333333      -0.864407     -0.916667   \n",
       "\n",
       "   Species_Iris-setosa  Species_Iris-versicolor  Species_Iris-virginica  \n",
       "0                 True                    False                   False  \n",
       "1                 True                    False                   False  \n",
       "2                 True                    False                   False  \n",
       "3                 True                    False                   False  \n",
       "4                 True                    False                   False  "
      ]
     },
     "execution_count": 9,
     "metadata": {},
     "output_type": "execute_result"
    }
   ],
   "source": [
    "# scale features to [-1, 1]\n",
    "feature_cols = df.columns[:-3]  # all columns except the last 3 (one-hot encoded target)\n",
    "\n",
    "df[feature_cols] = data_utils.scale_min_max(df[feature_cols], min_val=-1, max_val=1)\n",
    "df.head()"
   ]
  },
  {
   "cell_type": "markdown",
   "id": "e536817b",
   "metadata": {},
   "source": [
    "### 4. Prepare X and Y matrices and tensors\n"
   ]
  },
  {
   "cell_type": "code",
   "execution_count": 10,
   "id": "a260c79a",
   "metadata": {},
   "outputs": [],
   "source": [
    "# Prepare data\n",
    "X = df[feature_cols].values\n",
    "y_raw = df[[\"Species_Iris-setosa\", \"Species_Iris-versicolor\", \"Species_Iris-virginica\"]].values\n",
    "\n",
    "# Scale one-hot encoded outputs to [0.1, 0.9] for MSE\n",
    "# 0 -> 0.1, 1 -> 0.9\n",
    "y = y_raw * 0.8 + 0.1\n",
    "\n",
    "# Convert to torch tensors\n",
    "X_tensor = torch.FloatTensor(X)\n",
    "y_tensor = torch.FloatTensor(y)"
   ]
  },
  {
   "cell_type": "code",
   "execution_count": 11,
   "id": "218bf8e0",
   "metadata": {},
   "outputs": [],
   "source": [
    "# set matplotlib to Times New Roman font\n",
    "plt.rcParams[\"font.family\"] = \"Times New Roman\"\n",
    "plt.rcParams[\"font.size\"] = 14\n"
   ]
  },
  {
   "cell_type": "code",
   "execution_count": null,
   "id": "f31f9108",
   "metadata": {},
   "outputs": [],
   "source": []
  },
  {
   "cell_type": "code",
   "execution_count": null,
   "id": "a691b665",
   "metadata": {},
   "outputs": [],
   "source": []
  },
  {
   "cell_type": "code",
   "execution_count": 12,
   "id": "1b3cc028",
   "metadata": {},
   "outputs": [
    {
     "name": "stdout",
     "output_type": "stream",
     "text": [
      "Successfully loaded best parameters:\n",
      "Best parameters: {'hidden_size': 64, 'learning_rate': 0.5, 'weight_decay': 0.0, 'momentum': 0.9, 'train_acc': 0.975, 'test_acc': 1.0}\n"
     ]
    }
   ],
   "source": [
    "\n",
    "\n",
    "results_dir = \"../results/iris\"\n",
    "best_params_filename = os.path.join(results_dir, \"best_hyperparameters.pkl\")\n",
    "\n",
    "# Check if the file exists\n",
    "if os.path.exists(best_params_filename):\n",
    "    with open(best_params_filename, 'rb') as f:\n",
    "        loaded_best_params = pickle.load(f)\n",
    "    \n",
    "    print(\"Successfully loaded best parameters:\")\n",
    "    print(f\"Best parameters: {loaded_best_params}\")\n",
    "    \n",
    "    # Verify they match the current best_params\n",
    "    if 'best_params' in locals():\n",
    "        print(f\"Parameters match current session: {best_params == loaded_best_params}\")\n",
    "    \n",
    "    # Use loaded parameters (in case we're running this cell independently)\n",
    "    best_params = loaded_best_params\n",
    "    \n",
    "else:\n",
    "    print(f\"Best parameters file not found at: {best_params_filename}\")\n",
    "    print(\"Make sure to run the hyperparameter search first!\")"
   ]
  },
  {
   "cell_type": "code",
   "execution_count": null,
   "id": "5f68de1d",
   "metadata": {},
   "outputs": [],
   "source": []
  },
  {
   "cell_type": "code",
   "execution_count": null,
   "id": "26c79dbd",
   "metadata": {},
   "outputs": [],
   "source": []
  },
  {
   "cell_type": "markdown",
   "id": "6b437994",
   "metadata": {},
   "source": [
    "#### TESTING: Debugging SASLA Implementation"
   ]
  },
  {
   "cell_type": "code",
   "execution_count": 13,
   "id": "8effef47",
   "metadata": {},
   "outputs": [
    {
     "name": "stdout",
     "output_type": "stream",
     "text": [
      "Running Output Sensitivity (SASLA) evaluation...\n",
      "This may take some time due to derivative calculations...\n",
      "Starting 1 trial evaluation for output_sensitivity active learning...\n",
      "Parameters: {'hidden_size': 64, 'learning_rate': 0.5, 'weight_decay': 0.0, 'momentum': 0.9, 'train_acc': 0.975, 'test_acc': 1.0}\n",
      "Cross-validation: No (1 folds)\n",
      "Trial 1/1\n"
     ]
    },
    {
     "name": "stderr",
     "output_type": "stream",
     "text": [
      "/home/davidnicolay/Documents/ml441/ml441_assignments/assign3/notebooks/../src/metrics.py:156: SmallSampleWarning: One or more sample arguments is too small; all returned values will be NaN. See documentation for sample size requirements.\n",
      "  scale=stats.sem(train_acc_array))\n",
      "/home/davidnicolay/Documents/ml441/ml441_assignments/assign3/notebooks/../src/metrics.py:159: SmallSampleWarning: One or more sample arguments is too small; all returned values will be NaN. See documentation for sample size requirements.\n",
      "  scale=stats.sem(test_acc_array))\n"
     ]
    }
   ],
   "source": [
    "\n",
    "# Create evaluator for output sensitivity\n",
    "os_evaluator2 = ActiveLearningEvaluator(convergence_threshold=0.95)\n",
    "\n",
    "# Run evaluation with correct SASLA parameters\n",
    "print(\"Running Output Sensitivity (SASLA) evaluation...\")\n",
    "print(\"This may take some time due to derivative calculations...\")\n",
    "os_results2 = os_evaluator2.evaluate_active_learning(\n",
    "    X_tensor, y_tensor,\n",
    "    best_params,\n",
    "    strategy='output_sensitivity',\n",
    "    n_trials=1,\n",
    "    use_cv=False,\n",
    "    cv_folds=1,\n",
    "    epochs=1000,\n",
    "    random_state=12,\n",
    "    # SASLA-specific parameters (from the paper)\n",
    "    alpha=0.9,                      # Selection constant (conservative approach)\n",
    "    selection_interval=1            # Apply selection every epoch\n",
    ")"
   ]
  },
  {
   "cell_type": "code",
   "execution_count": 17,
   "id": "7f65e9ed",
   "metadata": {},
   "outputs": [
    {
     "data": {
      "text/plain": [
       "{25: [64], 100: [36], 200: [36], 300: [34], 500: [34], 1000: [34]}"
      ]
     },
     "execution_count": 17,
     "metadata": {},
     "output_type": "execute_result"
    }
   ],
   "source": [
    "os_evaluator2.training_set_sizes_by_epoch"
   ]
  },
  {
   "cell_type": "code",
   "execution_count": 18,
   "id": "7085a8d3",
   "metadata": {},
   "outputs": [
    {
     "data": {
      "text/plain": [
       "[155.33685183525085]"
      ]
     },
     "execution_count": 18,
     "metadata": {},
     "output_type": "execute_result"
    }
   ],
   "source": [
    "os_evaluator2.metrics_tracker.computation_times"
   ]
  },
  {
   "cell_type": "code",
   "execution_count": null,
   "id": "fe9c4101",
   "metadata": {},
   "outputs": [],
   "source": []
  },
  {
   "cell_type": "code",
   "execution_count": null,
   "id": "94c59d1a",
   "metadata": {},
   "outputs": [],
   "source": []
  },
  {
   "cell_type": "code",
   "execution_count": null,
   "id": "41aad18c",
   "metadata": {},
   "outputs": [],
   "source": []
  },
  {
   "cell_type": "code",
   "execution_count": null,
   "id": "1e2a4d49",
   "metadata": {},
   "outputs": [],
   "source": []
  },
  {
   "cell_type": "markdown",
   "id": "7d8f14c7",
   "metadata": {},
   "source": [
    "### Active learning with uncertainty sampling\n",
    "\n"
   ]
  },
  {
   "cell_type": "code",
   "execution_count": 11,
   "id": "c633729c",
   "metadata": {},
   "outputs": [
    {
     "name": "stdout",
     "output_type": "stream",
     "text": [
      "================================================================================\n",
      "RUNNING UNCERTAINTY SAMPLING WITH ENHANCED TRACKING\n",
      "================================================================================\n",
      "\n",
      "Running Enhanced Uncertainty Sampling Active Learning evaluation...\n",
      "Starting 50 trial evaluation for uncertainty_sampling active learning...\n",
      "Parameters: {'hidden_size': 64, 'learning_rate': 0.5, 'weight_decay': 0.0, 'momentum': 0.9, 'train_acc': 0.975, 'test_acc': 1.0}\n",
      "Cross-validation: Yes (5 folds)\n",
      "Trial 1/50\n",
      "Trial 2/50\n",
      "Trial 2/50\n",
      "Trial 3/50\n",
      "Trial 3/50\n",
      "Trial 4/50\n",
      "Trial 4/50\n",
      "Trial 5/50\n",
      "Trial 5/50\n",
      "Trial 6/50\n",
      "Trial 6/50\n",
      "Trial 7/50\n",
      "Trial 7/50\n",
      "Trial 8/50\n",
      "Trial 8/50\n",
      "Trial 9/50\n",
      "Trial 9/50\n",
      "Trial 10/50\n",
      "Trial 10/50\n",
      "Trial 11/50\n",
      "Trial 11/50\n",
      "Trial 12/50\n",
      "Trial 12/50\n",
      "Trial 13/50\n",
      "Trial 13/50\n",
      "Trial 14/50\n",
      "Trial 14/50\n",
      "Trial 15/50\n",
      "Trial 15/50\n",
      "Trial 16/50\n",
      "Trial 16/50\n",
      "Trial 17/50\n",
      "Trial 17/50\n",
      "Trial 18/50\n",
      "Trial 18/50\n",
      "Trial 19/50\n",
      "Trial 19/50\n",
      "Trial 20/50\n",
      "Trial 20/50\n",
      "Trial 21/50\n",
      "Trial 21/50\n",
      "Trial 22/50\n",
      "Trial 22/50\n",
      "Trial 23/50\n",
      "Trial 23/50\n",
      "Trial 24/50\n",
      "Trial 24/50\n",
      "Trial 25/50\n",
      "Trial 25/50\n",
      "Trial 26/50\n",
      "Trial 26/50\n",
      "Trial 27/50\n",
      "Trial 27/50\n",
      "Trial 28/50\n",
      "Trial 28/50\n",
      "Trial 29/50\n",
      "Trial 29/50\n",
      "Trial 30/50\n",
      "Trial 30/50\n",
      "Trial 31/50\n",
      "Trial 31/50\n",
      "Trial 32/50\n",
      "Trial 32/50\n",
      "Trial 33/50\n",
      "Trial 33/50\n",
      "Trial 34/50\n",
      "Trial 34/50\n",
      "Trial 35/50\n",
      "Trial 35/50\n",
      "Trial 36/50\n",
      "Trial 36/50\n",
      "Trial 37/50\n",
      "Trial 37/50\n",
      "Trial 38/50\n",
      "Trial 38/50\n",
      "Trial 39/50\n",
      "Trial 39/50\n",
      "Trial 40/50\n",
      "Trial 40/50\n",
      "Trial 41/50\n",
      "Trial 41/50\n",
      "Trial 42/50\n",
      "Trial 42/50\n",
      "Trial 43/50\n",
      "Trial 43/50\n",
      "Trial 44/50\n",
      "Trial 44/50\n",
      "Trial 45/50\n",
      "Trial 45/50\n",
      "Trial 46/50\n",
      "Trial 46/50\n",
      "Trial 47/50\n",
      "Trial 47/50\n",
      "Trial 48/50\n",
      "Trial 48/50\n",
      "Trial 49/50\n",
      "Trial 49/50\n",
      "Trial 50/50\n",
      "Trial 50/50\n",
      "\n",
      "Evaluation completed!\n",
      "\n",
      "Evaluation completed!\n"
     ]
    }
   ],
   "source": [
    "# Uncertainty sampling with enhanced training set size tracking\n",
    "print(\"=\" * 80)\n",
    "print(\"RUNNING UNCERTAINTY SAMPLING WITH ENHANCED TRACKING\")\n",
    "print(\"=\" * 80)\n",
    "print()\n",
    "\n",
    "# Create new evaluator for enhanced uncertainty sampling\n",
    "us_evaluator_enhanced = ActiveLearningEvaluator(convergence_threshold=0.95)\n",
    "\n",
    "print(\"Running Enhanced Uncertainty Sampling Active Learning evaluation...\")\n",
    "us_results_enhanced = us_evaluator_enhanced.evaluate_active_learning(\n",
    "    X=X_tensor,\n",
    "    y=y_tensor,\n",
    "    best_params=best_params,\n",
    "    strategy='uncertainty_sampling',\n",
    "    n_trials=50,\n",
    "    use_cv=True,\n",
    "    cv_folds=5,\n",
    "    epochs=1000,\n",
    "    random_state=12,\n",
    "    uncertainty_method='entropy'\n",
    ")\n",
    "\n",
    "print(\"\\nEvaluation completed!\")"
   ]
  },
  {
   "cell_type": "code",
   "execution_count": 12,
   "id": "66216bc5",
   "metadata": {},
   "outputs": [
    {
     "name": "stdout",
     "output_type": "stream",
     "text": [
      "\n",
      "================================================================================\n",
      "ENHANCED UNCERTAINTY SAMPLING RESULTS\n",
      "================================================================================\n",
      "================================================================================\n",
      "COMPREHENSIVE EVALUATION REPORT\n",
      "================================================================================\n",
      "\n",
      "ACCURACY METRICS (n=50 trials)\n",
      "--------------------------------------------------\n",
      "Train Accuracy: 0.9692 ± 0.0105\n",
      "Test Accuracy:  0.9613 ± 0.0322\n",
      "Val Accuracy:   0.9613 ± 0.0105\n",
      "\n",
      "95% CONFIDENCE INTERVALS\n",
      "--------------------------------------------------\n",
      "Train Accuracy: [0.9662, 0.9722]\n",
      "Test Accuracy:  [0.9521, 0.9706]\n",
      "\n",
      "BEST GENERALIZATION\n",
      "--------------------------------------------------\n",
      "Best Test Accuracy: 1.0000\n",
      "Pattern Presentations: 0\n",
      "Epochs to Best: 0\n",
      "Generalization Factor: 1.0453\n",
      "\n",
      "EFFICIENCY METRICS\n",
      "--------------------------------------------------\n",
      "Avg Pattern Presentations: 801.6 ± 668.8\n",
      "Avg Computation Time: 1.955s ± 0.165s\n",
      "\n",
      "CONVERGENCE ANALYSIS\n",
      "--------------------------------------------------\n",
      "Convergence Rate (≥95.0%): 72.0%\n",
      "Avg Epochs to Converge: 6.9 ± 5.5\n",
      "\n",
      "TRAINING SET SIZE ANALYSIS\n",
      "==================================================\n",
      "Original Training Set Size: 120\n",
      "Final Training Set Size: 112.0 ± 0.0\n",
      "Training Set Reduction: 6.7% ± 0.0%\n",
      "\n",
      "Training Set Sizes at Specific Epochs:\n",
      "----------------------------------------\n",
      "  Epoch   25:   14.0 ±   0.0 samples (range: 14-14)\n",
      "  Epoch  100:   20.0 ±   0.0 samples (range: 20-20)\n",
      "  Epoch  200:   30.0 ±   0.0 samples (range: 30-30)\n",
      "  Epoch  300:   40.0 ±   0.0 samples (range: 40-40)\n",
      "  Epoch  500:   60.0 ±   0.0 samples (range: 60-60)\n",
      "  Epoch 1000:  110.0 ±   0.0 samples (range: 110-110)\n"
     ]
    }
   ],
   "source": [
    "# Print detailed results with training set size tracking\n",
    "print(\"\\n\" + \"=\" * 80)\n",
    "print(\"ENHANCED UNCERTAINTY SAMPLING RESULTS\")\n",
    "print(\"=\" * 80)\n",
    "\n",
    "us_evaluator_enhanced.print_report()\n",
    "\n",
    "print(f\"\\nTRAINING SET SIZE ANALYSIS\")\n",
    "print(\"=\" * 50)\n",
    "\n",
    "# Final training set sizes\n",
    "if 'final_training_set_size_mean' in us_results_enhanced:\n",
    "    print(f\"Original Training Set Size: {us_results_enhanced['original_training_set_size_mean']:.0f}\")\n",
    "    print(f\"Final Training Set Size: {us_results_enhanced['final_training_set_size_mean']:.1f} ± {us_results_enhanced['final_training_set_size_std']:.1f}\")\n",
    "    print(f\"Training Set Reduction: {us_results_enhanced['training_set_reduction_mean']:.1f}% ± {us_results_enhanced['training_set_reduction_std']:.1f}%\")\n",
    "\n",
    "# Training set sizes at specific epochs\n",
    "if 'training_set_sizes_by_epoch' in us_results_enhanced:\n",
    "    print(f\"\\nTraining Set Sizes at Specific Epochs:\")\n",
    "    print(\"-\" * 40)\n",
    "    for epoch_key, stats in us_results_enhanced['training_set_sizes_by_epoch'].items():\n",
    "        epoch = epoch_key.replace('size_at_', '').replace('_epochs', '')\n",
    "        print(f\"  Epoch {epoch:>4}: {stats['mean']:>6.1f} ± {stats['std']:>5.1f} samples (range: {stats['min']:.0f}-{stats['max']:.0f})\")\n",
    "\n",
    "# Store results for comparison\n",
    "uncertainty_sampling_results_enhanced = us_results_enhanced.copy()"
   ]
  },
  {
   "cell_type": "markdown",
   "id": "e6ef2c39",
   "metadata": {},
   "source": [
    "#### Evaluation"
   ]
  },
  {
   "cell_type": "code",
   "execution_count": null,
   "id": "8d26fd9a",
   "metadata": {},
   "outputs": [],
   "source": [
    "# TODO"
   ]
  },
  {
   "cell_type": "code",
   "execution_count": null,
   "id": "86f3dda8",
   "metadata": {},
   "outputs": [],
   "source": []
  },
  {
   "cell_type": "markdown",
   "id": "ad8505a4",
   "metadata": {},
   "source": [
    "### Active learning with uncertainty sampling Ensemble"
   ]
  },
  {
   "cell_type": "code",
   "execution_count": 13,
   "id": "02351580",
   "metadata": {},
   "outputs": [
    {
     "name": "stdout",
     "output_type": "stream",
     "text": [
      "================================================================================\n",
      "RUNNING ENSEMBLE UNCERTAINTY SAMPLING ACTIVE LEARNING\n",
      "================================================================================\n",
      "\n",
      "Ensemble approach:\n",
      "1. Train multiple NNs with different random initializations\n",
      "2. At inference, average predictions across ensemble members\n",
      "3. Uncertainty = variance across ensemble predictions\n",
      "4. Select samples with highest prediction variance for labeling\n",
      "5. Using 3 models in ensemble for computational efficiency\n",
      "\n",
      "Running Ensemble Uncertainty Sampling evaluation...\n",
      "Using 3 models in ensemble (kept small for efficiency)...\n",
      "Starting 50 trial evaluation for ensemble_uncertainty active learning...\n",
      "Parameters: {'hidden_size': 64, 'learning_rate': 0.5, 'weight_decay': 0.0, 'momentum': 0.9, 'train_acc': 0.975, 'test_acc': 1.0}\n",
      "Cross-validation: No (5 folds)\n",
      "Trial 1/50\n",
      "Trial 2/50\n",
      "Trial 2/50\n",
      "Trial 3/50\n",
      "Trial 3/50\n",
      "Trial 4/50\n",
      "Trial 4/50\n",
      "Trial 5/50\n",
      "Trial 5/50\n",
      "Trial 6/50\n",
      "Trial 6/50\n",
      "Trial 7/50\n",
      "Trial 7/50\n",
      "Trial 8/50\n",
      "Trial 8/50\n",
      "Trial 9/50\n",
      "Trial 9/50\n",
      "Trial 10/50\n",
      "Trial 10/50\n",
      "Trial 11/50\n",
      "Trial 11/50\n",
      "Trial 12/50\n",
      "Trial 12/50\n",
      "Trial 13/50\n",
      "Trial 13/50\n",
      "Trial 14/50\n",
      "Trial 14/50\n",
      "Trial 15/50\n",
      "Trial 15/50\n",
      "Trial 16/50\n",
      "Trial 16/50\n",
      "Trial 17/50\n",
      "Trial 17/50\n",
      "Trial 18/50\n",
      "Trial 18/50\n",
      "Trial 19/50\n",
      "Trial 19/50\n",
      "Trial 20/50\n",
      "Trial 20/50\n",
      "Trial 21/50\n",
      "Trial 21/50\n",
      "Trial 22/50\n",
      "Trial 22/50\n",
      "Trial 23/50\n",
      "Trial 23/50\n",
      "Trial 24/50\n",
      "Trial 24/50\n",
      "Trial 25/50\n",
      "Trial 25/50\n",
      "Trial 26/50\n",
      "Trial 26/50\n",
      "Trial 27/50\n",
      "Trial 27/50\n",
      "Trial 28/50\n",
      "Trial 28/50\n",
      "Trial 29/50\n",
      "Trial 29/50\n",
      "Trial 30/50\n",
      "Trial 30/50\n",
      "Trial 31/50\n",
      "Trial 31/50\n",
      "Trial 32/50\n",
      "Trial 32/50\n",
      "Trial 33/50\n",
      "Trial 33/50\n",
      "Trial 34/50\n",
      "Trial 34/50\n",
      "Trial 35/50\n",
      "Trial 35/50\n",
      "Trial 36/50\n",
      "Trial 36/50\n",
      "Trial 37/50\n",
      "Trial 37/50\n",
      "Trial 38/50\n",
      "Trial 38/50\n",
      "Trial 39/50\n",
      "Trial 39/50\n",
      "Trial 40/50\n",
      "Trial 40/50\n",
      "Trial 41/50\n",
      "Trial 41/50\n",
      "Trial 42/50\n",
      "Trial 42/50\n",
      "Trial 43/50\n",
      "Trial 43/50\n",
      "Trial 44/50\n",
      "Trial 44/50\n",
      "Trial 45/50\n",
      "Trial 45/50\n",
      "Trial 46/50\n",
      "Trial 46/50\n",
      "Trial 47/50\n",
      "Trial 47/50\n",
      "Trial 48/50\n",
      "Trial 48/50\n",
      "Trial 49/50\n",
      "Trial 49/50\n",
      "Trial 50/50\n",
      "Trial 50/50\n",
      "\n",
      "Ensemble Uncertainty Sampling evaluation completed!\n",
      "\n",
      "Ensemble Uncertainty Sampling evaluation completed!\n"
     ]
    }
   ],
   "source": [
    "# Ensemble Uncertainty Sampling Active Learning Evaluation\n",
    "print(\"=\" * 80)\n",
    "print(\"RUNNING ENSEMBLE UNCERTAINTY SAMPLING ACTIVE LEARNING\")\n",
    "print(\"=\" * 80)\n",
    "print()\n",
    "print(\"Ensemble approach:\")\n",
    "print(\"1. Train multiple NNs with different random initializations\")\n",
    "print(\"2. At inference, average predictions across ensemble members\")\n",
    "print(\"3. Uncertainty = variance across ensemble predictions\")\n",
    "print(\"4. Select samples with highest prediction variance for labeling\")\n",
    "print(\"5. Using 3 models in ensemble for computational efficiency\")\n",
    "print()\n",
    "\n",
    "# Create evaluator for ensemble uncertainty sampling\n",
    "ensemble_evaluator = ActiveLearningEvaluator(convergence_threshold=0.95)\n",
    "\n",
    "print(\"Running Ensemble Uncertainty Sampling evaluation...\")\n",
    "print(\"Using 3 models in ensemble (kept small for efficiency)...\")\n",
    "ensemble_results = ensemble_evaluator.evaluate_active_learning(\n",
    "    X=X_tensor,\n",
    "    y=y_tensor,\n",
    "    best_params=best_params,\n",
    "    strategy='ensemble_uncertainty',\n",
    "    n_trials=50,\n",
    "    use_cv=False,\n",
    "    cv_folds=5,\n",
    "    epochs=1000,\n",
    "    random_state=12,\n",
    "    n_ensemble=3  # Keep ensemble small for computational efficiency\n",
    ")\n",
    "\n",
    "print(\"\\nEnsemble Uncertainty Sampling evaluation completed!\")"
   ]
  },
  {
   "cell_type": "code",
   "execution_count": 14,
   "id": "85b312d2",
   "metadata": {},
   "outputs": [
    {
     "name": "stdout",
     "output_type": "stream",
     "text": [
      "\n",
      "================================================================================\n",
      "ENSEMBLE UNCERTAINTY SAMPLING RESULTS\n",
      "================================================================================\n",
      "================================================================================\n",
      "COMPREHENSIVE EVALUATION REPORT\n",
      "================================================================================\n",
      "\n",
      "ACCURACY METRICS (n=50 trials)\n",
      "--------------------------------------------------\n",
      "Train Accuracy: 0.9780 ± 0.0084\n",
      "Test Accuracy:  0.9660 ± 0.0302\n",
      "\n",
      "95% CONFIDENCE INTERVALS\n",
      "--------------------------------------------------\n",
      "Train Accuracy: [0.9756, 0.9805]\n",
      "Test Accuracy:  [0.9573, 0.9747]\n",
      "\n",
      "BEST GENERALIZATION\n",
      "--------------------------------------------------\n",
      "Best Test Accuracy: 1.0000\n",
      "Pattern Presentations: 1920\n",
      "Epochs to Best: 16\n",
      "Generalization Factor: 1.0275\n",
      "\n",
      "EFFICIENCY METRICS\n",
      "--------------------------------------------------\n",
      "Avg Pattern Presentations: 1485.6 ± 711.1\n",
      "Avg Computation Time: 0.850s ± 0.027s\n",
      "\n",
      "CONVERGENCE ANALYSIS\n",
      "--------------------------------------------------\n",
      "Convergence Rate (≥95.0%): 74.0%\n",
      "Avg Epochs to Converge: 12.6 ± 5.8\n",
      "\n",
      "TRAINING SET SIZE ANALYSIS\n",
      "==================================================\n",
      "Original Training Set Size: 120\n",
      "Final Training Set Size: 112.0 ± 0.0\n",
      "Training Set Reduction: 6.7% ± 0.0%\n",
      "\n",
      "Training Set Sizes at Specific Epochs:\n",
      "----------------------------------------\n",
      "  Epoch   25:   14.0 ±   0.0 samples (range: 14-14)\n",
      "  Epoch  100:   20.0 ±   0.0 samples (range: 20-20)\n",
      "  Epoch  200:   30.0 ±   0.0 samples (range: 30-30)\n",
      "  Epoch  300:   40.0 ±   0.0 samples (range: 40-40)\n",
      "  Epoch  500:   60.0 ±   0.0 samples (range: 60-60)\n",
      "  Epoch 1000:  110.0 ±   0.0 samples (range: 110-110)\n",
      "\n",
      "ENSEMBLE SPECIFIC METRICS\n",
      "==============================\n",
      "Ensemble Size: 3 models\n",
      "Uncertainty Measure: Variance across ensemble predictions\n",
      "Selection Strategy: Highest prediction variance\n"
     ]
    }
   ],
   "source": [
    "# Print detailed results with training set size tracking\n",
    "print(\"\\n\" + \"=\" * 80)\n",
    "print(\"ENSEMBLE UNCERTAINTY SAMPLING RESULTS\")\n",
    "print(\"=\" * 80)\n",
    "\n",
    "ensemble_evaluator.print_report()\n",
    "\n",
    "print(f\"\\nTRAINING SET SIZE ANALYSIS\")\n",
    "print(\"=\" * 50)\n",
    "\n",
    "# Final training set sizes\n",
    "if 'final_training_set_size_mean' in ensemble_results:\n",
    "    print(f\"Original Training Set Size: {ensemble_results['original_training_set_size_mean']:.0f}\")\n",
    "    print(f\"Final Training Set Size: {ensemble_results['final_training_set_size_mean']:.1f} ± {ensemble_results['final_training_set_size_std']:.1f}\")\n",
    "    print(f\"Training Set Reduction: {ensemble_results['training_set_reduction_mean']:.1f}% ± {ensemble_results['training_set_reduction_std']:.1f}%\")\n",
    "\n",
    "# Training set sizes at specific epochs\n",
    "if 'training_set_sizes_by_epoch' in ensemble_results:\n",
    "    print(f\"\\nTraining Set Sizes at Specific Epochs:\")\n",
    "    print(\"-\" * 40)\n",
    "    for epoch_key, stats in ensemble_results['training_set_sizes_by_epoch'].items():\n",
    "        epoch = epoch_key.replace('size_at_', '').replace('_epochs', '')\n",
    "        print(f\"  Epoch {epoch:>4}: {stats['mean']:>6.1f} ± {stats['std']:>5.1f} samples (range: {stats['min']:.0f}-{stats['max']:.0f})\")\n",
    "\n",
    "print(f\"\\nENSEMBLE SPECIFIC METRICS\")\n",
    "print(\"=\" * 30)\n",
    "print(f\"Ensemble Size: 3 models\")\n",
    "print(f\"Uncertainty Measure: Variance across ensemble predictions\")\n",
    "print(f\"Selection Strategy: Highest prediction variance\")\n",
    "\n",
    "# Store results for comparison\n",
    "ensemble_uncertainty_results = ensemble_results.copy()"
   ]
  },
  {
   "cell_type": "markdown",
   "id": "088c4dfb",
   "metadata": {},
   "source": [
    "#### Evaluation"
   ]
  },
  {
   "cell_type": "code",
   "execution_count": 16,
   "id": "fb935f46",
   "metadata": {},
   "outputs": [
    {
     "name": "stdout",
     "output_type": "stream",
     "text": [
      "Saved ensemble evaluator to: ../results/iris/ensemble_uncertainty_evaluator.pkl\n",
      "Saved ensemble results to: ../results/iris/ensemble_uncertainty_results.pkl\n",
      "Saved ensemble summary to: ../results/iris/ensemble_uncertainty_summary.txt\n",
      "\n",
      "Ensemble Active Learning Summary:\n",
      "Test Accuracy: 0.9660 ± 0.0302\n",
      "Training Efficiency: 6.7% reduction in training data\n",
      "Convergence Rate: 74.0%\n"
     ]
    }
   ],
   "source": [
    "# Save ensemble results for comparison and persistence\n",
    "results_dir = \"../results/iris\"\n",
    "os.makedirs(results_dir, exist_ok=True)\n",
    "\n",
    "# Save ensemble evaluator and results\n",
    "ensemble_evaluator_filename = os.path.join(results_dir, \"ensemble_uncertainty_evaluator.pkl\")\n",
    "with open(ensemble_evaluator_filename, 'wb') as f:\n",
    "    pickle.dump(ensemble_evaluator, f)\n",
    "\n",
    "ensemble_results_filename = os.path.join(results_dir, \"ensemble_uncertainty_results.pkl\")\n",
    "with open(ensemble_results_filename, 'wb') as f:\n",
    "    pickle.dump(ensemble_results, f)\n",
    "\n",
    "# Create summary for ensemble approach\n",
    "ensemble_summary_filename = os.path.join(results_dir, \"ensemble_uncertainty_summary.txt\")\n",
    "with open(ensemble_summary_filename, 'w') as f:\n",
    "    f.write(\"ENSEMBLE UNCERTAINTY SAMPLING RESULTS SUMMARY\\n\")\n",
    "    f.write(\"=\" * 60 + \"\\n\")\n",
    "    f.write(f\"Saved at: {datetime.now().strftime('%Y-%m-%d %H:%M:%S')}\\n\")\n",
    "    f.write(f\"Dataset: Iris\\n\")\n",
    "    f.write(f\"Method: Ensemble Uncertainty Sampling Active Learning\\n\")\n",
    "    f.write(f\"Number of trials: 50\\n\")\n",
    "    f.write(f\"Cross-validation: 5-fold\\n\")\n",
    "    f.write(f\"Ensemble size: 3 models\\n\\n\")\n",
    "    \n",
    "    f.write(\"PERFORMANCE METRICS:\\n\")\n",
    "    f.write(\"-\" * 20 + \"\\n\")\n",
    "    f.write(f\"Training Accuracy: {ensemble_results['train_acc_mean']:.4f} ± {ensemble_results['train_acc_std']:.4f}\\n\")\n",
    "    f.write(f\"Test Accuracy: {ensemble_results['test_acc_mean']:.4f} ± {ensemble_results['test_acc_std']:.4f}\\n\")\n",
    "    # f.write(f\"Validation Accuracy: {ensemble_results['val_acc_mean']:.4f} ± {ensemble_results['val_acc_std']:.4f}\\n\")\n",
    "    f.write(f\"Best Test Accuracy: {ensemble_results['best_test_acc']:.4f}\\n\")\n",
    "    f.write(f\"Convergence Rate: {ensemble_results['convergence_rate']:.1%}\\n\")\n",
    "    f.write(f\"Avg Pattern Presentations: {ensemble_results['avg_pattern_presentations']:.1f}\\n\")\n",
    "    \n",
    "    if 'final_training_set_size_mean' in ensemble_results:\n",
    "        f.write(f\"\\nTRAINING SET EFFICIENCY:\\n\")\n",
    "        f.write(\"-\" * 25 + \"\\n\")\n",
    "        f.write(f\"Original Training Set Size: {ensemble_results['original_training_set_size_mean']:.0f}\\n\")\n",
    "        f.write(f\"Final Training Set Size: {ensemble_results['final_training_set_size_mean']:.1f} ± {ensemble_results['final_training_set_size_std']:.1f}\\n\")\n",
    "        f.write(f\"Training Set Reduction: {ensemble_results['training_set_reduction_mean']:.1f}% ± {ensemble_results['training_set_reduction_std']:.1f}%\\n\")\n",
    "\n",
    "print(f\"Saved ensemble evaluator to: {ensemble_evaluator_filename}\")\n",
    "print(f\"Saved ensemble results to: {ensemble_results_filename}\")\n",
    "print(f\"Saved ensemble summary to: {ensemble_summary_filename}\")\n",
    "\n",
    "print(f\"\\nEnsemble Active Learning Summary:\")\n",
    "print(f\"Test Accuracy: {ensemble_results['test_acc_mean']:.4f} ± {ensemble_results['test_acc_std']:.4f}\")\n",
    "print(f\"Training Efficiency: {ensemble_results['training_set_reduction_mean']:.1f}% reduction in training data\")\n",
    "print(f\"Convergence Rate: {ensemble_results['convergence_rate']:.1%}\")"
   ]
  },
  {
   "cell_type": "code",
   "execution_count": null,
   "id": "6dcfc06c",
   "metadata": {},
   "outputs": [],
   "source": []
  },
  {
   "cell_type": "code",
   "execution_count": null,
   "id": "724412f5",
   "metadata": {},
   "outputs": [],
   "source": []
  },
  {
   "cell_type": "markdown",
   "id": "20c30c8b",
   "metadata": {},
   "source": [
    "## Model Comparison"
   ]
  },
  {
   "cell_type": "code",
   "execution_count": null,
   "id": "8c4f0513",
   "metadata": {},
   "outputs": [],
   "source": [
    "# Plot 1: Generalisation (y axis) vs Number of Pattern Presentations (x axis) for all methods on same plot"
   ]
  },
  {
   "cell_type": "code",
   "execution_count": null,
   "id": "53232a24",
   "metadata": {},
   "outputs": [],
   "source": []
  },
  {
   "cell_type": "code",
   "execution_count": null,
   "id": "590cb4f9",
   "metadata": {},
   "outputs": [],
   "source": []
  },
  {
   "cell_type": "code",
   "execution_count": null,
   "id": "fe5ecdb1",
   "metadata": {},
   "outputs": [],
   "source": []
  },
  {
   "cell_type": "code",
   "execution_count": null,
   "id": "590a7900",
   "metadata": {},
   "outputs": [],
   "source": []
  }
 ],
 "metadata": {
  "kernelspec": {
   "display_name": "Python 3",
   "language": "python",
   "name": "python3"
  },
  "language_info": {
   "codemirror_mode": {
    "name": "ipython",
    "version": 3
   },
   "file_extension": ".py",
   "mimetype": "text/x-python",
   "name": "python",
   "nbconvert_exporter": "python",
   "pygments_lexer": "ipython3",
   "version": "3.13.7"
  }
 },
 "nbformat": 4,
 "nbformat_minor": 5
}
