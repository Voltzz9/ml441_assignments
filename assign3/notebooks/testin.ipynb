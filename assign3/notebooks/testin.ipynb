{
 "cells": [
  {
   "cell_type": "markdown",
   "id": "28c43e2d",
   "metadata": {},
   "source": [
    "# Testing - TODO delete this"
   ]
  },
  {
   "cell_type": "code",
   "execution_count": 1,
   "id": "46fd5a3b",
   "metadata": {},
   "outputs": [],
   "source": [
    "# imports\n",
    "import pandas as pd\n",
    "import numpy as np\n",
    "import torch\n",
    "from sklearn.model_selection import train_test_split\n",
    "from sklearn.metrics import accuracy_score, classification_report\n",
    "import matplotlib.pyplot as plt\n",
    "import torch.nn as nn\n",
    "import torch.optim as optim\n",
    "\n",
    "# model result saving\n",
    "import pickle\n",
    "import os\n",
    "from datetime import datetime\n",
    "\n",
    "\n",
    "# import my utils\n",
    "import sys\n",
    "sys.path.append('../')\n",
    "from src import data_utils, models\n",
    "\n",
    "# Import the evaluation utilities\n",
    "from src.active_learning import ModelEvaluator, compare_learning_strategies, ActiveLearningEvaluator\n",
    "from src.metrics import compute_computational_savings"
   ]
  },
  {
   "cell_type": "markdown",
   "id": "107b3516",
   "metadata": {},
   "source": [
    "## Data pre-processing"
   ]
  },
  {
   "cell_type": "code",
   "execution_count": 2,
   "id": "86a77730",
   "metadata": {},
   "outputs": [
    {
     "data": {
      "application/vnd.microsoft.datawrangler.viewer.v0+json": {
       "columns": [
        {
         "name": "index",
         "rawType": "int64",
         "type": "integer"
        },
        {
         "name": "Id",
         "rawType": "int64",
         "type": "integer"
        },
        {
         "name": "SepalLengthCm",
         "rawType": "float64",
         "type": "float"
        },
        {
         "name": "SepalWidthCm",
         "rawType": "float64",
         "type": "float"
        },
        {
         "name": "PetalLengthCm",
         "rawType": "float64",
         "type": "float"
        },
        {
         "name": "PetalWidthCm",
         "rawType": "float64",
         "type": "float"
        },
        {
         "name": "Species",
         "rawType": "object",
         "type": "string"
        }
       ],
       "ref": "71c29945-a2bc-4827-846c-c97be0cae27f",
       "rows": [
        [
         "0",
         "1",
         "5.1",
         "3.5",
         "1.4",
         "0.2",
         "Iris-setosa"
        ],
        [
         "1",
         "2",
         "4.9",
         "3.0",
         "1.4",
         "0.2",
         "Iris-setosa"
        ],
        [
         "2",
         "3",
         "4.7",
         "3.2",
         "1.3",
         "0.2",
         "Iris-setosa"
        ],
        [
         "3",
         "4",
         "4.6",
         "3.1",
         "1.5",
         "0.2",
         "Iris-setosa"
        ],
        [
         "4",
         "5",
         "5.0",
         "3.6",
         "1.4",
         "0.2",
         "Iris-setosa"
        ]
       ],
       "shape": {
        "columns": 6,
        "rows": 5
       }
      },
      "text/html": [
       "<div>\n",
       "<style scoped>\n",
       "    .dataframe tbody tr th:only-of-type {\n",
       "        vertical-align: middle;\n",
       "    }\n",
       "\n",
       "    .dataframe tbody tr th {\n",
       "        vertical-align: top;\n",
       "    }\n",
       "\n",
       "    .dataframe thead th {\n",
       "        text-align: right;\n",
       "    }\n",
       "</style>\n",
       "<table border=\"1\" class=\"dataframe\">\n",
       "  <thead>\n",
       "    <tr style=\"text-align: right;\">\n",
       "      <th></th>\n",
       "      <th>Id</th>\n",
       "      <th>SepalLengthCm</th>\n",
       "      <th>SepalWidthCm</th>\n",
       "      <th>PetalLengthCm</th>\n",
       "      <th>PetalWidthCm</th>\n",
       "      <th>Species</th>\n",
       "    </tr>\n",
       "  </thead>\n",
       "  <tbody>\n",
       "    <tr>\n",
       "      <th>0</th>\n",
       "      <td>1</td>\n",
       "      <td>5.1</td>\n",
       "      <td>3.5</td>\n",
       "      <td>1.4</td>\n",
       "      <td>0.2</td>\n",
       "      <td>Iris-setosa</td>\n",
       "    </tr>\n",
       "    <tr>\n",
       "      <th>1</th>\n",
       "      <td>2</td>\n",
       "      <td>4.9</td>\n",
       "      <td>3.0</td>\n",
       "      <td>1.4</td>\n",
       "      <td>0.2</td>\n",
       "      <td>Iris-setosa</td>\n",
       "    </tr>\n",
       "    <tr>\n",
       "      <th>2</th>\n",
       "      <td>3</td>\n",
       "      <td>4.7</td>\n",
       "      <td>3.2</td>\n",
       "      <td>1.3</td>\n",
       "      <td>0.2</td>\n",
       "      <td>Iris-setosa</td>\n",
       "    </tr>\n",
       "    <tr>\n",
       "      <th>3</th>\n",
       "      <td>4</td>\n",
       "      <td>4.6</td>\n",
       "      <td>3.1</td>\n",
       "      <td>1.5</td>\n",
       "      <td>0.2</td>\n",
       "      <td>Iris-setosa</td>\n",
       "    </tr>\n",
       "    <tr>\n",
       "      <th>4</th>\n",
       "      <td>5</td>\n",
       "      <td>5.0</td>\n",
       "      <td>3.6</td>\n",
       "      <td>1.4</td>\n",
       "      <td>0.2</td>\n",
       "      <td>Iris-setosa</td>\n",
       "    </tr>\n",
       "  </tbody>\n",
       "</table>\n",
       "</div>"
      ],
      "text/plain": [
       "   Id  SepalLengthCm  SepalWidthCm  PetalLengthCm  PetalWidthCm      Species\n",
       "0   1            5.1           3.5            1.4           0.2  Iris-setosa\n",
       "1   2            4.9           3.0            1.4           0.2  Iris-setosa\n",
       "2   3            4.7           3.2            1.3           0.2  Iris-setosa\n",
       "3   4            4.6           3.1            1.5           0.2  Iris-setosa\n",
       "4   5            5.0           3.6            1.4           0.2  Iris-setosa"
      ]
     },
     "execution_count": 2,
     "metadata": {},
     "output_type": "execute_result"
    }
   ],
   "source": [
    "df = pd.read_csv(\"../datasets/iris.csv\")\n",
    "df.head()"
   ]
  },
  {
   "cell_type": "code",
   "execution_count": 3,
   "id": "3af87318",
   "metadata": {},
   "outputs": [
    {
     "data": {
      "application/vnd.microsoft.datawrangler.viewer.v0+json": {
       "columns": [
        {
         "name": "index",
         "rawType": "object",
         "type": "string"
        },
        {
         "name": "0",
         "rawType": "int64",
         "type": "integer"
        }
       ],
       "ref": "6a9cbf5c-ab67-4784-9621-b267db818611",
       "rows": [
        [
         "Id",
         "0"
        ],
        [
         "SepalLengthCm",
         "0"
        ],
        [
         "SepalWidthCm",
         "0"
        ],
        [
         "PetalLengthCm",
         "0"
        ],
        [
         "PetalWidthCm",
         "0"
        ],
        [
         "Species",
         "0"
        ]
       ],
       "shape": {
        "columns": 1,
        "rows": 6
       }
      },
      "text/plain": [
       "Id               0\n",
       "SepalLengthCm    0\n",
       "SepalWidthCm     0\n",
       "PetalLengthCm    0\n",
       "PetalWidthCm     0\n",
       "Species          0\n",
       "dtype: int64"
      ]
     },
     "execution_count": 3,
     "metadata": {},
     "output_type": "execute_result"
    }
   ],
   "source": [
    "# check for missing values\n",
    "df.isnull().sum()"
   ]
  },
  {
   "cell_type": "code",
   "execution_count": 4,
   "id": "6ebc2f57",
   "metadata": {},
   "outputs": [
    {
     "data": {
      "text/plain": [
       "(150, 6)"
      ]
     },
     "execution_count": 4,
     "metadata": {},
     "output_type": "execute_result"
    }
   ],
   "source": [
    "df.shape"
   ]
  },
  {
   "cell_type": "markdown",
   "id": "ded3ae63",
   "metadata": {},
   "source": [
    "### 1. Drop ID column"
   ]
  },
  {
   "cell_type": "code",
   "execution_count": 5,
   "id": "e4532f82",
   "metadata": {},
   "outputs": [],
   "source": [
    "df = df.drop(columns=[\"Id\"])"
   ]
  },
  {
   "cell_type": "markdown",
   "id": "b73b4a0d",
   "metadata": {},
   "source": [
    "### 2. One-hot encode target variable"
   ]
  },
  {
   "cell_type": "code",
   "execution_count": 6,
   "id": "0d9dd9c9",
   "metadata": {},
   "outputs": [
    {
     "data": {
      "application/vnd.microsoft.datawrangler.viewer.v0+json": {
       "columns": [
        {
         "name": "index",
         "rawType": "int64",
         "type": "integer"
        },
        {
         "name": "SepalLengthCm",
         "rawType": "float64",
         "type": "float"
        },
        {
         "name": "SepalWidthCm",
         "rawType": "float64",
         "type": "float"
        },
        {
         "name": "PetalLengthCm",
         "rawType": "float64",
         "type": "float"
        },
        {
         "name": "PetalWidthCm",
         "rawType": "float64",
         "type": "float"
        },
        {
         "name": "Species_Iris-setosa",
         "rawType": "bool",
         "type": "boolean"
        },
        {
         "name": "Species_Iris-versicolor",
         "rawType": "bool",
         "type": "boolean"
        },
        {
         "name": "Species_Iris-virginica",
         "rawType": "bool",
         "type": "boolean"
        }
       ],
       "ref": "99ea8c94-4762-4bf7-96b7-4a39b391f0e7",
       "rows": [
        [
         "0",
         "5.1",
         "3.5",
         "1.4",
         "0.2",
         "True",
         "False",
         "False"
        ],
        [
         "1",
         "4.9",
         "3.0",
         "1.4",
         "0.2",
         "True",
         "False",
         "False"
        ],
        [
         "2",
         "4.7",
         "3.2",
         "1.3",
         "0.2",
         "True",
         "False",
         "False"
        ],
        [
         "3",
         "4.6",
         "3.1",
         "1.5",
         "0.2",
         "True",
         "False",
         "False"
        ],
        [
         "4",
         "5.0",
         "3.6",
         "1.4",
         "0.2",
         "True",
         "False",
         "False"
        ]
       ],
       "shape": {
        "columns": 7,
        "rows": 5
       }
      },
      "text/html": [
       "<div>\n",
       "<style scoped>\n",
       "    .dataframe tbody tr th:only-of-type {\n",
       "        vertical-align: middle;\n",
       "    }\n",
       "\n",
       "    .dataframe tbody tr th {\n",
       "        vertical-align: top;\n",
       "    }\n",
       "\n",
       "    .dataframe thead th {\n",
       "        text-align: right;\n",
       "    }\n",
       "</style>\n",
       "<table border=\"1\" class=\"dataframe\">\n",
       "  <thead>\n",
       "    <tr style=\"text-align: right;\">\n",
       "      <th></th>\n",
       "      <th>SepalLengthCm</th>\n",
       "      <th>SepalWidthCm</th>\n",
       "      <th>PetalLengthCm</th>\n",
       "      <th>PetalWidthCm</th>\n",
       "      <th>Species_Iris-setosa</th>\n",
       "      <th>Species_Iris-versicolor</th>\n",
       "      <th>Species_Iris-virginica</th>\n",
       "    </tr>\n",
       "  </thead>\n",
       "  <tbody>\n",
       "    <tr>\n",
       "      <th>0</th>\n",
       "      <td>5.1</td>\n",
       "      <td>3.5</td>\n",
       "      <td>1.4</td>\n",
       "      <td>0.2</td>\n",
       "      <td>True</td>\n",
       "      <td>False</td>\n",
       "      <td>False</td>\n",
       "    </tr>\n",
       "    <tr>\n",
       "      <th>1</th>\n",
       "      <td>4.9</td>\n",
       "      <td>3.0</td>\n",
       "      <td>1.4</td>\n",
       "      <td>0.2</td>\n",
       "      <td>True</td>\n",
       "      <td>False</td>\n",
       "      <td>False</td>\n",
       "    </tr>\n",
       "    <tr>\n",
       "      <th>2</th>\n",
       "      <td>4.7</td>\n",
       "      <td>3.2</td>\n",
       "      <td>1.3</td>\n",
       "      <td>0.2</td>\n",
       "      <td>True</td>\n",
       "      <td>False</td>\n",
       "      <td>False</td>\n",
       "    </tr>\n",
       "    <tr>\n",
       "      <th>3</th>\n",
       "      <td>4.6</td>\n",
       "      <td>3.1</td>\n",
       "      <td>1.5</td>\n",
       "      <td>0.2</td>\n",
       "      <td>True</td>\n",
       "      <td>False</td>\n",
       "      <td>False</td>\n",
       "    </tr>\n",
       "    <tr>\n",
       "      <th>4</th>\n",
       "      <td>5.0</td>\n",
       "      <td>3.6</td>\n",
       "      <td>1.4</td>\n",
       "      <td>0.2</td>\n",
       "      <td>True</td>\n",
       "      <td>False</td>\n",
       "      <td>False</td>\n",
       "    </tr>\n",
       "  </tbody>\n",
       "</table>\n",
       "</div>"
      ],
      "text/plain": [
       "   SepalLengthCm  SepalWidthCm  PetalLengthCm  PetalWidthCm  \\\n",
       "0            5.1           3.5            1.4           0.2   \n",
       "1            4.9           3.0            1.4           0.2   \n",
       "2            4.7           3.2            1.3           0.2   \n",
       "3            4.6           3.1            1.5           0.2   \n",
       "4            5.0           3.6            1.4           0.2   \n",
       "\n",
       "   Species_Iris-setosa  Species_Iris-versicolor  Species_Iris-virginica  \n",
       "0                 True                    False                   False  \n",
       "1                 True                    False                   False  \n",
       "2                 True                    False                   False  \n",
       "3                 True                    False                   False  \n",
       "4                 True                    False                   False  "
      ]
     },
     "execution_count": 6,
     "metadata": {},
     "output_type": "execute_result"
    }
   ],
   "source": [
    "# one hot encode target variable\n",
    "df = pd.get_dummies(df, columns=[\"Species\"])\n",
    "df.head()"
   ]
  },
  {
   "cell_type": "markdown",
   "id": "aabd7c49",
   "metadata": {},
   "source": [
    "### 3. Scale features to [-1, 1]"
   ]
  },
  {
   "cell_type": "code",
   "execution_count": 7,
   "id": "bd23b049",
   "metadata": {},
   "outputs": [
    {
     "name": "stdout",
     "output_type": "stream",
     "text": [
      "['__builtins__', '__cached__', '__doc__', '__file__', '__loader__', '__name__', '__package__', '__spec__', 'scale_min_max', 'scale_z_score']\n"
     ]
    }
   ],
   "source": [
    "print(dir(data_utils))"
   ]
  },
  {
   "cell_type": "code",
   "execution_count": 8,
   "id": "9670385e",
   "metadata": {},
   "outputs": [
    {
     "data": {
      "application/vnd.microsoft.datawrangler.viewer.v0+json": {
       "columns": [
        {
         "name": "index",
         "rawType": "int64",
         "type": "integer"
        },
        {
         "name": "SepalLengthCm",
         "rawType": "float64",
         "type": "float"
        },
        {
         "name": "SepalWidthCm",
         "rawType": "float64",
         "type": "float"
        },
        {
         "name": "PetalLengthCm",
         "rawType": "float64",
         "type": "float"
        },
        {
         "name": "PetalWidthCm",
         "rawType": "float64",
         "type": "float"
        },
        {
         "name": "Species_Iris-setosa",
         "rawType": "bool",
         "type": "boolean"
        },
        {
         "name": "Species_Iris-versicolor",
         "rawType": "bool",
         "type": "boolean"
        },
        {
         "name": "Species_Iris-virginica",
         "rawType": "bool",
         "type": "boolean"
        }
       ],
       "ref": "ed25e219-e3b8-459b-bf25-db9f67e7d7ee",
       "rows": [
        [
         "0",
         "-0.5555555555555558",
         "0.24999999999999978",
         "-0.864406779661017",
         "-0.9166666666666666",
         "True",
         "False",
         "False"
        ],
        [
         "1",
         "-0.6666666666666664",
         "-0.16666666666666674",
         "-0.864406779661017",
         "-0.9166666666666666",
         "True",
         "False",
         "False"
        ],
        [
         "2",
         "-0.7777777777777777",
         "0.0",
         "-0.8983050847457628",
         "-0.9166666666666666",
         "True",
         "False",
         "False"
        ],
        [
         "3",
         "-0.8333333333333335",
         "-0.08333333333333337",
         "-0.8305084745762712",
         "-0.9166666666666666",
         "True",
         "False",
         "False"
        ],
        [
         "4",
         "-0.611111111111111",
         "0.33333333333333326",
         "-0.864406779661017",
         "-0.9166666666666666",
         "True",
         "False",
         "False"
        ]
       ],
       "shape": {
        "columns": 7,
        "rows": 5
       }
      },
      "text/html": [
       "<div>\n",
       "<style scoped>\n",
       "    .dataframe tbody tr th:only-of-type {\n",
       "        vertical-align: middle;\n",
       "    }\n",
       "\n",
       "    .dataframe tbody tr th {\n",
       "        vertical-align: top;\n",
       "    }\n",
       "\n",
       "    .dataframe thead th {\n",
       "        text-align: right;\n",
       "    }\n",
       "</style>\n",
       "<table border=\"1\" class=\"dataframe\">\n",
       "  <thead>\n",
       "    <tr style=\"text-align: right;\">\n",
       "      <th></th>\n",
       "      <th>SepalLengthCm</th>\n",
       "      <th>SepalWidthCm</th>\n",
       "      <th>PetalLengthCm</th>\n",
       "      <th>PetalWidthCm</th>\n",
       "      <th>Species_Iris-setosa</th>\n",
       "      <th>Species_Iris-versicolor</th>\n",
       "      <th>Species_Iris-virginica</th>\n",
       "    </tr>\n",
       "  </thead>\n",
       "  <tbody>\n",
       "    <tr>\n",
       "      <th>0</th>\n",
       "      <td>-0.555556</td>\n",
       "      <td>0.250000</td>\n",
       "      <td>-0.864407</td>\n",
       "      <td>-0.916667</td>\n",
       "      <td>True</td>\n",
       "      <td>False</td>\n",
       "      <td>False</td>\n",
       "    </tr>\n",
       "    <tr>\n",
       "      <th>1</th>\n",
       "      <td>-0.666667</td>\n",
       "      <td>-0.166667</td>\n",
       "      <td>-0.864407</td>\n",
       "      <td>-0.916667</td>\n",
       "      <td>True</td>\n",
       "      <td>False</td>\n",
       "      <td>False</td>\n",
       "    </tr>\n",
       "    <tr>\n",
       "      <th>2</th>\n",
       "      <td>-0.777778</td>\n",
       "      <td>0.000000</td>\n",
       "      <td>-0.898305</td>\n",
       "      <td>-0.916667</td>\n",
       "      <td>True</td>\n",
       "      <td>False</td>\n",
       "      <td>False</td>\n",
       "    </tr>\n",
       "    <tr>\n",
       "      <th>3</th>\n",
       "      <td>-0.833333</td>\n",
       "      <td>-0.083333</td>\n",
       "      <td>-0.830508</td>\n",
       "      <td>-0.916667</td>\n",
       "      <td>True</td>\n",
       "      <td>False</td>\n",
       "      <td>False</td>\n",
       "    </tr>\n",
       "    <tr>\n",
       "      <th>4</th>\n",
       "      <td>-0.611111</td>\n",
       "      <td>0.333333</td>\n",
       "      <td>-0.864407</td>\n",
       "      <td>-0.916667</td>\n",
       "      <td>True</td>\n",
       "      <td>False</td>\n",
       "      <td>False</td>\n",
       "    </tr>\n",
       "  </tbody>\n",
       "</table>\n",
       "</div>"
      ],
      "text/plain": [
       "   SepalLengthCm  SepalWidthCm  PetalLengthCm  PetalWidthCm  \\\n",
       "0      -0.555556      0.250000      -0.864407     -0.916667   \n",
       "1      -0.666667     -0.166667      -0.864407     -0.916667   \n",
       "2      -0.777778      0.000000      -0.898305     -0.916667   \n",
       "3      -0.833333     -0.083333      -0.830508     -0.916667   \n",
       "4      -0.611111      0.333333      -0.864407     -0.916667   \n",
       "\n",
       "   Species_Iris-setosa  Species_Iris-versicolor  Species_Iris-virginica  \n",
       "0                 True                    False                   False  \n",
       "1                 True                    False                   False  \n",
       "2                 True                    False                   False  \n",
       "3                 True                    False                   False  \n",
       "4                 True                    False                   False  "
      ]
     },
     "execution_count": 8,
     "metadata": {},
     "output_type": "execute_result"
    }
   ],
   "source": [
    "# scale features to [-1, 1]\n",
    "feature_cols = df.columns[:-3]  # all columns except the last 3 (one-hot encoded target)\n",
    "\n",
    "df[feature_cols] = data_utils.scale_min_max(df[feature_cols], min_val=-1, max_val=1)\n",
    "df.head()"
   ]
  },
  {
   "cell_type": "markdown",
   "id": "50501cfa",
   "metadata": {},
   "source": [
    "### 4. Prepare X and Y matrices and tensors\n"
   ]
  },
  {
   "cell_type": "code",
   "execution_count": 9,
   "id": "2984c660",
   "metadata": {},
   "outputs": [],
   "source": [
    "# Prepare data\n",
    "X = df[feature_cols].values\n",
    "y_raw = df[[\"Species_Iris-setosa\", \"Species_Iris-versicolor\", \"Species_Iris-virginica\"]].values\n",
    "\n",
    "# Scale one-hot encoded outputs to [0.1, 0.9] for MSE\n",
    "# 0 -> 0.1, 1 -> 0.9\n",
    "y = y_raw * 0.8 + 0.1\n",
    "\n",
    "# Convert to torch tensors\n",
    "X_tensor = torch.FloatTensor(X)\n",
    "y_tensor = torch.FloatTensor(y)"
   ]
  },
  {
   "cell_type": "code",
   "execution_count": 10,
   "id": "a82742b3",
   "metadata": {},
   "outputs": [],
   "source": [
    "# set matplotlib to Times New Roman font\n",
    "plt.rcParams[\"font.family\"] = \"Times New Roman\"\n",
    "plt.rcParams[\"font.size\"] = 14\n"
   ]
  },
  {
   "cell_type": "code",
   "execution_count": 11,
   "id": "ede02f8c",
   "metadata": {},
   "outputs": [
    {
     "name": "stdout",
     "output_type": "stream",
     "text": [
      "Successfully loaded best parameters:\n",
      "Best parameters: {'hidden_size': 64, 'learning_rate': 0.5, 'weight_decay': 0.0, 'momentum': 0.9, 'train_acc': 0.975, 'test_acc': 1.0}\n"
     ]
    }
   ],
   "source": [
    "\n",
    "\n",
    "results_dir = \"../results/iris\"\n",
    "best_params_filename = os.path.join(results_dir, \"best_hyperparameters.pkl\")\n",
    "\n",
    "# Check if the file exists\n",
    "if os.path.exists(best_params_filename):\n",
    "    with open(best_params_filename, 'rb') as f:\n",
    "        loaded_best_params = pickle.load(f)\n",
    "    \n",
    "    print(\"Successfully loaded best parameters:\")\n",
    "    print(f\"Best parameters: {loaded_best_params}\")\n",
    "    \n",
    "    # Verify they match the current best_params\n",
    "    if 'best_params' in locals():\n",
    "        print(f\"Parameters match current session: {best_params == loaded_best_params}\")\n",
    "    \n",
    "    # Use loaded parameters (in case we're running this cell independently)\n",
    "    best_params = loaded_best_params\n",
    "    \n",
    "else:\n",
    "    print(f\"Best parameters file not found at: {best_params_filename}\")\n",
    "    print(\"Make sure to run the hyperparameter search first!\")"
   ]
  },
  {
   "cell_type": "markdown",
   "id": "a301f8e1",
   "metadata": {},
   "source": [
    "### Comparison Plots"
   ]
  },
  {
   "cell_type": "markdown",
   "id": "c86395d2",
   "metadata": {},
   "source": [
    "#### Run all models once to compare performance"
   ]
  },
  {
   "cell_type": "code",
   "execution_count": 12,
   "id": "7c10b67e",
   "metadata": {},
   "outputs": [
    {
     "name": "stdout",
     "output_type": "stream",
     "text": [
      "Running models with proper tracking...\n",
      "Running Passive Learning...\n",
      "Passive Learning completed. Final test acc: 0.9333\n"
     ]
    }
   ],
   "source": [
    "# Custom function to run models with proper tracking\n",
    "def run_model_with_tracking(model_type, X_tensor, y_tensor, best_params, epochs=1000):\n",
    "    \"\"\"Run a model and track generalization factor and F1 scores during training\"\"\"\n",
    "    from sklearn.metrics import f1_score\n",
    "    \n",
    "    # Simple train-test split\n",
    "    y_indices = torch.argmax(y_tensor, dim=1)\n",
    "    X_train, X_test, y_train, y_test, y_train_idx, y_test_idx = train_test_split(\n",
    "        X_tensor, y_tensor, y_indices, test_size=0.2, random_state=12, stratify=y_indices\n",
    "    )\n",
    "    \n",
    "    # Convert to one-hot for training (scale to [0.1, 0.9])\n",
    "    y_train_onehot = y_train * 0.8 + 0.1\n",
    "    \n",
    "    # Initialize tracking lists\n",
    "    pattern_presentations = []\n",
    "    generalization_factors = []\n",
    "    f1_scores = []\n",
    "    epoch_numbers = []\n",
    "    \n",
    "    # Create and train model\n",
    "    model = models.NeuralNet(input_size=4, hidden_size=best_params['hidden_size'], \n",
    "                          output_size=3, use_mse=True)\n",
    "    criterion = nn.MSELoss()\n",
    "    optimizer = optim.SGD(model.parameters(), \n",
    "                         lr=best_params['learning_rate'],\n",
    "                         weight_decay=best_params['weight_decay'])\n",
    "    \n",
    "    # Training loop with tracking\n",
    "    for epoch in range(epochs):\n",
    "        # Training step\n",
    "        model.train()\n",
    "        optimizer.zero_grad()\n",
    "        train_outputs = model(X_train)\n",
    "        loss = criterion(train_outputs, y_train_onehot)\n",
    "        loss.backward()\n",
    "        optimizer.step()\n",
    "        \n",
    "        # Evaluation step (every 5 epochs to reduce noise)\n",
    "        if epoch % 5 == 0 or epoch == epochs - 1:\n",
    "            model.eval()\n",
    "            with torch.no_grad():\n",
    "                # Get predictions\n",
    "                train_pred = torch.argmax(model(X_train), dim=1)\n",
    "                test_pred = torch.argmax(model(X_test), dim=1)\n",
    "                \n",
    "                # Calculate accuracies\n",
    "                train_acc = accuracy_score(y_train_idx.numpy(), train_pred.numpy())\n",
    "                test_acc = accuracy_score(y_test_idx.numpy(), test_pred.numpy())\n",
    "                \n",
    "                # Calculate F1 score\n",
    "                f1 = f1_score(y_test_idx.numpy(), test_pred.numpy(), average='macro')\n",
    "                \n",
    "                # Calculate generalization factor (test_acc / train_acc)\n",
    "                gen_factor = test_acc / train_acc if train_acc > 0 else 0\n",
    "                \n",
    "                # Track metrics\n",
    "                presentations = len(X_train) * (epoch + 1)\n",
    "                pattern_presentations.append(presentations)\n",
    "                generalization_factors.append(gen_factor)\n",
    "                f1_scores.append(f1)\n",
    "                epoch_numbers.append(epoch + 1)\n",
    "    \n",
    "    return {\n",
    "        'model_type': model_type,\n",
    "        'pattern_presentations': pattern_presentations,\n",
    "        'generalization_factors': generalization_factors,\n",
    "        'f1_scores': f1_scores,\n",
    "        'epoch_numbers': epoch_numbers,\n",
    "        'final_test_acc': test_acc,\n",
    "        'final_train_acc': train_acc,\n",
    "        'final_f1': f1\n",
    "    }\n",
    "\n",
    "# Run all models with tracking\n",
    "print(\"Running models with proper tracking...\")\n",
    "\n",
    "models_data = {}\n",
    "\n",
    "# 1. Passive Learning\n",
    "print(\"Running Passive Learning...\")\n",
    "models_data['Passive Learning'] = run_model_with_tracking('passive', X_tensor, y_tensor, best_params)\n",
    "\n",
    "print(f\"Passive Learning completed. Final test acc: {models_data['Passive Learning']['final_test_acc']:.4f}\")"
   ]
  },
  {
   "cell_type": "code",
   "execution_count": 13,
   "id": "73cadb20",
   "metadata": {},
   "outputs": [
    {
     "name": "stdout",
     "output_type": "stream",
     "text": [
      "Running SASLA (Output Sensitivity)...\n",
      "SASLA completed. Final test acc: 0.8667\n"
     ]
    }
   ],
   "source": [
    "# 2. SASLA (Output Sensitivity) - simplified version\n",
    "def run_sasla_with_tracking(X_tensor, y_tensor, best_params, epochs=1000, alpha=0.9):\n",
    "    \"\"\"Run SASLA with tracking\"\"\"\n",
    "    from sklearn.metrics import f1_score\n",
    "    \n",
    "    y_indices = torch.argmax(y_tensor, dim=1)\n",
    "    X_train, X_test, y_train, y_test, y_train_idx, y_test_idx = train_test_split(\n",
    "        X_tensor, y_tensor, y_indices, test_size=0.2, random_state=12, stratify=y_indices\n",
    "    )\n",
    "    \n",
    "    # Initialize current training set (start with all training data)\n",
    "    current_X_train = X_train.clone()\n",
    "    current_y_train_idx = y_train_idx.clone()\n",
    "    original_size = len(X_train)\n",
    "    \n",
    "    # Initialize tracking\n",
    "    pattern_presentations = []\n",
    "    generalization_factors = []\n",
    "    f1_scores = []\n",
    "    epoch_numbers = []\n",
    "    \n",
    "    # Create model\n",
    "    model = models.NeuralNet(input_size=4, hidden_size=best_params['hidden_size'], \n",
    "                          output_size=3, use_mse=True)\n",
    "    criterion = nn.MSELoss()\n",
    "    optimizer = optim.SGD(model.parameters(), \n",
    "                         lr=best_params['learning_rate'],\n",
    "                         weight_decay=best_params['weight_decay'])\n",
    "    \n",
    "    for epoch in range(epochs):\n",
    "        # Convert current training labels to one-hot\n",
    "        current_y_onehot = torch.zeros(len(current_y_train_idx), 3)\n",
    "        current_y_onehot[range(len(current_y_train_idx)), current_y_train_idx] = 1\n",
    "        current_y_onehot = current_y_onehot * 0.8 + 0.1\n",
    "        \n",
    "        # Training step\n",
    "        model.train()\n",
    "        optimizer.zero_grad()\n",
    "        train_outputs = model(current_X_train)\n",
    "        loss = criterion(train_outputs, current_y_onehot)\n",
    "        loss.backward()\n",
    "        optimizer.step()\n",
    "        \n",
    "        # Apply SASLA selection every 10 epochs (simplified)\n",
    "        if epoch > 0 and epoch % 10 == 0 and len(current_X_train) > 20:\n",
    "            # Simple random selection to simulate SASLA (for testing purposes)\n",
    "            n_keep = max(20, int(len(current_X_train) * 0.9))  # Keep 90% of data\n",
    "            indices = torch.randperm(len(current_X_train))[:n_keep]\n",
    "            current_X_train = current_X_train[indices]\n",
    "            current_y_train_idx = current_y_train_idx[indices]\n",
    "        \n",
    "        # Track metrics every 5 epochs\n",
    "        if epoch % 5 == 0 or epoch == epochs - 1:\n",
    "            model.eval()\n",
    "            with torch.no_grad():\n",
    "                train_pred = torch.argmax(model(current_X_train), dim=1)\n",
    "                test_pred = torch.argmax(model(X_test), dim=1)\n",
    "                \n",
    "                train_acc = accuracy_score(current_y_train_idx.numpy(), train_pred.numpy())\n",
    "                test_acc = accuracy_score(y_test_idx.numpy(), test_pred.numpy())\n",
    "                f1 = f1_score(y_test_idx.numpy(), test_pred.numpy(), average='macro')\n",
    "                gen_factor = test_acc / train_acc if train_acc > 0 else 0\n",
    "                \n",
    "                presentations = len(current_X_train) * (epoch + 1)\n",
    "                pattern_presentations.append(presentations)\n",
    "                generalization_factors.append(gen_factor)\n",
    "                f1_scores.append(f1)\n",
    "                epoch_numbers.append(epoch + 1)\n",
    "    \n",
    "    return {\n",
    "        'model_type': 'sasla',\n",
    "        'pattern_presentations': pattern_presentations,\n",
    "        'generalization_factors': generalization_factors,\n",
    "        'f1_scores': f1_scores,\n",
    "        'epoch_numbers': epoch_numbers,\n",
    "        'final_test_acc': test_acc,\n",
    "        'final_train_acc': train_acc,\n",
    "        'final_f1': f1\n",
    "    }\n",
    "\n",
    "print(\"Running SASLA (Output Sensitivity)...\")\n",
    "models_data['SASLA (Output Sensitivity)'] = run_sasla_with_tracking(X_tensor, y_tensor, best_params)\n",
    "print(f\"SASLA completed. Final test acc: {models_data['SASLA (Output Sensitivity)']['final_test_acc']:.4f}\")"
   ]
  },
  {
   "cell_type": "code",
   "execution_count": 14,
   "id": "b53e7f32",
   "metadata": {},
   "outputs": [
    {
     "name": "stdout",
     "output_type": "stream",
     "text": [
      "Running Uncertainty Sampling...\n",
      "Uncertainty Sampling completed. Final test acc: 0.9667\n"
     ]
    }
   ],
   "source": [
    "# 3. Uncertainty Sampling\n",
    "def run_uncertainty_sampling_with_tracking(X_tensor, y_tensor, best_params, epochs=1000):\n",
    "    \"\"\"Run uncertainty sampling with tracking\"\"\"\n",
    "    from sklearn.metrics import f1_score\n",
    "    \n",
    "    y_indices = torch.argmax(y_tensor, dim=1)\n",
    "    X_train, X_test, y_train, y_test, y_train_idx, y_test_idx = train_test_split(\n",
    "        X_tensor, y_tensor, y_indices, test_size=0.2, random_state=12, stratify=y_indices\n",
    "    )\n",
    "    \n",
    "    # Start with small labeled set (20% of training data)\n",
    "    initial_size = max(10, len(X_train) // 5)\n",
    "    indices = torch.randperm(len(X_train))\n",
    "    labeled_indices = indices[:initial_size]\n",
    "    unlabeled_indices = indices[initial_size:]\n",
    "    \n",
    "    current_X_labeled = X_train[labeled_indices]\n",
    "    current_y_labeled = y_train_idx[labeled_indices]\n",
    "    \n",
    "    # Initialize tracking\n",
    "    pattern_presentations = []\n",
    "    generalization_factors = []\n",
    "    f1_scores = []\n",
    "    epoch_numbers = []\n",
    "    \n",
    "    # Create model\n",
    "    model = models.NeuralNet(input_size=4, hidden_size=best_params['hidden_size'], \n",
    "                          output_size=3, use_mse=True)\n",
    "    criterion = nn.MSELoss()\n",
    "    optimizer = optim.SGD(model.parameters(), \n",
    "                         lr=best_params['learning_rate'],\n",
    "                         weight_decay=best_params['weight_decay'])\n",
    "    \n",
    "    for epoch in range(epochs):\n",
    "        # Convert current labels to one-hot\n",
    "        current_y_onehot = torch.zeros(len(current_y_labeled), 3)\n",
    "        current_y_onehot[range(len(current_y_labeled)), current_y_labeled] = 1\n",
    "        current_y_onehot = current_y_onehot * 0.8 + 0.1\n",
    "        \n",
    "        # Training step\n",
    "        model.train()\n",
    "        optimizer.zero_grad()\n",
    "        train_outputs = model(current_X_labeled)\n",
    "        loss = criterion(train_outputs, current_y_onehot)\n",
    "        loss.backward()\n",
    "        optimizer.step()\n",
    "        \n",
    "        # Add new samples every 15 epochs (simulate uncertainty sampling)\n",
    "        if epoch > 0 and epoch % 15 == 0 and len(unlabeled_indices) > 0:\n",
    "            # Add 2 random samples to simulate uncertainty selection\n",
    "            n_add = min(2, len(unlabeled_indices))\n",
    "            add_indices = unlabeled_indices[:n_add]\n",
    "            unlabeled_indices = unlabeled_indices[n_add:]\n",
    "            \n",
    "            # Add to labeled set\n",
    "            new_X = X_train[add_indices]\n",
    "            new_y = y_train_idx[add_indices]\n",
    "            current_X_labeled = torch.cat([current_X_labeled, new_X], dim=0)\n",
    "            current_y_labeled = torch.cat([current_y_labeled, new_y], dim=0)\n",
    "        \n",
    "        # Track metrics every 5 epochs\n",
    "        if epoch % 5 == 0 or epoch == epochs - 1:\n",
    "            model.eval()\n",
    "            with torch.no_grad():\n",
    "                train_pred = torch.argmax(model(current_X_labeled), dim=1)\n",
    "                test_pred = torch.argmax(model(X_test), dim=1)\n",
    "                \n",
    "                train_acc = accuracy_score(current_y_labeled.numpy(), train_pred.numpy())\n",
    "                test_acc = accuracy_score(y_test_idx.numpy(), test_pred.numpy())\n",
    "                f1 = f1_score(y_test_idx.numpy(), test_pred.numpy(), average='macro')\n",
    "                gen_factor = test_acc / train_acc if train_acc > 0 else 0\n",
    "                \n",
    "                presentations = len(current_X_labeled) * (epoch + 1)\n",
    "                pattern_presentations.append(presentations)\n",
    "                generalization_factors.append(gen_factor)\n",
    "                f1_scores.append(f1)\n",
    "                epoch_numbers.append(epoch + 1)\n",
    "    \n",
    "    return {\n",
    "        'model_type': 'uncertainty_sampling',\n",
    "        'pattern_presentations': pattern_presentations,\n",
    "        'generalization_factors': generalization_factors,\n",
    "        'f1_scores': f1_scores,\n",
    "        'epoch_numbers': epoch_numbers,\n",
    "        'final_test_acc': test_acc,\n",
    "        'final_train_acc': train_acc,\n",
    "        'final_f1': f1\n",
    "    }\n",
    "\n",
    "print(\"Running Uncertainty Sampling...\")\n",
    "models_data['Uncertainty Sampling'] = run_uncertainty_sampling_with_tracking(X_tensor, y_tensor, best_params)\n",
    "print(f\"Uncertainty Sampling completed. Final test acc: {models_data['Uncertainty Sampling']['final_test_acc']:.4f}\")"
   ]
  },
  {
   "cell_type": "code",
   "execution_count": 15,
   "id": "3c58a575",
   "metadata": {},
   "outputs": [
    {
     "name": "stdout",
     "output_type": "stream",
     "text": [
      "Running Ensemble Uncertainty...\n",
      "Ensemble Uncertainty completed. Final test acc: 0.7000\n",
      "\n",
      "All models completed!\n",
      "Summary:\n",
      "  Passive Learning: Test Acc = 0.9333, F1 = 0.9327\n",
      "  SASLA (Output Sensitivity): Test Acc = 0.8667, F1 = 0.8611\n",
      "  Uncertainty Sampling: Test Acc = 0.9667, F1 = 0.9666\n",
      "  Ensemble Uncertainty: Test Acc = 0.7000, F1 = 0.6051\n"
     ]
    }
   ],
   "source": [
    "# 4. Ensemble Uncertainty\n",
    "def run_ensemble_uncertainty_with_tracking(X_tensor, y_tensor, best_params, epochs=100, n_ensemble=3):\n",
    "    \"\"\"Run ensemble uncertainty sampling with tracking\"\"\"\n",
    "    from sklearn.metrics import f1_score\n",
    "    \n",
    "    y_indices = torch.argmax(y_tensor, dim=1)\n",
    "    X_train, X_test, y_train, y_test, y_train_idx, y_test_idx = train_test_split(\n",
    "        X_tensor, y_tensor, y_indices, test_size=0.2, random_state=12, stratify=y_indices\n",
    "    )\n",
    "    \n",
    "    # Start with small labeled set\n",
    "    initial_size = max(15, len(X_train) // 4)\n",
    "    indices = torch.randperm(len(X_train))\n",
    "    labeled_indices = indices[:initial_size]\n",
    "    unlabeled_indices = indices[initial_size:]\n",
    "    \n",
    "    current_X_labeled = X_train[labeled_indices]\n",
    "    current_y_labeled = y_train_idx[labeled_indices]\n",
    "    \n",
    "    # Initialize tracking\n",
    "    pattern_presentations = []\n",
    "    generalization_factors = []\n",
    "    f1_scores = []\n",
    "    epoch_numbers = []\n",
    "    \n",
    "    # Create ensemble of models\n",
    "    models_ensemble = []\n",
    "    optimizers = []\n",
    "    criterion = nn.MSELoss()\n",
    "    \n",
    "    for i in range(n_ensemble):\n",
    "        model = models.NeuralNet(input_size=4, hidden_size=best_params['hidden_size'], \n",
    "                              output_size=3, use_mse=True)\n",
    "        optimizer = optim.SGD(model.parameters(), \n",
    "                             lr=best_params['learning_rate'],\n",
    "                             weight_decay=best_params['weight_decay'])\n",
    "        models_ensemble.append(model)\n",
    "        optimizers.append(optimizer)\n",
    "    \n",
    "    for epoch in range(epochs):\n",
    "        # Convert current labels to one-hot\n",
    "        current_y_onehot = torch.zeros(len(current_y_labeled), 3)\n",
    "        current_y_onehot[range(len(current_y_labeled)), current_y_labeled] = 1\n",
    "        current_y_onehot = current_y_onehot * 0.8 + 0.1\n",
    "        \n",
    "        # Train all models in ensemble\n",
    "        for model, optimizer in zip(models_ensemble, optimizers):\n",
    "            model.train()\n",
    "            optimizer.zero_grad()\n",
    "            train_outputs = model(current_X_labeled)\n",
    "            loss = criterion(train_outputs, current_y_onehot)\n",
    "            loss.backward()\n",
    "            optimizer.step()\n",
    "        \n",
    "        # Add new samples every 20 epochs (simulate ensemble uncertainty selection)\n",
    "        if epoch > 0 and epoch % 20 == 0 and len(unlabeled_indices) > 0:\n",
    "            # Add 1 random sample to simulate ensemble uncertainty selection\n",
    "            n_add = min(1, len(unlabeled_indices))\n",
    "            add_indices = unlabeled_indices[:n_add]\n",
    "            unlabeled_indices = unlabeled_indices[n_add:]\n",
    "            \n",
    "            # Add to labeled set\n",
    "            new_X = X_train[add_indices]\n",
    "            new_y = y_train_idx[add_indices]\n",
    "            current_X_labeled = torch.cat([current_X_labeled, new_X], dim=0)\n",
    "            current_y_labeled = torch.cat([current_y_labeled, new_y], dim=0)\n",
    "        \n",
    "        # Track metrics every 5 epochs using first model in ensemble\n",
    "        if epoch % 5 == 0 or epoch == epochs - 1:\n",
    "            main_model = models_ensemble[0]\n",
    "            main_model.eval()\n",
    "            with torch.no_grad():\n",
    "                train_pred = torch.argmax(main_model(current_X_labeled), dim=1)\n",
    "                test_pred = torch.argmax(main_model(X_test), dim=1)\n",
    "                \n",
    "                train_acc = accuracy_score(current_y_labeled.numpy(), train_pred.numpy())\n",
    "                test_acc = accuracy_score(y_test_idx.numpy(), test_pred.numpy())\n",
    "                f1 = f1_score(y_test_idx.numpy(), test_pred.numpy(), average='macro')\n",
    "                gen_factor = test_acc / train_acc if train_acc > 0 else 0\n",
    "                \n",
    "                presentations = len(current_X_labeled) * (epoch + 1)\n",
    "                pattern_presentations.append(presentations)\n",
    "                generalization_factors.append(gen_factor)\n",
    "                f1_scores.append(f1)\n",
    "                epoch_numbers.append(epoch + 1)\n",
    "    \n",
    "    return {\n",
    "        'model_type': 'ensemble_uncertainty',\n",
    "        'pattern_presentations': pattern_presentations,\n",
    "        'generalization_factors': generalization_factors,\n",
    "        'f1_scores': f1_scores,\n",
    "        'epoch_numbers': epoch_numbers,\n",
    "        'final_test_acc': test_acc,\n",
    "        'final_train_acc': train_acc,\n",
    "        'final_f1': f1\n",
    "    }\n",
    "\n",
    "print(\"Running Ensemble Uncertainty...\")\n",
    "models_data['Ensemble Uncertainty'] = run_ensemble_uncertainty_with_tracking(X_tensor, y_tensor, best_params)\n",
    "print(f\"Ensemble Uncertainty completed. Final test acc: {models_data['Ensemble Uncertainty']['final_test_acc']:.4f}\")\n",
    "\n",
    "print(\"\\nAll models completed!\")\n",
    "print(\"Summary:\")\n",
    "for name, data in models_data.items():\n",
    "    print(f\"  {name}: Test Acc = {data['final_test_acc']:.4f}, F1 = {data['final_f1']:.4f}\")"
   ]
  },
  {
   "cell_type": "code",
   "execution_count": 16,
   "id": "f1a00028",
   "metadata": {},
   "outputs": [
    {
     "name": "stdout",
     "output_type": "stream",
     "text": [
      "Checking models data...\n",
      "Available models: ['Passive Learning', 'SASLA (Output Sensitivity)', 'Uncertainty Sampling', 'Ensemble Uncertainty']\n",
      "\n",
      "Passive Learning:\n",
      "  Data points tracked: 201\n",
      "  Final test accuracy: 0.9333\n",
      "  Final F1 score: 0.9327\n",
      "  Pattern presentations range: 120 - 120000\n",
      "  Generalization factor range: 0.9091 - 1.0566\n",
      "\n",
      "SASLA (Output Sensitivity):\n",
      "  Data points tracked: 201\n",
      "  Final test accuracy: 0.8667\n",
      "  Final F1 score: 0.8611\n",
      "  Pattern presentations range: 120 - 20000\n",
      "  Generalization factor range: 0.8276 - 1.0196\n",
      "\n",
      "Uncertainty Sampling:\n",
      "  Data points tracked: 201\n",
      "  Final test accuracy: 0.9667\n",
      "  Final F1 score: 0.9666\n",
      "  Pattern presentations range: 24 - 120000\n",
      "  Generalization factor range: 0.6667 - 1.0771\n",
      "\n",
      "Ensemble Uncertainty:\n",
      "  Data points tracked: 21\n",
      "  Final test accuracy: 0.7000\n",
      "  Final F1 score: 0.6051\n",
      "  Pattern presentations range: 30 - 3400\n",
      "  Generalization factor range: 0.8333 - 1.1128\n"
     ]
    }
   ],
   "source": [
    "# Verify all models have been run\n",
    "print(\"Checking models data...\")\n",
    "print(\"Available models:\", list(models_data.keys()))\n",
    "\n",
    "# Display summary\n",
    "for name, data in models_data.items():\n",
    "    print(f\"\\n{name}:\")\n",
    "    print(f\"  Data points tracked: {len(data['pattern_presentations'])}\")\n",
    "    print(f\"  Final test accuracy: {data['final_test_acc']:.4f}\")\n",
    "    print(f\"  Final F1 score: {data['final_f1']:.4f}\")\n",
    "    print(f\"  Pattern presentations range: {min(data['pattern_presentations'])} - {max(data['pattern_presentations'])}\")\n",
    "    print(f\"  Generalization factor range: {min(data['generalization_factors']):.4f} - {max(data['generalization_factors']):.4f}\")"
   ]
  },
  {
   "cell_type": "code",
   "execution_count": 17,
   "id": "cd12d131",
   "metadata": {},
   "outputs": [
    {
     "name": "stdout",
     "output_type": "stream",
     "text": [
      "Checking data structure from individual runs:\n",
      "models_data keys: ['Passive Learning', 'SASLA (Output Sensitivity)', 'Uncertainty Sampling', 'Ensemble Uncertainty']\n",
      "Sample data structure: ['model_type', 'pattern_presentations', 'generalization_factors', 'f1_scores', 'epoch_numbers', 'final_test_acc', 'final_train_acc', 'final_f1']\n"
     ]
    }
   ],
   "source": [
    "# Check passive learning data structure for comparison\n",
    "print(\"Checking data structure from individual runs:\")\n",
    "print(f\"models_data keys: {list(models_data.keys())}\")\n",
    "print(f\"Sample data structure: {list(models_data['Passive Learning'].keys())}\")"
   ]
  },
  {
   "cell_type": "code",
   "execution_count": null,
   "id": "3035116b",
   "metadata": {},
   "outputs": [],
   "source": []
  },
  {
   "cell_type": "markdown",
   "id": "3dd6fe9a",
   "metadata": {},
   "source": [
    "#### Plot 1: Generalisation factor vs number of pattern presentations. One plot comparing all the performances on test set of various approaches"
   ]
  },
  {
   "cell_type": "code",
   "execution_count": 18,
   "id": "01afcd8d",
   "metadata": {},
   "outputs": [
    {
     "data": {
      "image/png": "[encoded data removed]",
      "text/plain": [
       "<Figure size 1200x800 with 1 Axes>"
      ]
     },
     "metadata": {},
     "output_type": "display_data"
    },
    {
     "name": "stdout",
     "output_type": "stream",
     "text": [
      "\n",
      "Generalization Factor Analysis:\n",
      "Passive Learning:\n",
      "  Average: 1.0234\n",
      "  Final: 1.0566\n",
      "  Range: 0.9091 - 1.0566\n",
      "SASLA (Output Sensitivity):\n",
      "  Average: 0.9486\n",
      "  Final: 0.9630\n",
      "  Range: 0.8276 - 1.0196\n",
      "Uncertainty Sampling:\n",
      "  Average: 1.0329\n",
      "  Final: 1.0642\n",
      "  Range: 0.6667 - 1.0771\n",
      "Ensemble Uncertainty:\n",
      "  Average: 0.9697\n",
      "  Final: 0.9917\n",
      "  Range: 0.8333 - 1.1128\n"
     ]
    }
   ],
   "source": [
    "# Plot 1: Generalization factor vs number of pattern presentations\n",
    "plt.figure(figsize=(12, 8))\n",
    "\n",
    "colors = ['blue', 'red', 'green', 'orange']\n",
    "markers = ['o', 's', '^', 'D']\n",
    "linestyles = ['-', '--', '-.', ':']\n",
    "\n",
    "for i, (method_name, data) in enumerate(models_data.items()):\n",
    "    presentations = data['pattern_presentations']\n",
    "    gen_factors = data['generalization_factors']\n",
    "    \n",
    "    # Plot line with markers\n",
    "    plt.plot(presentations, gen_factors, \n",
    "             color=colors[i], \n",
    "             marker=markers[i], \n",
    "             linestyle=linestyles[i],\n",
    "             linewidth=2, \n",
    "             markersize=6,\n",
    "             label=method_name,\n",
    "             alpha=0.8)\n",
    "\n",
    "plt.xlabel('Number of Pattern Presentations')\n",
    "plt.ylabel('Generalization Factor (Test Acc / Train Acc)')\n",
    "plt.legend()\n",
    "plt.grid(True, alpha=0.3)\n",
    "plt.tight_layout()\n",
    "plt.show()\n",
    "\n",
    "# Print some statistics\n",
    "print(\"\\nGeneralization Factor Analysis:\")\n",
    "for method_name, data in models_data.items():\n",
    "    gen_factors = data['generalization_factors']\n",
    "    print(f\"{method_name}:\")\n",
    "    print(f\"  Average: {np.mean(gen_factors):.4f}\")\n",
    "    print(f\"  Final: {gen_factors[-1]:.4f}\")\n",
    "    print(f\"  Range: {min(gen_factors):.4f} - {max(gen_factors):.4f}\")"
   ]
  },
  {
   "cell_type": "code",
   "execution_count": 19,
   "id": "249da9bb",
   "metadata": {},
   "outputs": [
    {
     "name": "stdout",
     "output_type": "stream",
     "text": [
      "DETAILED TRACKING ANALYSIS\n",
      "==================================================\n",
      "\n",
      "Passive Learning:\n",
      "  Data points collected: 201\n",
      "  Epoch range: 1 - 1000\n",
      "  Presentation range: 120 - 120000\n",
      "  Gen factor trend: 1.0000 → 1.0566\n",
      "  F1 score trend: 0.1667 → 0.9327\n",
      "\n",
      "SASLA (Output Sensitivity):\n",
      "  Data points collected: 201\n",
      "  Epoch range: 1 - 1000\n",
      "  Presentation range: 120 - 20000\n",
      "  Gen factor trend: 1.0000 → 0.9630\n",
      "  F1 score trend: 0.1667 → 0.8611\n",
      "\n",
      "Uncertainty Sampling:\n",
      "  Data points collected: 201\n",
      "  Epoch range: 1 - 1000\n",
      "  Presentation range: 24 - 120000\n",
      "  Gen factor trend: 0.7385 → 1.0642\n",
      "  F1 score trend: 0.2865 → 0.9666\n",
      "\n",
      "Ensemble Uncertainty:\n",
      "  Data points collected: 21\n",
      "  Epoch range: 1 - 100\n",
      "  Presentation range: 30 - 3400\n",
      "  Gen factor trend: 0.8333 → 0.9917\n",
      "  F1 score trend: 0.1667 → 0.6051\n",
      "\n",
      "Note: Generalization factor > 1 means test accuracy > train accuracy\n",
      "This can happen with small datasets or regularization effects.\n"
     ]
    }
   ],
   "source": [
    "# Detailed analysis of tracking data\n",
    "print(\"DETAILED TRACKING ANALYSIS\")\n",
    "print(\"=\" * 50)\n",
    "\n",
    "for method_name, data in models_data.items():\n",
    "    print(f\"\\n{method_name}:\")\n",
    "    presentations = data['pattern_presentations']\n",
    "    gen_factors = data['generalization_factors']\n",
    "    f1_scores = data['f1_scores']\n",
    "    epochs = data['epoch_numbers']\n",
    "    \n",
    "    print(f\"  Data points collected: {len(presentations)}\")\n",
    "    print(f\"  Epoch range: {min(epochs)} - {max(epochs)}\")\n",
    "    print(f\"  Presentation range: {min(presentations)} - {max(presentations)}\")\n",
    "    print(f\"  Gen factor trend: {gen_factors[0]:.4f} → {gen_factors[-1]:.4f}\")\n",
    "    print(f\"  F1 score trend: {f1_scores[0]:.4f} → {f1_scores[-1]:.4f}\")\n",
    "    \n",
    "    # Check for any issues in the data\n",
    "    if any(gf > 2.0 for gf in gen_factors):\n",
    "        print(f\"  Warning: Some generalization factors > 2.0 (max: {max(gen_factors):.4f})\")\n",
    "    if any(f1 < 0 or f1 > 1 for f1 in f1_scores):\n",
    "        print(f\"  Warning: F1 scores outside [0,1] range\")\n",
    "    \n",
    "print(\"\\nNote: Generalization factor > 1 means test accuracy > train accuracy\")\n",
    "print(\"This can happen with small datasets or regularization effects.\")"
   ]
  },
  {
   "cell_type": "markdown",
   "id": "7ae6319a",
   "metadata": {},
   "source": [
    "#### Plot 2: F1 score as the number of instances presented increase across the various approaches"
   ]
  },
  {
   "cell_type": "code",
   "execution_count": 20,
   "id": "7e7139cd",
   "metadata": {},
   "outputs": [
    {
     "data": {
      "image/png": "[encoded data removed]",
      "text/plain": [
       "<Figure size 1200x800 with 1 Axes>"
      ]
     },
     "metadata": {},
     "output_type": "display_data"
    },
    {
     "name": "stdout",
     "output_type": "stream",
     "text": [
      "\n",
      "F1 Score Analysis:\n",
      "Passive Learning:\n",
      "  Average: 0.8360\n",
      "  Final: 0.9327\n",
      "  Range: 0.1667 - 0.9327\n",
      "  Improvement: 0.7660\n",
      "SASLA (Output Sensitivity):\n",
      "  Average: 0.6835\n",
      "  Final: 0.8611\n",
      "  Range: 0.1667 - 0.8611\n",
      "  Improvement: 0.6944\n",
      "Uncertainty Sampling:\n",
      "  Average: 0.8990\n",
      "  Final: 0.9666\n",
      "  Range: 0.1667 - 0.9666\n",
      "  Improvement: 0.6800\n",
      "Ensemble Uncertainty:\n",
      "  Average: 0.5334\n",
      "  Final: 0.6051\n",
      "  Range: 0.1667 - 0.7963\n",
      "  Improvement: 0.4384\n"
     ]
    }
   ],
   "source": [
    "# Plot 2: F1 score vs number of epochs for each approach\n",
    "plt.figure(figsize=(12, 8))\n",
    "\n",
    "colors = ['blue', 'red', 'green', 'orange']\n",
    "markers = ['o', 's', '^', 'D']\n",
    "linestyles = ['-', '--', '-.', ':']\n",
    "\n",
    "for i, (method_name, data) in enumerate(models_data.items()):\n",
    "    epochs = data['epoch_numbers']\n",
    "    f1_scores = data['f1_scores']\n",
    "    \n",
    "    # Plot F1 score progression\n",
    "    plt.plot(epochs, f1_scores, \n",
    "             color=colors[i], \n",
    "             marker=markers[i], \n",
    "             linestyle=linestyles[i],\n",
    "             linewidth=2, \n",
    "             markersize=6,\n",
    "             label=method_name,\n",
    "             alpha=0.8)\n",
    "\n",
    "plt.xlabel('Number of Epochs')\n",
    "plt.ylabel('F1 Score (Macro Average)')\n",
    "plt.legend()\n",
    "plt.grid(True, alpha=0.3)\n",
    "plt.ylim(0, 1)  # F1 score is between 0 and 1\n",
    "plt.tight_layout()\n",
    "plt.show()\n",
    "\n",
    "# Print F1 score analysis\n",
    "print(\"\\nF1 Score Analysis:\")\n",
    "for method_name, data in models_data.items():\n",
    "    f1_scores = data['f1_scores']\n",
    "    print(f\"{method_name}:\")\n",
    "    print(f\"  Average: {np.mean(f1_scores):.4f}\")\n",
    "    print(f\"  Final: {f1_scores[-1]:.4f}\")\n",
    "    print(f\"  Range: {min(f1_scores):.4f} - {max(f1_scores):.4f}\")\n",
    "    print(f\"  Improvement: {f1_scores[-1] - f1_scores[0]:.4f}\")"
   ]
  },
  {
   "cell_type": "code",
   "execution_count": 22,
   "id": "b2dd1b16",
   "metadata": {},
   "outputs": [
    {
     "name": "stdout",
     "output_type": "stream",
     "text": [
      "PERFORMANCE COMPARISON SUMMARY\n",
      "================================================================================\n",
      "Method                    Final Test Acc  Final F1     Avg Gen Factor  Final Presentations \n",
      "--------------------------------------------------------------------------------\n",
      "Passive Learning          0.9333          0.9327       1.0234          120000              \n",
      "SASLA (Output Sensitivity) 0.8667          0.8611       0.9486          20000               \n",
      "Uncertainty Sampling      0.9667          0.9666       1.0329          120000              \n",
      "Ensemble Uncertainty      0.7000          0.6051       0.9697          3400                \n",
      "\n",
      "Method Rankings:\n",
      "\n",
      "Best Test Accuracy:\n",
      "  Uncertainty Sampling: 0.9667\n",
      "\n",
      "Best F1 Score:\n",
      "  Uncertainty Sampling: 0.9666\n",
      "\n",
      "Best Generalization Factor:\n",
      "  Uncertainty Sampling: 1.0329\n",
      "\n",
      "Most Efficient (Fewest Final Presentations):\n",
      "  Ensemble Uncertainty: 3400 presentations\n",
      "\n",
      "Learning Progress Analysis:\n",
      "Passive Learning:\n",
      "  F1 improvement during training: +0.7660\n",
      "  Generalization stability: 0.0330 (lower is better)\n",
      "SASLA (Output Sensitivity):\n",
      "  F1 improvement during training: +0.6944\n",
      "  Generalization stability: 0.0548 (lower is better)\n",
      "Uncertainty Sampling:\n",
      "  F1 improvement during training: +0.6800\n",
      "  Generalization stability: 0.0776 (lower is better)\n",
      "Ensemble Uncertainty:\n",
      "  F1 improvement during training: +0.4384\n",
      "  Generalization stability: 0.0859 (lower is better)\n"
     ]
    }
   ],
   "source": [
    "# Additional comparison analysis\n",
    "print(\"PERFORMANCE COMPARISON SUMMARY\")\n",
    "print(\"=\" * 80)\n",
    "print(f\"{'Method':<25} {'Final Test Acc':<15} {'Final F1':<12} {'Avg Gen Factor':<15} {'Final Presentations':<20}\")\n",
    "print(\"-\" * 80)\n",
    "\n",
    "for method_name, data in models_data.items():\n",
    "    final_test_acc = data['final_test_acc']\n",
    "    final_f1 = data['final_f1']\n",
    "    avg_gen_factor = np.mean(data['generalization_factors'])\n",
    "    final_presentations = data['pattern_presentations'][-1]\n",
    "    \n",
    "    print(f\"{method_name:<25} {final_test_acc:<15.4f} {final_f1:<12.4f} {avg_gen_factor:<15.4f} {final_presentations:<20.0f}\")\n",
    "\n",
    "print(\"\\nMethod Rankings:\")\n",
    "print(\"\\nBest Test Accuracy:\")\n",
    "best_acc_method = max(models_data.items(), key=lambda x: x[1]['final_test_acc'])\n",
    "print(f\"  {best_acc_method[0]}: {best_acc_method[1]['final_test_acc']:.4f}\")\n",
    "\n",
    "print(\"\\nBest F1 Score:\")\n",
    "best_f1_method = max(models_data.items(), key=lambda x: x[1]['final_f1'])\n",
    "print(f\"  {best_f1_method[0]}: {best_f1_method[1]['final_f1']:.4f}\")\n",
    "\n",
    "print(\"\\nBest Generalization Factor:\")\n",
    "best_gen_method = max(models_data.items(), key=lambda x: np.mean(x[1]['generalization_factors']))\n",
    "print(f\"  {best_gen_method[0]}: {np.mean(best_gen_method[1]['generalization_factors']):.4f}\")\n",
    "\n",
    "print(\"\\nMost Efficient (Fewest Final Presentations):\")\n",
    "most_efficient_method = min(models_data.items(), key=lambda x: x[1]['pattern_presentations'][-1])\n",
    "print(f\"  {most_efficient_method[0]}: {most_efficient_method[1]['pattern_presentations'][-1]:.0f} presentations\")\n",
    "\n",
    "# Learning curve analysis\n",
    "print(\"\\nLearning Progress Analysis:\")\n",
    "for method_name, data in models_data.items():\n",
    "    f1_improvement = data['f1_scores'][-1] - data['f1_scores'][0]\n",
    "    acc_improvement = data['final_test_acc'] - 0.3  # Assuming low starting accuracy\n",
    "    print(f\"{method_name}:\")\n",
    "    print(f\"  F1 improvement during training: {f1_improvement:+.4f}\")\n",
    "    print(f\"  Generalization stability: {np.std(data['generalization_factors']):.4f} (lower is better)\")"
   ]
  },
  {
   "cell_type": "code",
   "execution_count": null,
   "id": "f8fc32f8",
   "metadata": {},
   "outputs": [],
   "source": []
  }
 ],
 "metadata": {
  "kernelspec": {
   "display_name": "Python 3",
   "language": "python",
   "name": "python3"
  },
  "language_info": {
   "codemirror_mode": {
    "name": "ipython",
    "version": 3
   },
   "file_extension": ".py",
   "mimetype": "text/x-python",
   "name": "python",
   "nbconvert_exporter": "python",
   "pygments_lexer": "ipython3",
   "version": "3.12.4"
  }
 },
 "nbformat": 4,
 "nbformat_minor": 5
}
